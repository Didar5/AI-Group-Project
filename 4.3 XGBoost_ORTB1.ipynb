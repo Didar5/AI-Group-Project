{
 "cells": [
  {
   "cell_type": "code",
   "execution_count": 1,
   "metadata": {},
   "outputs": [],
   "source": [
    "import numpy as np\n",
    "import pandas as pd\n",
    "import math\n",
    "import random\n",
    "import matplotlib.pyplot as plt\n",
    "import os\n",
    "from sklearn import metrics"
   ]
  },
  {
   "cell_type": "code",
   "execution_count": 2,
   "metadata": {},
   "outputs": [],
   "source": [
    "pd.set_option('display.max_rows', 500)\n",
    "pd.set_option('display.max_columns', 500)"
   ]
  },
  {
   "cell_type": "markdown",
   "metadata": {},
   "source": [
    "### Importing the feature engineered validation and train sets, in order to avoid all the preprocessing"
   ]
  },
  {
   "cell_type": "code",
   "execution_count": 3,
   "metadata": {},
   "outputs": [],
   "source": [
    "train_final = pd.read_csv('train_after_engineering.csv', index_col=0) \n",
    "validation_final = pd.read_csv('validation_after_engineering.csv', index_col=0) \n",
    "test = pd.read_csv('test.csv')"
   ]
  },
  {
   "cell_type": "markdown",
   "metadata": {},
   "source": [
    "## XGBoost"
   ]
  },
  {
   "cell_type": "markdown",
   "metadata": {},
   "source": [
    "#### XGBoost training with best parameters we have already found in XGBoost_linear.ipynb file"
   ]
  },
  {
   "cell_type": "code",
   "execution_count": 4,
   "metadata": {},
   "outputs": [],
   "source": [
    "import xgboost as xgb\n",
    "\n",
    "model_xgb = xgb.XGBClassifier(base_score=0.5, booster='gbtree', colsample_bylevel=1,\n",
    "                             colsample_bytree=1, gamma=0, learning_rate=0.1, max_delta_step=0,\n",
    "                             max_depth=3, min_child_weight=1, missing=None, n_estimators=120,\n",
    "                             n_jobs=3, nthread=None, objective='binary:logistic',\n",
    "                             random_state=500, reg_alpha=1, reg_lambda=0.8, scale_pos_weight=1,\n",
    "                             seed=None, silent=False, subsample=1, verbose=10)"
   ]
  },
  {
   "cell_type": "code",
   "execution_count": 5,
   "metadata": {},
   "outputs": [],
   "source": [
    "train_final['adexchange'] = train_final['adexchange'].fillna(4)\n",
    "X_xgb = train_final.drop(columns = ['bidprice', 'payprice', 'click']).astype(float)\n",
    "y_xgb = train_final['click']  # Labels\n",
    "\n",
    "validation_final['adexchange'] = validation_final['adexchange'].fillna(4)\n",
    "X_v_xgb = validation_final.drop(columns = ['bidprice', 'payprice', 'click']).astype(float)\n",
    "y_v_xgb = validation_final['click']\n"
   ]
  },
  {
   "cell_type": "code",
   "execution_count": 6,
   "metadata": {},
   "outputs": [
    {
     "name": "stdout",
     "output_type": "stream",
     "text": [
      "[23:42:36] C:\\Users\\Administrator\\Desktop\\xgboost\\src\\tree\\updater_prune.cc:74: tree pruning end, 1 roots, 12 extra nodes, 0 pruned nodes, max_depth=3\n",
      "[23:42:36] C:\\Users\\Administrator\\Desktop\\xgboost\\src\\tree\\updater_prune.cc:74: tree pruning end, 1 roots, 12 extra nodes, 0 pruned nodes, max_depth=3\n",
      "[23:42:36] C:\\Users\\Administrator\\Desktop\\xgboost\\src\\tree\\updater_prune.cc:74: tree pruning end, 1 roots, 12 extra nodes, 0 pruned nodes, max_depth=3\n",
      "[23:42:36] C:\\Users\\Administrator\\Desktop\\xgboost\\src\\tree\\updater_prune.cc:74: tree pruning end, 1 roots, 14 extra nodes, 0 pruned nodes, max_depth=3\n",
      "[23:42:36] C:\\Users\\Administrator\\Desktop\\xgboost\\src\\tree\\updater_prune.cc:74: tree pruning end, 1 roots, 12 extra nodes, 0 pruned nodes, max_depth=3\n",
      "[23:42:36] C:\\Users\\Administrator\\Desktop\\xgboost\\src\\tree\\updater_prune.cc:74: tree pruning end, 1 roots, 14 extra nodes, 0 pruned nodes, max_depth=3\n",
      "[23:42:36] C:\\Users\\Administrator\\Desktop\\xgboost\\src\\tree\\updater_prune.cc:74: tree pruning end, 1 roots, 14 extra nodes, 0 pruned nodes, max_depth=3\n",
      "[23:42:36] C:\\Users\\Administrator\\Desktop\\xgboost\\src\\tree\\updater_prune.cc:74: tree pruning end, 1 roots, 14 extra nodes, 0 pruned nodes, max_depth=3\n",
      "[23:42:36] C:\\Users\\Administrator\\Desktop\\xgboost\\src\\tree\\updater_prune.cc:74: tree pruning end, 1 roots, 14 extra nodes, 0 pruned nodes, max_depth=3\n",
      "[23:42:36] C:\\Users\\Administrator\\Desktop\\xgboost\\src\\tree\\updater_prune.cc:74: tree pruning end, 1 roots, 14 extra nodes, 0 pruned nodes, max_depth=3\n",
      "[23:42:36] C:\\Users\\Administrator\\Desktop\\xgboost\\src\\tree\\updater_prune.cc:74: tree pruning end, 1 roots, 14 extra nodes, 0 pruned nodes, max_depth=3\n",
      "[23:42:36] C:\\Users\\Administrator\\Desktop\\xgboost\\src\\tree\\updater_prune.cc:74: tree pruning end, 1 roots, 14 extra nodes, 0 pruned nodes, max_depth=3\n",
      "[23:42:36] C:\\Users\\Administrator\\Desktop\\xgboost\\src\\tree\\updater_prune.cc:74: tree pruning end, 1 roots, 14 extra nodes, 0 pruned nodes, max_depth=3\n",
      "[23:42:36] C:\\Users\\Administrator\\Desktop\\xgboost\\src\\tree\\updater_prune.cc:74: tree pruning end, 1 roots, 14 extra nodes, 0 pruned nodes, max_depth=3\n",
      "[23:42:36] C:\\Users\\Administrator\\Desktop\\xgboost\\src\\tree\\updater_prune.cc:74: tree pruning end, 1 roots, 14 extra nodes, 0 pruned nodes, max_depth=3\n",
      "[23:42:36] C:\\Users\\Administrator\\Desktop\\xgboost\\src\\tree\\updater_prune.cc:74: tree pruning end, 1 roots, 14 extra nodes, 0 pruned nodes, max_depth=3\n",
      "[23:42:36] C:\\Users\\Administrator\\Desktop\\xgboost\\src\\tree\\updater_prune.cc:74: tree pruning end, 1 roots, 14 extra nodes, 0 pruned nodes, max_depth=3\n",
      "[23:42:37] C:\\Users\\Administrator\\Desktop\\xgboost\\src\\tree\\updater_prune.cc:74: tree pruning end, 1 roots, 14 extra nodes, 0 pruned nodes, max_depth=3\n",
      "[23:42:37] C:\\Users\\Administrator\\Desktop\\xgboost\\src\\tree\\updater_prune.cc:74: tree pruning end, 1 roots, 14 extra nodes, 0 pruned nodes, max_depth=3\n",
      "[23:42:37] C:\\Users\\Administrator\\Desktop\\xgboost\\src\\tree\\updater_prune.cc:74: tree pruning end, 1 roots, 14 extra nodes, 0 pruned nodes, max_depth=3\n",
      "[23:42:37] C:\\Users\\Administrator\\Desktop\\xgboost\\src\\tree\\updater_prune.cc:74: tree pruning end, 1 roots, 14 extra nodes, 0 pruned nodes, max_depth=3\n",
      "[23:42:37] C:\\Users\\Administrator\\Desktop\\xgboost\\src\\tree\\updater_prune.cc:74: tree pruning end, 1 roots, 14 extra nodes, 0 pruned nodes, max_depth=3\n",
      "[23:42:37] C:\\Users\\Administrator\\Desktop\\xgboost\\src\\tree\\updater_prune.cc:74: tree pruning end, 1 roots, 14 extra nodes, 0 pruned nodes, max_depth=3\n",
      "[23:42:37] C:\\Users\\Administrator\\Desktop\\xgboost\\src\\tree\\updater_prune.cc:74: tree pruning end, 1 roots, 14 extra nodes, 0 pruned nodes, max_depth=3\n",
      "[23:42:37] C:\\Users\\Administrator\\Desktop\\xgboost\\src\\tree\\updater_prune.cc:74: tree pruning end, 1 roots, 14 extra nodes, 0 pruned nodes, max_depth=3\n",
      "[23:42:37] C:\\Users\\Administrator\\Desktop\\xgboost\\src\\tree\\updater_prune.cc:74: tree pruning end, 1 roots, 14 extra nodes, 0 pruned nodes, max_depth=3\n",
      "[23:42:37] C:\\Users\\Administrator\\Desktop\\xgboost\\src\\tree\\updater_prune.cc:74: tree pruning end, 1 roots, 14 extra nodes, 0 pruned nodes, max_depth=3\n",
      "[23:42:37] C:\\Users\\Administrator\\Desktop\\xgboost\\src\\tree\\updater_prune.cc:74: tree pruning end, 1 roots, 14 extra nodes, 0 pruned nodes, max_depth=3\n",
      "[23:42:37] C:\\Users\\Administrator\\Desktop\\xgboost\\src\\tree\\updater_prune.cc:74: tree pruning end, 1 roots, 14 extra nodes, 0 pruned nodes, max_depth=3\n",
      "[23:42:37] C:\\Users\\Administrator\\Desktop\\xgboost\\src\\tree\\updater_prune.cc:74: tree pruning end, 1 roots, 14 extra nodes, 0 pruned nodes, max_depth=3\n",
      "[23:42:37] C:\\Users\\Administrator\\Desktop\\xgboost\\src\\tree\\updater_prune.cc:74: tree pruning end, 1 roots, 14 extra nodes, 0 pruned nodes, max_depth=3\n",
      "[23:42:37] C:\\Users\\Administrator\\Desktop\\xgboost\\src\\tree\\updater_prune.cc:74: tree pruning end, 1 roots, 14 extra nodes, 0 pruned nodes, max_depth=3\n",
      "[23:42:37] C:\\Users\\Administrator\\Desktop\\xgboost\\src\\tree\\updater_prune.cc:74: tree pruning end, 1 roots, 14 extra nodes, 0 pruned nodes, max_depth=3\n",
      "[23:42:37] C:\\Users\\Administrator\\Desktop\\xgboost\\src\\tree\\updater_prune.cc:74: tree pruning end, 1 roots, 14 extra nodes, 0 pruned nodes, max_depth=3\n",
      "[23:42:37] C:\\Users\\Administrator\\Desktop\\xgboost\\src\\tree\\updater_prune.cc:74: tree pruning end, 1 roots, 14 extra nodes, 0 pruned nodes, max_depth=3\n",
      "[23:42:37] C:\\Users\\Administrator\\Desktop\\xgboost\\src\\tree\\updater_prune.cc:74: tree pruning end, 1 roots, 14 extra nodes, 0 pruned nodes, max_depth=3\n",
      "[23:42:37] C:\\Users\\Administrator\\Desktop\\xgboost\\src\\tree\\updater_prune.cc:74: tree pruning end, 1 roots, 14 extra nodes, 0 pruned nodes, max_depth=3\n",
      "[23:42:37] C:\\Users\\Administrator\\Desktop\\xgboost\\src\\tree\\updater_prune.cc:74: tree pruning end, 1 roots, 14 extra nodes, 0 pruned nodes, max_depth=3\n",
      "[23:42:37] C:\\Users\\Administrator\\Desktop\\xgboost\\src\\tree\\updater_prune.cc:74: tree pruning end, 1 roots, 14 extra nodes, 0 pruned nodes, max_depth=3\n",
      "[23:42:37] C:\\Users\\Administrator\\Desktop\\xgboost\\src\\tree\\updater_prune.cc:74: tree pruning end, 1 roots, 14 extra nodes, 0 pruned nodes, max_depth=3\n",
      "[23:42:37] C:\\Users\\Administrator\\Desktop\\xgboost\\src\\tree\\updater_prune.cc:74: tree pruning end, 1 roots, 14 extra nodes, 0 pruned nodes, max_depth=3\n",
      "[23:42:37] C:\\Users\\Administrator\\Desktop\\xgboost\\src\\tree\\updater_prune.cc:74: tree pruning end, 1 roots, 14 extra nodes, 0 pruned nodes, max_depth=3\n",
      "[23:42:37] C:\\Users\\Administrator\\Desktop\\xgboost\\src\\tree\\updater_prune.cc:74: tree pruning end, 1 roots, 12 extra nodes, 0 pruned nodes, max_depth=3\n",
      "[23:42:37] C:\\Users\\Administrator\\Desktop\\xgboost\\src\\tree\\updater_prune.cc:74: tree pruning end, 1 roots, 14 extra nodes, 0 pruned nodes, max_depth=3\n",
      "[23:42:37] C:\\Users\\Administrator\\Desktop\\xgboost\\src\\tree\\updater_prune.cc:74: tree pruning end, 1 roots, 14 extra nodes, 0 pruned nodes, max_depth=3\n",
      "[23:42:37] C:\\Users\\Administrator\\Desktop\\xgboost\\src\\tree\\updater_prune.cc:74: tree pruning end, 1 roots, 14 extra nodes, 0 pruned nodes, max_depth=3\n",
      "[23:42:37] C:\\Users\\Administrator\\Desktop\\xgboost\\src\\tree\\updater_prune.cc:74: tree pruning end, 1 roots, 14 extra nodes, 0 pruned nodes, max_depth=3\n",
      "[23:42:37] C:\\Users\\Administrator\\Desktop\\xgboost\\src\\tree\\updater_prune.cc:74: tree pruning end, 1 roots, 14 extra nodes, 0 pruned nodes, max_depth=3\n",
      "[23:42:37] C:\\Users\\Administrator\\Desktop\\xgboost\\src\\tree\\updater_prune.cc:74: tree pruning end, 1 roots, 14 extra nodes, 0 pruned nodes, max_depth=3\n",
      "[23:42:37] C:\\Users\\Administrator\\Desktop\\xgboost\\src\\tree\\updater_prune.cc:74: tree pruning end, 1 roots, 14 extra nodes, 0 pruned nodes, max_depth=3\n",
      "[23:42:37] C:\\Users\\Administrator\\Desktop\\xgboost\\src\\tree\\updater_prune.cc:74: tree pruning end, 1 roots, 14 extra nodes, 0 pruned nodes, max_depth=3\n",
      "[23:42:37] C:\\Users\\Administrator\\Desktop\\xgboost\\src\\tree\\updater_prune.cc:74: tree pruning end, 1 roots, 14 extra nodes, 0 pruned nodes, max_depth=3\n",
      "[23:42:38] C:\\Users\\Administrator\\Desktop\\xgboost\\src\\tree\\updater_prune.cc:74: tree pruning end, 1 roots, 14 extra nodes, 0 pruned nodes, max_depth=3\n",
      "[23:42:38] C:\\Users\\Administrator\\Desktop\\xgboost\\src\\tree\\updater_prune.cc:74: tree pruning end, 1 roots, 14 extra nodes, 0 pruned nodes, max_depth=3\n",
      "[23:42:38] C:\\Users\\Administrator\\Desktop\\xgboost\\src\\tree\\updater_prune.cc:74: tree pruning end, 1 roots, 14 extra nodes, 0 pruned nodes, max_depth=3\n",
      "[23:42:38] C:\\Users\\Administrator\\Desktop\\xgboost\\src\\tree\\updater_prune.cc:74: tree pruning end, 1 roots, 14 extra nodes, 0 pruned nodes, max_depth=3\n",
      "[23:42:38] C:\\Users\\Administrator\\Desktop\\xgboost\\src\\tree\\updater_prune.cc:74: tree pruning end, 1 roots, 14 extra nodes, 0 pruned nodes, max_depth=3\n"
     ]
    },
    {
     "name": "stdout",
     "output_type": "stream",
     "text": [
      "[23:42:38] C:\\Users\\Administrator\\Desktop\\xgboost\\src\\tree\\updater_prune.cc:74: tree pruning end, 1 roots, 14 extra nodes, 0 pruned nodes, max_depth=3\n",
      "[23:42:38] C:\\Users\\Administrator\\Desktop\\xgboost\\src\\tree\\updater_prune.cc:74: tree pruning end, 1 roots, 14 extra nodes, 0 pruned nodes, max_depth=3\n",
      "[23:42:38] C:\\Users\\Administrator\\Desktop\\xgboost\\src\\tree\\updater_prune.cc:74: tree pruning end, 1 roots, 14 extra nodes, 0 pruned nodes, max_depth=3\n",
      "[23:42:38] C:\\Users\\Administrator\\Desktop\\xgboost\\src\\tree\\updater_prune.cc:74: tree pruning end, 1 roots, 14 extra nodes, 0 pruned nodes, max_depth=3\n",
      "[23:42:38] C:\\Users\\Administrator\\Desktop\\xgboost\\src\\tree\\updater_prune.cc:74: tree pruning end, 1 roots, 14 extra nodes, 0 pruned nodes, max_depth=3\n",
      "[23:42:38] C:\\Users\\Administrator\\Desktop\\xgboost\\src\\tree\\updater_prune.cc:74: tree pruning end, 1 roots, 14 extra nodes, 0 pruned nodes, max_depth=3\n",
      "[23:42:38] C:\\Users\\Administrator\\Desktop\\xgboost\\src\\tree\\updater_prune.cc:74: tree pruning end, 1 roots, 14 extra nodes, 0 pruned nodes, max_depth=3\n",
      "[23:42:38] C:\\Users\\Administrator\\Desktop\\xgboost\\src\\tree\\updater_prune.cc:74: tree pruning end, 1 roots, 14 extra nodes, 0 pruned nodes, max_depth=3\n",
      "[23:42:38] C:\\Users\\Administrator\\Desktop\\xgboost\\src\\tree\\updater_prune.cc:74: tree pruning end, 1 roots, 14 extra nodes, 0 pruned nodes, max_depth=3\n",
      "[23:42:38] C:\\Users\\Administrator\\Desktop\\xgboost\\src\\tree\\updater_prune.cc:74: tree pruning end, 1 roots, 14 extra nodes, 0 pruned nodes, max_depth=3\n",
      "[23:42:38] C:\\Users\\Administrator\\Desktop\\xgboost\\src\\tree\\updater_prune.cc:74: tree pruning end, 1 roots, 14 extra nodes, 0 pruned nodes, max_depth=3\n",
      "[23:42:38] C:\\Users\\Administrator\\Desktop\\xgboost\\src\\tree\\updater_prune.cc:74: tree pruning end, 1 roots, 14 extra nodes, 0 pruned nodes, max_depth=3\n",
      "[23:42:38] C:\\Users\\Administrator\\Desktop\\xgboost\\src\\tree\\updater_prune.cc:74: tree pruning end, 1 roots, 14 extra nodes, 0 pruned nodes, max_depth=3\n",
      "[23:42:38] C:\\Users\\Administrator\\Desktop\\xgboost\\src\\tree\\updater_prune.cc:74: tree pruning end, 1 roots, 14 extra nodes, 0 pruned nodes, max_depth=3\n",
      "[23:42:38] C:\\Users\\Administrator\\Desktop\\xgboost\\src\\tree\\updater_prune.cc:74: tree pruning end, 1 roots, 14 extra nodes, 0 pruned nodes, max_depth=3\n",
      "[23:42:38] C:\\Users\\Administrator\\Desktop\\xgboost\\src\\tree\\updater_prune.cc:74: tree pruning end, 1 roots, 14 extra nodes, 0 pruned nodes, max_depth=3\n",
      "[23:42:38] C:\\Users\\Administrator\\Desktop\\xgboost\\src\\tree\\updater_prune.cc:74: tree pruning end, 1 roots, 14 extra nodes, 0 pruned nodes, max_depth=3\n",
      "[23:42:38] C:\\Users\\Administrator\\Desktop\\xgboost\\src\\tree\\updater_prune.cc:74: tree pruning end, 1 roots, 14 extra nodes, 0 pruned nodes, max_depth=3\n",
      "[23:42:38] C:\\Users\\Administrator\\Desktop\\xgboost\\src\\tree\\updater_prune.cc:74: tree pruning end, 1 roots, 12 extra nodes, 0 pruned nodes, max_depth=3\n",
      "[23:42:38] C:\\Users\\Administrator\\Desktop\\xgboost\\src\\tree\\updater_prune.cc:74: tree pruning end, 1 roots, 14 extra nodes, 0 pruned nodes, max_depth=3\n",
      "[23:42:38] C:\\Users\\Administrator\\Desktop\\xgboost\\src\\tree\\updater_prune.cc:74: tree pruning end, 1 roots, 14 extra nodes, 0 pruned nodes, max_depth=3\n",
      "[23:42:38] C:\\Users\\Administrator\\Desktop\\xgboost\\src\\tree\\updater_prune.cc:74: tree pruning end, 1 roots, 14 extra nodes, 0 pruned nodes, max_depth=3\n",
      "[23:42:38] C:\\Users\\Administrator\\Desktop\\xgboost\\src\\tree\\updater_prune.cc:74: tree pruning end, 1 roots, 14 extra nodes, 0 pruned nodes, max_depth=3\n",
      "[23:42:38] C:\\Users\\Administrator\\Desktop\\xgboost\\src\\tree\\updater_prune.cc:74: tree pruning end, 1 roots, 14 extra nodes, 0 pruned nodes, max_depth=3\n",
      "[23:42:39] C:\\Users\\Administrator\\Desktop\\xgboost\\src\\tree\\updater_prune.cc:74: tree pruning end, 1 roots, 14 extra nodes, 0 pruned nodes, max_depth=3\n",
      "[23:42:39] C:\\Users\\Administrator\\Desktop\\xgboost\\src\\tree\\updater_prune.cc:74: tree pruning end, 1 roots, 14 extra nodes, 0 pruned nodes, max_depth=3\n",
      "[23:42:39] C:\\Users\\Administrator\\Desktop\\xgboost\\src\\tree\\updater_prune.cc:74: tree pruning end, 1 roots, 14 extra nodes, 0 pruned nodes, max_depth=3\n",
      "[23:42:39] C:\\Users\\Administrator\\Desktop\\xgboost\\src\\tree\\updater_prune.cc:74: tree pruning end, 1 roots, 14 extra nodes, 0 pruned nodes, max_depth=3\n",
      "[23:42:39] C:\\Users\\Administrator\\Desktop\\xgboost\\src\\tree\\updater_prune.cc:74: tree pruning end, 1 roots, 14 extra nodes, 0 pruned nodes, max_depth=3\n",
      "[23:42:39] C:\\Users\\Administrator\\Desktop\\xgboost\\src\\tree\\updater_prune.cc:74: tree pruning end, 1 roots, 14 extra nodes, 0 pruned nodes, max_depth=3\n",
      "[23:42:39] C:\\Users\\Administrator\\Desktop\\xgboost\\src\\tree\\updater_prune.cc:74: tree pruning end, 1 roots, 14 extra nodes, 0 pruned nodes, max_depth=3\n",
      "[23:42:39] C:\\Users\\Administrator\\Desktop\\xgboost\\src\\tree\\updater_prune.cc:74: tree pruning end, 1 roots, 14 extra nodes, 0 pruned nodes, max_depth=3\n",
      "[23:42:39] C:\\Users\\Administrator\\Desktop\\xgboost\\src\\tree\\updater_prune.cc:74: tree pruning end, 1 roots, 14 extra nodes, 0 pruned nodes, max_depth=3\n",
      "[23:42:39] C:\\Users\\Administrator\\Desktop\\xgboost\\src\\tree\\updater_prune.cc:74: tree pruning end, 1 roots, 14 extra nodes, 0 pruned nodes, max_depth=3\n",
      "[23:42:39] C:\\Users\\Administrator\\Desktop\\xgboost\\src\\tree\\updater_prune.cc:74: tree pruning end, 1 roots, 14 extra nodes, 0 pruned nodes, max_depth=3\n",
      "[23:42:39] C:\\Users\\Administrator\\Desktop\\xgboost\\src\\tree\\updater_prune.cc:74: tree pruning end, 1 roots, 14 extra nodes, 0 pruned nodes, max_depth=3\n",
      "[23:42:39] C:\\Users\\Administrator\\Desktop\\xgboost\\src\\tree\\updater_prune.cc:74: tree pruning end, 1 roots, 14 extra nodes, 0 pruned nodes, max_depth=3\n",
      "[23:42:39] C:\\Users\\Administrator\\Desktop\\xgboost\\src\\tree\\updater_prune.cc:74: tree pruning end, 1 roots, 14 extra nodes, 0 pruned nodes, max_depth=3\n",
      "[23:42:39] C:\\Users\\Administrator\\Desktop\\xgboost\\src\\tree\\updater_prune.cc:74: tree pruning end, 1 roots, 14 extra nodes, 0 pruned nodes, max_depth=3\n",
      "[23:42:39] C:\\Users\\Administrator\\Desktop\\xgboost\\src\\tree\\updater_prune.cc:74: tree pruning end, 1 roots, 14 extra nodes, 0 pruned nodes, max_depth=3\n",
      "[23:42:39] C:\\Users\\Administrator\\Desktop\\xgboost\\src\\tree\\updater_prune.cc:74: tree pruning end, 1 roots, 14 extra nodes, 0 pruned nodes, max_depth=3\n",
      "[23:42:39] C:\\Users\\Administrator\\Desktop\\xgboost\\src\\tree\\updater_prune.cc:74: tree pruning end, 1 roots, 14 extra nodes, 0 pruned nodes, max_depth=3\n",
      "[23:42:39] C:\\Users\\Administrator\\Desktop\\xgboost\\src\\tree\\updater_prune.cc:74: tree pruning end, 1 roots, 14 extra nodes, 0 pruned nodes, max_depth=3\n",
      "[23:42:39] C:\\Users\\Administrator\\Desktop\\xgboost\\src\\tree\\updater_prune.cc:74: tree pruning end, 1 roots, 14 extra nodes, 0 pruned nodes, max_depth=3\n",
      "[23:42:39] C:\\Users\\Administrator\\Desktop\\xgboost\\src\\tree\\updater_prune.cc:74: tree pruning end, 1 roots, 14 extra nodes, 0 pruned nodes, max_depth=3\n",
      "[23:42:39] C:\\Users\\Administrator\\Desktop\\xgboost\\src\\tree\\updater_prune.cc:74: tree pruning end, 1 roots, 14 extra nodes, 0 pruned nodes, max_depth=3\n",
      "[23:42:39] C:\\Users\\Administrator\\Desktop\\xgboost\\src\\tree\\updater_prune.cc:74: tree pruning end, 1 roots, 14 extra nodes, 0 pruned nodes, max_depth=3\n",
      "[23:42:39] C:\\Users\\Administrator\\Desktop\\xgboost\\src\\tree\\updater_prune.cc:74: tree pruning end, 1 roots, 14 extra nodes, 0 pruned nodes, max_depth=3\n",
      "[23:42:39] C:\\Users\\Administrator\\Desktop\\xgboost\\src\\tree\\updater_prune.cc:74: tree pruning end, 1 roots, 14 extra nodes, 0 pruned nodes, max_depth=3\n",
      "[23:42:39] C:\\Users\\Administrator\\Desktop\\xgboost\\src\\tree\\updater_prune.cc:74: tree pruning end, 1 roots, 14 extra nodes, 0 pruned nodes, max_depth=3\n",
      "[23:42:39] C:\\Users\\Administrator\\Desktop\\xgboost\\src\\tree\\updater_prune.cc:74: tree pruning end, 1 roots, 14 extra nodes, 0 pruned nodes, max_depth=3\n",
      "[23:42:39] C:\\Users\\Administrator\\Desktop\\xgboost\\src\\tree\\updater_prune.cc:74: tree pruning end, 1 roots, 14 extra nodes, 0 pruned nodes, max_depth=3\n",
      "[23:42:39] C:\\Users\\Administrator\\Desktop\\xgboost\\src\\tree\\updater_prune.cc:74: tree pruning end, 1 roots, 14 extra nodes, 0 pruned nodes, max_depth=3\n",
      "[23:42:39] C:\\Users\\Administrator\\Desktop\\xgboost\\src\\tree\\updater_prune.cc:74: tree pruning end, 1 roots, 14 extra nodes, 0 pruned nodes, max_depth=3\n",
      "[23:42:39] C:\\Users\\Administrator\\Desktop\\xgboost\\src\\tree\\updater_prune.cc:74: tree pruning end, 1 roots, 14 extra nodes, 0 pruned nodes, max_depth=3\n"
     ]
    },
    {
     "name": "stdout",
     "output_type": "stream",
     "text": [
      "[23:42:39] C:\\Users\\Administrator\\Desktop\\xgboost\\src\\tree\\updater_prune.cc:74: tree pruning end, 1 roots, 12 extra nodes, 0 pruned nodes, max_depth=3\n",
      "[23:42:40] C:\\Users\\Administrator\\Desktop\\xgboost\\src\\tree\\updater_prune.cc:74: tree pruning end, 1 roots, 14 extra nodes, 0 pruned nodes, max_depth=3\n",
      "[23:42:40] C:\\Users\\Administrator\\Desktop\\xgboost\\src\\tree\\updater_prune.cc:74: tree pruning end, 1 roots, 14 extra nodes, 0 pruned nodes, max_depth=3\n",
      "[23:42:40] C:\\Users\\Administrator\\Desktop\\xgboost\\src\\tree\\updater_prune.cc:74: tree pruning end, 1 roots, 14 extra nodes, 0 pruned nodes, max_depth=3\n",
      "[23:42:40] C:\\Users\\Administrator\\Desktop\\xgboost\\src\\tree\\updater_prune.cc:74: tree pruning end, 1 roots, 14 extra nodes, 0 pruned nodes, max_depth=3\n",
      "[23:42:40] C:\\Users\\Administrator\\Desktop\\xgboost\\src\\tree\\updater_prune.cc:74: tree pruning end, 1 roots, 14 extra nodes, 0 pruned nodes, max_depth=3\n",
      "[23:42:40] C:\\Users\\Administrator\\Desktop\\xgboost\\src\\tree\\updater_prune.cc:74: tree pruning end, 1 roots, 14 extra nodes, 0 pruned nodes, max_depth=3\n",
      "[23:42:40] C:\\Users\\Administrator\\Desktop\\xgboost\\src\\tree\\updater_prune.cc:74: tree pruning end, 1 roots, 14 extra nodes, 0 pruned nodes, max_depth=3\n",
      "              precision    recall  f1-score   support\n",
      "\n",
      "           0       1.00      1.00      1.00    303723\n",
      "           1       0.07      0.41      0.12       202\n",
      "\n",
      "   micro avg       1.00      1.00      1.00    303925\n",
      "   macro avg       0.53      0.70      0.56    303925\n",
      "weighted avg       1.00      1.00      1.00    303925\n",
      "\n",
      "[[302634   1089]\n",
      " [   120     82]]\n",
      "PD XGBoost AU ROC (Hold out Set):  0.8853875712637196\n"
     ]
    }
   ],
   "source": [
    "model_xgb.fit(X_xgb, y_xgb)\n",
    "pred_xgb = model_xgb.predict(X_v_xgb)\n",
    "\n",
    "print (metrics.classification_report(y_v_xgb, pred_xgb))\n",
    "print (metrics.confusion_matrix(y_v_xgb, pred_xgb))\n",
    "print ('PD XGBoost AU ROC (Hold out Set): ', metrics.roc_auc_score(y_v_xgb,  model_xgb.predict_proba(X_v_xgb)[:,1] ))"
   ]
  },
  {
   "cell_type": "code",
   "execution_count": 7,
   "metadata": {},
   "outputs": [
    {
     "data": {
      "text/plain": [
       "array([0.0239841 , 0.01590747, 0.03889485, ..., 0.06182635, 0.03165899,\n",
       "       0.04819798], dtype=float32)"
      ]
     },
     "execution_count": 7,
     "metadata": {},
     "output_type": "execute_result"
    }
   ],
   "source": [
    "predicted_XGB_CTR = model_xgb.predict_proba(X_v_xgb)[:,1]\n",
    "predicted_XGB_CTR"
   ]
  },
  {
   "cell_type": "markdown",
   "metadata": {},
   "source": [
    "#### Final recalibrated pCTRs"
   ]
  },
  {
   "cell_type": "code",
   "execution_count": 8,
   "metadata": {},
   "outputs": [],
   "source": [
    "w = 0.0073 # class 0, downsampling rate\n",
    "predicted_XGB_CTR = predicted_XGB_CTR/(predicted_XGB_CTR+((1-predicted_XGB_CTR)/w)) "
   ]
  },
  {
   "cell_type": "markdown",
   "metadata": {},
   "source": [
    "## ORTB 1 Bidding Strategy"
   ]
  },
  {
   "cell_type": "code",
   "execution_count": 9,
   "metadata": {},
   "outputs": [
    {
     "name": "stdout",
     "output_type": "stream",
     "text": [
      "Without Budget limit:  0.0 Num Clicks:  0 With Budget limit:  0.0 Num Clicks:  0 CTR:  0.0 won impressions:  80 c  0.0\n",
      "Without Budget limit:  32.365 Num Clicks:  37 With Budget limit:  32.365 Num Clicks:  37 CTR:  0.007101727447216891 won impressions:  5210 c  3.344481605351171e-08\n",
      "Without Budget limit:  67.59100000000001 Num Clicks:  46 With Budget limit:  67.59100000000001 Num Clicks:  46 CTR:  0.004765357919817673 won impressions:  9653 c  6.688963210702342e-08\n",
      "Without Budget limit:  100.29100000000001 Num Clicks:  51 With Budget limit:  100.29100000000001 Num Clicks:  51 CTR:  0.003942181340341655 won impressions:  12937 c  1.0033444816053512e-07\n",
      "Without Budget limit:  131.61900000000003 Num Clicks:  54 With Budget limit:  131.61900000000003 Num Clicks:  54 CTR:  0.003483196800619235 won impressions:  15503 c  1.3377926421404684e-07\n",
      "Without Budget limit:  166.62200000000004 Num Clicks:  59 With Budget limit:  166.62200000000004 Num Clicks:  59 CTR:  0.003307545688978585 won impressions:  17838 c  1.6722408026755856e-07\n",
      "Without Budget limit:  198.81900000000002 Num Clicks:  63 With Budget limit:  198.81900000000002 Num Clicks:  63 CTR:  0.0031824611032531826 won impressions:  19796 c  2.0066889632107025e-07\n",
      "Without Budget limit:  230.62 Num Clicks:  68 With Budget limit:  230.62 Num Clicks:  68 CTR:  0.003151796060254925 won impressions:  21575 c  2.3411371237458197e-07\n",
      "Without Budget limit:  261.31800000000004 Num Clicks:  69 With Budget limit:  261.31800000000004 Num Clicks:  69 CTR:  0.002962772124178797 won impressions:  23289 c  2.675585284280937e-07\n",
      "Without Budget limit:  293.6890000000001 Num Clicks:  73 With Budget limit:  293.6890000000001 Num Clicks:  73 CTR:  0.0029286688598250824 won impressions:  24926 c  3.010033444816054e-07\n",
      "Without Budget limit:  326.875 Num Clicks:  74 With Budget limit:  326.875 Num Clicks:  74 CTR:  0.002788454291958701 won impressions:  26538 c  3.344481605351171e-07\n",
      "Without Budget limit:  363.63400000000007 Num Clicks:  77 With Budget limit:  363.63400000000007 Num Clicks:  77 CTR:  0.002717391304347826 won impressions:  28336 c  3.678929765886288e-07\n",
      "Without Budget limit:  399.99700000000007 Num Clicks:  79 With Budget limit:  399.99700000000007 Num Clicks:  79 CTR:  0.002627989754166528 won impressions:  30061 c  4.013377926421405e-07\n",
      "Without Budget limit:  437.221 Num Clicks:  81 With Budget limit:  437.221 Num Clicks:  81 CTR:  0.002553352457207704 won impressions:  31723 c  4.3478260869565224e-07\n",
      "Without Budget limit:  477.46600000000007 Num Clicks:  82 With Budget limit:  477.46600000000007 Num Clicks:  82 CTR:  0.0024478342637093645 won impressions:  33499 c  4.6822742474916393e-07\n",
      "Without Budget limit:  520.065 Num Clicks:  82 With Budget limit:  520.065 Num Clicks:  82 CTR:  0.0023209736767619586 won impressions:  35330 c  5.016722408026756e-07\n",
      "Without Budget limit:  562.0330000000001 Num Clicks:  85 With Budget limit:  562.0330000000001 Num Clicks:  85 CTR:  0.0022878367830323257 won impressions:  37153 c  5.351170568561874e-07\n",
      "Without Budget limit:  601.9250000000001 Num Clicks:  85 With Budget limit:  601.9250000000001 Num Clicks:  85 CTR:  0.002191399401876869 won impressions:  38788 c  5.685618729096991e-07\n",
      "Without Budget limit:  642.918 Num Clicks:  86 With Budget limit:  642.918 Num Clicks:  86 CTR:  0.0021271333168439276 won impressions:  40430 c  6.020066889632107e-07\n",
      "Without Budget limit:  683.1280000000002 Num Clicks:  88 With Budget limit:  683.1280000000002 Num Clicks:  88 CTR:  0.0020920004754546536 won impressions:  42065 c  6.354515050167225e-07\n",
      "Without Budget limit:  722.9940000000003 Num Clicks:  89 With Budget limit:  722.9940000000003 Num Clicks:  89 CTR:  0.002040067849447577 won impressions:  43626 c  6.688963210702342e-07\n",
      "Without Budget limit:  768.291 Num Clicks:  90 With Budget limit:  768.291 Num Clicks:  90 CTR:  0.001982902969948004 won impressions:  45388 c  7.023411371237459e-07\n",
      "Without Budget limit:  814.083 Num Clicks:  90 With Budget limit:  814.083 Num Clicks:  90 CTR:  0.001912167760851552 won impressions:  47067 c  7.357859531772576e-07\n",
      "Without Budget limit:  855.1620000000001 Num Clicks:  90 With Budget limit:  855.1620000000001 Num Clicks:  90 CTR:  0.001853186451147946 won impressions:  48565 c  7.692307692307694e-07\n",
      "Without Budget limit:  901.0740000000001 Num Clicks:  92 With Budget limit:  901.0740000000001 Num Clicks:  92 CTR:  0.0018343867764640202 won impressions:  50153 c  8.02675585284281e-07\n",
      "Without Budget limit:  940.8830000000002 Num Clicks:  93 With Budget limit:  940.8830000000002 Num Clicks:  93 CTR:  0.0018045638000620924 won impressions:  51536 c  8.361204013377927e-07\n",
      "Without Budget limit:  980.8770000000001 Num Clicks:  94 With Budget limit:  980.8770000000001 Num Clicks:  94 CTR:  0.0017775760670183998 won impressions:  52881 c  8.695652173913045e-07\n",
      "Without Budget limit:  1020.8380000000001 Num Clicks:  94 With Budget limit:  1020.8380000000001 Num Clicks:  94 CTR:  0.0017339654313700173 won impressions:  54211 c  9.030100334448162e-07\n",
      "Without Budget limit:  1057.8430000000003 Num Clicks:  94 With Budget limit:  1057.8430000000003 Num Clicks:  94 CTR:  0.0016948235760777454 won impressions:  55463 c  9.364548494983279e-07\n",
      "Without Budget limit:  1098.4990000000003 Num Clicks:  95 With Budget limit:  1098.4990000000003 Num Clicks:  95 CTR:  0.0016702415696754457 won impressions:  56878 c  9.698996655518396e-07\n",
      "Without Budget limit:  1134.787 Num Clicks:  95 With Budget limit:  1134.787 Num Clicks:  95 CTR:  0.00163587209202211 won impressions:  58073 c  1.0033444816053512e-06\n",
      "Without Budget limit:  1177.076 Num Clicks:  95 With Budget limit:  1177.076 Num Clicks:  95 CTR:  0.001599407377476977 won impressions:  59397 c  1.036789297658863e-06\n",
      "Without Budget limit:  1215.6020000000003 Num Clicks:  96 With Budget limit:  1215.6020000000003 Num Clicks:  96 CTR:  0.0015829046299960427 won impressions:  60648 c  1.0702341137123747e-06\n",
      "Without Budget limit:  1257.9180000000001 Num Clicks:  97 With Budget limit:  1257.9180000000001 Num Clicks:  97 CTR:  0.0015641377086188825 won impressions:  62015 c  1.1036789297658864e-06\n",
      "Without Budget limit:  1299.236 Num Clicks:  98 With Budget limit:  1299.236 Num Clicks:  98 CTR:  0.0015474498657824095 won impressions:  63330 c  1.1371237458193982e-06\n",
      "Without Budget limit:  1336.8630000000003 Num Clicks:  100 With Budget limit:  1336.8630000000003 Num Clicks:  100 CTR:  0.001551638530287984 won impressions:  64448 c  1.1705685618729099e-06\n",
      "Without Budget limit:  1374.6500000000005 Num Clicks:  101 With Budget limit:  1374.6500000000005 Num Clicks:  101 CTR:  0.0015407380287706131 won impressions:  65553 c  1.2040133779264215e-06\n",
      "Without Budget limit:  1413.2530000000006 Num Clicks:  102 With Budget limit:  1413.2530000000006 Num Clicks:  102 CTR:  0.0015298317185109638 won impressions:  66674 c  1.2374581939799333e-06\n",
      "Without Budget limit:  1447.8460000000002 Num Clicks:  103 With Budget limit:  1447.8460000000002 Num Clicks:  103 CTR:  0.0015226775471586542 won impressions:  67644 c  1.270903010033445e-06\n",
      "Without Budget limit:  1482.1240000000003 Num Clicks:  103 With Budget limit:  1482.1240000000003 Num Clicks:  103 CTR:  0.0015014139529459783 won impressions:  68602 c  1.3043478260869566e-06\n",
      "Without Budget limit:  1517.3020000000001 Num Clicks:  104 With Budget limit:  1517.3020000000001 Num Clicks:  104 CTR:  0.0014945535021412353 won impressions:  69586 c  1.3377926421404685e-06\n",
      "Without Budget limit:  1555.0760000000002 Num Clicks:  106 With Budget limit:  1555.0760000000002 Num Clicks:  106 CTR:  0.0015012250562959396 won impressions:  70609 c  1.3712374581939801e-06\n",
      "Without Budget limit:  1592.3300000000002 Num Clicks:  109 With Budget limit:  1592.3300000000002 Num Clicks:  109 CTR:  0.0015225590166224334 won impressions:  71590 c  1.4046822742474917e-06\n",
      "Without Budget limit:  1630.0710000000001 Num Clicks:  109 With Budget limit:  1630.0710000000001 Num Clicks:  109 CTR:  0.0015027021065402008 won impressions:  72536 c  1.4381270903010036e-06\n",
      "Without Budget limit:  1664.3730000000005 Num Clicks:  109 With Budget limit:  1664.3730000000005 Num Clicks:  109 CTR:  0.0014845282196556985 won impressions:  73424 c  1.4715719063545152e-06\n"
     ]
    },
    {
     "name": "stdout",
     "output_type": "stream",
     "text": [
      "Without Budget limit:  1700.4450000000002 Num Clicks:  111 With Budget limit:  1700.4450000000002 Num Clicks:  111 CTR:  0.001493139628732849 won impressions:  74340 c  1.5050167224080269e-06\n",
      "Without Budget limit:  1732.7500000000002 Num Clicks:  112 With Budget limit:  1732.7500000000002 Num Clicks:  112 CTR:  0.0014893617021276596 won impressions:  75200 c  1.5384615384615387e-06\n",
      "Without Budget limit:  1766.4980000000005 Num Clicks:  112 With Budget limit:  1766.4980000000005 Num Clicks:  112 CTR:  0.0014729864800883791 won impressions:  76036 c  1.5719063545150504e-06\n",
      "Without Budget limit:  1800.187 Num Clicks:  112 With Budget limit:  1800.187 Num Clicks:  112 CTR:  0.0014566452938651823 won impressions:  76889 c  1.605351170568562e-06\n",
      "Without Budget limit:  1836.731 Num Clicks:  113 With Budget limit:  1836.731 Num Clicks:  113 CTR:  0.0014527782777506363 won impressions:  77782 c  1.6387959866220738e-06\n",
      "Without Budget limit:  1872.2380000000003 Num Clicks:  113 With Budget limit:  1872.2380000000003 Num Clicks:  113 CTR:  0.0014365258956039765 won impressions:  78662 c  1.6722408026755855e-06\n",
      "Without Budget limit:  1905.5420000000004 Num Clicks:  113 With Budget limit:  1905.5420000000004 Num Clicks:  113 CTR:  0.0014217949847125583 won impressions:  79477 c  1.7056856187290973e-06\n",
      "Without Budget limit:  1941.5960000000002 Num Clicks:  114 With Budget limit:  1941.5960000000002 Num Clicks:  114 CTR:  0.0014187398105857901 won impressions:  80353 c  1.739130434782609e-06\n",
      "Without Budget limit:  1975.406 Num Clicks:  115 With Budget limit:  1975.406 Num Clicks:  115 CTR:  0.0014172510259665035 won impressions:  81143 c  1.7725752508361206e-06\n",
      "Without Budget limit:  2007.9440000000002 Num Clicks:  116 With Budget limit:  2007.9440000000002 Num Clicks:  116 CTR:  0.001415842792627853 won impressions:  81930 c  1.8060200668896325e-06\n",
      "Without Budget limit:  2037.9280000000006 Num Clicks:  116 With Budget limit:  2037.9280000000006 Num Clicks:  116 CTR:  0.0014038824611511836 won impressions:  82628 c  1.839464882943144e-06\n",
      "Without Budget limit:  2070.2740000000003 Num Clicks:  117 With Budget limit:  2070.2740000000003 Num Clicks:  117 CTR:  0.001403769781755792 won impressions:  83347 c  1.8729096989966557e-06\n",
      "Without Budget limit:  2101.906000000001 Num Clicks:  119 With Budget limit:  2101.906000000001 Num Clicks:  119 CTR:  0.0014161777481583738 won impressions:  84029 c  1.9063545150501676e-06\n",
      "Without Budget limit:  2136.1910000000007 Num Clicks:  120 With Budget limit:  2136.1910000000007 Num Clicks:  120 CTR:  0.0014150275930380643 won impressions:  84804 c  1.9397993311036792e-06\n",
      "Without Budget limit:  2170.77 Num Clicks:  120 With Budget limit:  2170.77 Num Clicks:  120 CTR:  0.0014030492937985221 won impressions:  85528 c  1.973244147157191e-06\n",
      "Without Budget limit:  2202.897000000001 Num Clicks:  120 With Budget limit:  2202.897000000001 Num Clicks:  120 CTR:  0.001391659321798024 won impressions:  86228 c  2.0066889632107025e-06\n",
      "Without Budget limit:  2235.8740000000007 Num Clicks:  120 With Budget limit:  2235.8740000000007 Num Clicks:  120 CTR:  0.001380135253254819 won impressions:  86948 c  2.040133779264214e-06\n",
      "Without Budget limit:  2266.1010000000006 Num Clicks:  121 With Budget limit:  2266.1010000000006 Num Clicks:  121 CTR:  0.0013815939712263075 won impressions:  87580 c  2.073578595317726e-06\n",
      "Without Budget limit:  2298.1280000000006 Num Clicks:  121 With Budget limit:  2298.1280000000006 Num Clicks:  121 CTR:  0.0013706078249246733 won impressions:  88282 c  2.107023411371238e-06\n",
      "Without Budget limit:  2328.560000000001 Num Clicks:  122 With Budget limit:  2328.560000000001 Num Clicks:  122 CTR:  0.0013714028776978418 won impressions:  88960 c  2.1404682274247495e-06\n",
      "Without Budget limit:  2361.6890000000003 Num Clicks:  122 With Budget limit:  2361.6890000000003 Num Clicks:  122 CTR:  0.0013605745639470046 won impressions:  89668 c  2.173913043478261e-06\n",
      "Without Budget limit:  2392.751 Num Clicks:  123 With Budget limit:  2392.751 Num Clicks:  123 CTR:  0.0013619150962198552 won impressions:  90314 c  2.2073578595317727e-06\n",
      "Without Budget limit:  2427.7550000000006 Num Clicks:  125 With Budget limit:  2427.7550000000006 Num Clicks:  125 CTR:  0.0013734754422590925 won impressions:  91010 c  2.240802675585285e-06\n",
      "Without Budget limit:  2458.7320000000004 Num Clicks:  125 With Budget limit:  2458.7320000000004 Num Clicks:  125 CTR:  0.0013639141061452514 won impressions:  91648 c  2.2742474916387964e-06\n",
      "Without Budget limit:  2491.222 Num Clicks:  125 With Budget limit:  2491.222 Num Clicks:  125 CTR:  0.0013541034751711587 won impressions:  92312 c  2.307692307692308e-06\n",
      "Without Budget limit:  2523.743000000001 Num Clicks:  125 With Budget limit:  2523.743000000001 Num Clicks:  125 CTR:  0.0013444329719497505 won impressions:  92976 c  2.3411371237458197e-06\n",
      "Without Budget limit:  2556.0660000000007 Num Clicks:  126 With Budget limit:  2556.0660000000007 Num Clicks:  126 CTR:  0.0013456075524893739 won impressions:  93638 c  2.3745819397993314e-06\n",
      "Without Budget limit:  2587.2120000000004 Num Clicks:  127 With Budget limit:  2587.2120000000004 Num Clicks:  127 CTR:  0.0013474944031236407 won impressions:  94249 c  2.408026755852843e-06\n",
      "Without Budget limit:  2617.5630000000006 Num Clicks:  127 With Budget limit:  2617.5630000000006 Num Clicks:  127 CTR:  0.001338984480431849 won impressions:  94848 c  2.441471571906355e-06\n",
      "Without Budget limit:  2651.6370000000006 Num Clicks:  129 With Budget limit:  2651.6370000000006 Num Clicks:  129 CTR:  0.0013506014888025714 won impressions:  95513 c  2.4749163879598667e-06\n",
      "Without Budget limit:  2685.4370000000004 Num Clicks:  129 With Budget limit:  2685.4370000000004 Num Clicks:  129 CTR:  0.0013414443924504758 won impressions:  96165 c  2.5083612040133783e-06\n",
      "Without Budget limit:  2716.614 Num Clicks:  130 With Budget limit:  2716.614 Num Clicks:  130 CTR:  0.001343308258245846 won impressions:  96776 c  2.54180602006689e-06\n",
      "Without Budget limit:  2747.8770000000004 Num Clicks:  132 With Budget limit:  2747.8770000000004 Num Clicks:  132 CTR:  0.0013557790080216926 won impressions:  97361 c  2.5752508361204016e-06\n",
      "Without Budget limit:  2779.1370000000006 Num Clicks:  132 With Budget limit:  2779.1370000000006 Num Clicks:  132 CTR:  0.00134773641542954 won impressions:  97942 c  2.6086956521739132e-06\n",
      "Without Budget limit:  2808.196000000001 Num Clicks:  132 With Budget limit:  2808.196000000001 Num Clicks:  132 CTR:  0.0013401423393605897 won impressions:  98497 c  2.6421404682274253e-06\n",
      "Without Budget limit:  2838.44 Num Clicks:  133 With Budget limit:  2838.44 Num Clicks:  133 CTR:  0.0013423631647473228 won impressions:  99079 c  2.675585284280937e-06\n",
      "Without Budget limit:  2870.083 Num Clicks:  133 With Budget limit:  2870.083 Num Clicks:  133 CTR:  0.0013342696629213484 won impressions:  99680 c  2.7090301003344486e-06\n",
      "Without Budget limit:  2902.5350000000008 Num Clicks:  134 With Budget limit:  2902.5350000000008 Num Clicks:  134 CTR:  0.0013361918532183278 won impressions:  100285 c  2.7424749163879602e-06\n",
      "Without Budget limit:  2931.4950000000003 Num Clicks:  134 With Budget limit:  2931.4950000000003 Num Clicks:  134 CTR:  0.0013288904756237853 won impressions:  100836 c  2.775919732441472e-06\n",
      "Without Budget limit:  2961.2360000000003 Num Clicks:  134 With Budget limit:  2961.2360000000003 Num Clicks:  134 CTR:  0.0013217857917891456 won impressions:  101378 c  2.8093645484949835e-06\n",
      "Without Budget limit:  2990.498000000001 Num Clicks:  135 With Budget limit:  2990.498000000001 Num Clicks:  135 CTR:  0.0013244903165041304 won impressions:  101926 c  2.8428093645484955e-06\n",
      "Without Budget limit:  3019.1330000000003 Num Clicks:  135 With Budget limit:  3019.1330000000003 Num Clicks:  135 CTR:  0.0013175744917578395 won impressions:  102461 c  2.876254180602007e-06\n",
      "Without Budget limit:  3047.8510000000006 Num Clicks:  135 With Budget limit:  3047.8510000000006 Num Clicks:  135 CTR:  0.0013108577864952519 won impressions:  102986 c  2.909698996655519e-06\n",
      "Without Budget limit:  3077.3150000000005 Num Clicks:  135 With Budget limit:  3077.3150000000005 Num Clicks:  135 CTR:  0.001303919485386443 won impressions:  103534 c  2.9431438127090305e-06\n",
      "Without Budget limit:  3108.968 Num Clicks:  135 With Budget limit:  3108.968 Num Clicks:  135 CTR:  0.0012967054077418114 won impressions:  104110 c  2.976588628762542e-06\n"
     ]
    },
    {
     "name": "stdout",
     "output_type": "stream",
     "text": [
      "Without Budget limit:  3140.9440000000004 Num Clicks:  135 With Budget limit:  3140.9440000000004 Num Clicks:  135 CTR:  0.0012893243940175349 won impressions:  104706 c  3.0100334448160537e-06\n",
      "Without Budget limit:  3171.178 Num Clicks:  135 With Budget limit:  3171.178 Num Clicks:  135 CTR:  0.0012823800974608873 won impressions:  105273 c  3.043478260869566e-06\n",
      "Without Budget limit:  3202.38 Num Clicks:  135 With Budget limit:  3202.38 Num Clicks:  135 CTR:  0.0012754861019255116 won impressions:  105842 c  3.0769230769230774e-06\n",
      "Without Budget limit:  3229.9530000000004 Num Clicks:  136 With Budget limit:  3229.9530000000004 Num Clicks:  136 CTR:  0.0012788084514193834 won impressions:  106349 c  3.110367892976589e-06\n",
      "Without Budget limit:  3258.4620000000004 Num Clicks:  136 With Budget limit:  3258.4620000000004 Num Clicks:  136 CTR:  0.0012725860633111567 won impressions:  106869 c  3.1438127090301007e-06\n",
      "Without Budget limit:  3289.6600000000008 Num Clicks:  136 With Budget limit:  3289.6600000000008 Num Clicks:  136 CTR:  0.0012657638791940063 won impressions:  107445 c  3.1772575250836123e-06\n",
      "Without Budget limit:  3320.694 Num Clicks:  137 With Budget limit:  3320.694 Num Clicks:  137 CTR:  0.0012686124898140603 won impressions:  107992 c  3.210702341137124e-06\n",
      "Without Budget limit:  3348.265000000001 Num Clicks:  137 With Budget limit:  3348.265000000001 Num Clicks:  137 CTR:  0.0012627891971610287 won impressions:  108490 c  3.244147157190636e-06\n",
      "Without Budget limit:  3380.262 Num Clicks:  137 With Budget limit:  3380.262 Num Clicks:  137 CTR:  0.0012561777353957877 won impressions:  109061 c  3.2775919732441477e-06\n",
      "Without Budget limit:  3417.345000000001 Num Clicks:  138 With Budget limit:  3417.345000000001 Num Clicks:  138 CTR:  0.0012579533645694701 won impressions:  109702 c  3.3110367892976593e-06\n",
      "Without Budget limit:  3445.8480000000004 Num Clicks:  138 With Budget limit:  3445.8480000000004 Num Clicks:  138 CTR:  0.0012521549768623537 won impressions:  110210 c  3.344481605351171e-06\n",
      "Without Budget limit:  3474.402000000001 Num Clicks:  138 With Budget limit:  3474.402000000001 Num Clicks:  138 CTR:  0.001246342256421372 won impressions:  110724 c  3.3779264214046826e-06\n",
      "Without Budget limit:  3504.304000000001 Num Clicks:  138 With Budget limit:  3504.304000000001 Num Clicks:  138 CTR:  0.0012405832539240187 won impressions:  111238 c  3.4113712374581947e-06\n",
      "Without Budget limit:  3537.222000000001 Num Clicks:  138 With Budget limit:  3537.222000000001 Num Clicks:  138 CTR:  0.0012341593854243989 won impressions:  111817 c  3.4448160535117063e-06\n",
      "Without Budget limit:  3569.7760000000007 Num Clicks:  138 With Budget limit:  3569.7760000000007 Num Clicks:  138 CTR:  0.0012279328018223235 won impressions:  112384 c  3.478260869565218e-06\n",
      "Without Budget limit:  3602.7670000000007 Num Clicks:  138 With Budget limit:  3602.7670000000007 Num Clicks:  138 CTR:  0.0012218120003187336 won impressions:  112947 c  3.5117056856187296e-06\n",
      "Without Budget limit:  3634.4400000000005 Num Clicks:  138 With Budget limit:  3634.4400000000005 Num Clicks:  138 CTR:  0.0012158268944433186 won impressions:  113503 c  3.545150501672241e-06\n",
      "Without Budget limit:  3667.594 Num Clicks:  138 With Budget limit:  3667.594 Num Clicks:  138 CTR:  0.0012098258902740518 won impressions:  114066 c  3.578595317725753e-06\n",
      "Without Budget limit:  3699.5490000000004 Num Clicks:  138 With Budget limit:  3699.5490000000004 Num Clicks:  138 CTR:  0.0012039258451472191 won impressions:  114625 c  3.612040133779265e-06\n",
      "Without Budget limit:  3728.102000000001 Num Clicks:  139 With Budget limit:  3728.102000000001 Num Clicks:  139 CTR:  0.0012074881640099031 won impressions:  115115 c  3.6454849498327765e-06\n",
      "Without Budget limit:  3758.5680000000007 Num Clicks:  139 With Budget limit:  3758.5680000000007 Num Clicks:  139 CTR:  0.0012020062262193014 won impressions:  115640 c  3.678929765886288e-06\n",
      "Without Budget limit:  3791.4630000000006 Num Clicks:  139 With Budget limit:  3791.4630000000006 Num Clicks:  139 CTR:  0.001196203130782007 won impressions:  116201 c  3.7123745819398e-06\n",
      "Without Budget limit:  3817.9350000000004 Num Clicks:  140 With Budget limit:  3817.9350000000004 Num Clicks:  140 CTR:  0.001200006857182041 won impressions:  116666 c  3.7458193979933115e-06\n",
      "Without Budget limit:  3843.5330000000004 Num Clicks:  140 With Budget limit:  3843.5330000000004 Num Clicks:  140 CTR:  0.0011953960176235526 won impressions:  117116 c  3.779264214046823e-06\n",
      "Without Budget limit:  3871.606 Num Clicks:  140 With Budget limit:  3871.606 Num Clicks:  140 CTR:  0.0011905369321564025 won impressions:  117594 c  3.812709030100335e-06\n",
      "Without Budget limit:  3903.5930000000003 Num Clicks:  140 With Budget limit:  3903.5930000000003 Num Clicks:  140 CTR:  0.0011850146433952363 won impressions:  118142 c  3.846153846153847e-06\n",
      "Without Budget limit:  3935.038000000001 Num Clicks:  140 With Budget limit:  3935.038000000001 Num Clicks:  140 CTR:  0.00117981173575588 won impressions:  118663 c  3.8795986622073584e-06\n",
      "Without Budget limit:  3963.174 Num Clicks:  140 With Budget limit:  3963.174 Num Clicks:  140 CTR:  0.0011750486805881958 won impressions:  119144 c  3.91304347826087e-06\n",
      "Without Budget limit:  3990.315000000001 Num Clicks:  141 With Budget limit:  3990.315000000001 Num Clicks:  141 CTR:  0.0011790086293397553 won impressions:  119592 c  3.946488294314382e-06\n",
      "Without Budget limit:  4023.1060000000007 Num Clicks:  141 With Budget limit:  4023.1060000000007 Num Clicks:  141 CTR:  0.0011737968582203242 won impressions:  120123 c  3.979933110367893e-06\n",
      "Without Budget limit:  4052.6470000000004 Num Clicks:  142 With Budget limit:  4052.6470000000004 Num Clicks:  142 CTR:  0.0011772996725117107 won impressions:  120615 c  4.013377926421405e-06\n",
      "Without Budget limit:  4082.2620000000006 Num Clicks:  142 With Budget limit:  4082.2620000000006 Num Clicks:  142 CTR:  0.001172458778165845 won impressions:  121113 c  4.046822742474917e-06\n",
      "Without Budget limit:  4113.131 Num Clicks:  143 With Budget limit:  4113.131 Num Clicks:  143 CTR:  0.0011758611332670027 won impressions:  121613 c  4.080267558528428e-06\n",
      "Without Budget limit:  4143.999000000001 Num Clicks:  143 With Budget limit:  4143.999000000001 Num Clicks:  143 CTR:  0.0011708738977000107 won impressions:  122131 c  4.113712374581941e-06\n",
      "Without Budget limit:  4173.6 Num Clicks:  143 With Budget limit:  4173.6 Num Clicks:  143 CTR:  0.0011661094348854276 won impressions:  122630 c  4.147157190635452e-06\n",
      "Without Budget limit:  4199.785000000001 Num Clicks:  144 With Budget limit:  4199.785000000001 Num Clicks:  144 CTR:  0.001169951739490746 won impressions:  123082 c  4.180602006688964e-06\n",
      "Without Budget limit:  4233.265000000001 Num Clicks:  144 With Budget limit:  4233.265000000001 Num Clicks:  144 CTR:  0.0011647093079685529 won impressions:  123636 c  4.214046822742476e-06\n",
      "Without Budget limit:  4261.592000000001 Num Clicks:  144 With Budget limit:  4261.592000000001 Num Clicks:  144 CTR:  0.001160363903012917 won impressions:  124099 c  4.247491638795987e-06\n",
      "Without Budget limit:  4290.807000000001 Num Clicks:  144 With Budget limit:  4290.807000000001 Num Clicks:  144 CTR:  0.0011559951191317192 won impressions:  124568 c  4.280936454849499e-06\n",
      "Without Budget limit:  4316.733 Num Clicks:  145 With Budget limit:  4316.733 Num Clicks:  145 CTR:  0.001159962881187802 won impressions:  125004 c  4.3143812709030106e-06\n",
      "Without Budget limit:  4344.6630000000005 Num Clicks:  146 With Budget limit:  4344.6630000000005 Num Clicks:  146 CTR:  0.0011637824523925294 won impressions:  125453 c  4.347826086956522e-06\n",
      "Without Budget limit:  4372.642000000001 Num Clicks:  146 With Budget limit:  4372.642000000001 Num Clicks:  146 CTR:  0.0011594663278271919 won impressions:  125920 c  4.381270903010034e-06\n",
      "Without Budget limit:  4399.071000000001 Num Clicks:  146 With Budget limit:  4399.071000000001 Num Clicks:  146 CTR:  0.0011554197893337342 won impressions:  126361 c  4.4147157190635455e-06\n",
      "Without Budget limit:  4429.740000000001 Num Clicks:  146 With Budget limit:  4429.740000000001 Num Clicks:  146 CTR:  0.001150893124596005 won impressions:  126858 c  4.448160535117057e-06\n"
     ]
    },
    {
     "name": "stdout",
     "output_type": "stream",
     "text": [
      "Without Budget limit:  4457.736000000001 Num Clicks:  146 With Budget limit:  4457.736000000001 Num Clicks:  146 CTR:  0.0011467439540674067 won impressions:  127317 c  4.48160535117057e-06\n",
      "Without Budget limit:  4484.729 Num Clicks:  146 With Budget limit:  4484.729 Num Clicks:  146 CTR:  0.0011427766341314506 won impressions:  127759 c  4.515050167224081e-06\n",
      "Without Budget limit:  4515.5470000000005 Num Clicks:  147 With Budget limit:  4515.5470000000005 Num Clicks:  147 CTR:  0.0011462882096069868 won impressions:  128240 c  4.548494983277593e-06\n",
      "Without Budget limit:  4542.302 Num Clicks:  148 With Budget limit:  4542.302 Num Clicks:  148 CTR:  0.0011501488199317682 won impressions:  128679 c  4.5819397993311045e-06\n",
      "Without Budget limit:  4570.091000000001 Num Clicks:  148 With Budget limit:  4570.091000000001 Num Clicks:  148 CTR:  0.0011460519285421136 won impressions:  129139 c  4.615384615384616e-06\n",
      "Without Budget limit:  4598.2480000000005 Num Clicks:  149 With Budget limit:  4598.2480000000005 Num Clicks:  149 CTR:  0.0011499664271546436 won impressions:  129569 c  4.648829431438128e-06\n",
      "Without Budget limit:  4627.219000000001 Num Clicks:  149 With Budget limit:  4627.219000000001 Num Clicks:  149 CTR:  0.0011458541612193733 won impressions:  130034 c  4.6822742474916394e-06\n",
      "Without Budget limit:  4656.417 Num Clicks:  149 With Budget limit:  4656.417 Num Clicks:  149 CTR:  0.0011417099596953398 won impressions:  130506 c  4.715719063545151e-06\n",
      "Without Budget limit:  4686.1410000000005 Num Clicks:  150 With Budget limit:  4686.1410000000005 Num Clicks:  150 CTR:  0.0011453704127914967 won impressions:  130962 c  4.749163879598663e-06\n",
      "Without Budget limit:  4711.581 Num Clicks:  150 With Budget limit:  4711.581 Num Clicks:  150 CTR:  0.001141769743101808 won impressions:  131375 c  4.782608695652174e-06\n",
      "Without Budget limit:  4738.604 Num Clicks:  150 With Budget limit:  4738.604 Num Clicks:  150 CTR:  0.0011379585024466107 won impressions:  131815 c  4.816053511705686e-06\n",
      "Without Budget limit:  4769.066000000001 Num Clicks:  151 With Budget limit:  4769.066000000001 Num Clicks:  151 CTR:  0.0011414489598451862 won impressions:  132288 c  4.849498327759198e-06\n",
      "Without Budget limit:  4796.030000000002 Num Clicks:  151 With Budget limit:  4796.030000000002 Num Clicks:  151 CTR:  0.0011376821421575276 won impressions:  132726 c  4.88294314381271e-06\n",
      "Without Budget limit:  4820.961 Num Clicks:  151 With Budget limit:  4820.961 Num Clicks:  151 CTR:  0.0011342467399795685 won impressions:  133128 c  4.916387959866222e-06\n",
      "Without Budget limit:  4851.0390000000025 Num Clicks:  151 With Budget limit:  4851.0390000000025 Num Clicks:  151 CTR:  0.0011302395209580839 won impressions:  133600 c  4.949832775919733e-06\n",
      "Without Budget limit:  4884.391 Num Clicks:  151 With Budget limit:  4884.391 Num Clicks:  151 CTR:  0.0011259917675833682 won impressions:  134104 c  4.983277591973245e-06\n",
      "Without Budget limit:  4912.492 Num Clicks:  152 With Budget limit:  4912.492 Num Clicks:  152 CTR:  0.001129758737048654 won impressions:  134542 c  5.016722408026757e-06\n",
      "Without Budget limit:  4942.77 Num Clicks:  152 With Budget limit:  4942.77 Num Clicks:  152 CTR:  0.0011257758224829282 won impressions:  135018 c  5.050167224080268e-06\n",
      "Without Budget limit:  4973.575000000001 Num Clicks:  152 With Budget limit:  4973.575000000001 Num Clicks:  152 CTR:  0.0011218374516576625 won impressions:  135492 c  5.08361204013378e-06\n",
      "Without Budget limit:  5004.508000000002 Num Clicks:  152 With Budget limit:  5004.508000000002 Num Clicks:  152 CTR:  0.001117926540458644 won impressions:  135966 c  5.1170568561872916e-06\n",
      "Without Budget limit:  5031.091 Num Clicks:  153 With Budget limit:  5031.091 Num Clicks:  153 CTR:  0.001121733775184023 won impressions:  136396 c  5.150501672240803e-06\n",
      "Without Budget limit:  5056.028 Num Clicks:  153 With Budget limit:  5056.028 Num Clicks:  153 CTR:  0.0011186009445963532 won impressions:  136778 c  5.183946488294315e-06\n",
      "Without Budget limit:  5082.018000000001 Num Clicks:  153 With Budget limit:  5082.018000000001 Num Clicks:  153 CTR:  0.0011151278388385178 won impressions:  137204 c  5.2173913043478265e-06\n",
      "Without Budget limit:  5109.374000000002 Num Clicks:  153 With Budget limit:  5109.374000000002 Num Clicks:  153 CTR:  0.0011116843107193978 won impressions:  137629 c  5.250836120401338e-06\n",
      "Without Budget limit:  5137.136000000001 Num Clicks:  153 With Budget limit:  5137.136000000001 Num Clicks:  153 CTR:  0.0011082379017362395 won impressions:  138057 c  5.284280936454851e-06\n",
      "Without Budget limit:  5165.121000000001 Num Clicks:  153 With Budget limit:  5165.121000000001 Num Clicks:  153 CTR:  0.001104629335489647 won impressions:  138508 c  5.317725752508362e-06\n",
      "Without Budget limit:  5194.580000000001 Num Clicks:  153 With Budget limit:  5194.580000000001 Num Clicks:  153 CTR:  0.0011008778241473594 won impressions:  138980 c  5.351170568561874e-06\n",
      "Without Budget limit:  5224.714000000001 Num Clicks:  153 With Budget limit:  5224.714000000001 Num Clicks:  153 CTR:  0.0010972618654886042 won impressions:  139438 c  5.3846153846153855e-06\n",
      "Without Budget limit:  5250.589000000002 Num Clicks:  153 With Budget limit:  5250.589000000002 Num Clicks:  153 CTR:  0.0010942484015390996 won impressions:  139822 c  5.418060200668897e-06\n",
      "Without Budget limit:  5282.051000000001 Num Clicks:  153 With Budget limit:  5282.051000000001 Num Clicks:  153 CTR:  0.0010904892234006158 won impressions:  140304 c  5.451505016722409e-06\n",
      "Without Budget limit:  5310.219 Num Clicks:  153 With Budget limit:  5310.219 Num Clicks:  153 CTR:  0.0010870491943047148 won impressions:  140748 c  5.4849498327759204e-06\n",
      "Without Budget limit:  5335.722000000001 Num Clicks:  153 With Budget limit:  5335.722000000001 Num Clicks:  153 CTR:  0.0010840684451057499 won impressions:  141135 c  5.518394648829432e-06\n",
      "Without Budget limit:  5365.718000000001 Num Clicks:  154 With Budget limit:  5365.718000000001 Num Clicks:  154 CTR:  0.0010876013446707534 won impressions:  141596 c  5.551839464882944e-06\n",
      "Without Budget limit:  5397.634000000002 Num Clicks:  154 With Budget limit:  5397.634000000002 Num Clicks:  154 CTR:  0.0010839192832055857 won impressions:  142077 c  5.585284280936455e-06\n",
      "Without Budget limit:  5421.934 Num Clicks:  155 With Budget limit:  5421.934 Num Clicks:  155 CTR:  0.001088093449677433 won impressions:  142451 c  5.618729096989967e-06\n",
      "Without Budget limit:  5450.012000000002 Num Clicks:  155 With Budget limit:  5450.012000000002 Num Clicks:  155 CTR:  0.0010849023587877092 won impressions:  142870 c  5.6521739130434795e-06\n",
      "Without Budget limit:  5476.618000000001 Num Clicks:  155 With Budget limit:  5476.618000000001 Num Clicks:  155 CTR:  0.0010818054285694344 won impressions:  143279 c  5.685618729096991e-06\n",
      "Without Budget limit:  5500.514 Num Clicks:  155 With Budget limit:  5500.514 Num Clicks:  155 CTR:  0.0010790790930166178 won impressions:  143641 c  5.719063545150503e-06\n",
      "Without Budget limit:  5528.103000000001 Num Clicks:  155 With Budget limit:  5528.103000000001 Num Clicks:  155 CTR:  0.0010758808340505873 won impressions:  144068 c  5.752508361204014e-06\n",
      "Without Budget limit:  5555.041000000002 Num Clicks:  155 With Budget limit:  5555.041000000002 Num Clicks:  155 CTR:  0.0010728796782745326 won impressions:  144471 c  5.785953177257526e-06\n",
      "Without Budget limit:  5585.098999999999 Num Clicks:  155 With Budget limit:  5585.098999999999 Num Clicks:  155 CTR:  0.0010695334763978113 won impressions:  144923 c  5.819397993311038e-06\n",
      "Without Budget limit:  5613.671 Num Clicks:  156 With Budget limit:  5613.671 Num Clicks:  156 CTR:  0.001073286182128409 won impressions:  145348 c  5.852842809364549e-06\n",
      "Without Budget limit:  5641.7220000000025 Num Clicks:  156 With Budget limit:  5641.7220000000025 Num Clicks:  156 CTR:  0.001070186390796397 won impressions:  145769 c  5.886287625418061e-06\n",
      "Without Budget limit:  5672.890000000001 Num Clicks:  156 With Budget limit:  5672.890000000001 Num Clicks:  156 CTR:  0.001066768784704177 won impressions:  146236 c  5.9197324414715726e-06\n",
      "Without Budget limit:  5697.973 Num Clicks:  157 With Budget limit:  5697.973 Num Clicks:  157 CTR:  0.0010707368306189814 won impressions:  146628 c  5.953177257525084e-06\n",
      "Without Budget limit:  5721.926000000001 Num Clicks:  158 With Budget limit:  5721.926000000001 Num Clicks:  158 CTR:  0.0010749103674424618 won impressions:  146989 c  5.986622073578596e-06\n"
     ]
    },
    {
     "name": "stdout",
     "output_type": "stream",
     "text": [
      "Without Budget limit:  5750.691000000001 Num Clicks:  158 With Budget limit:  5750.691000000001 Num Clicks:  158 CTR:  0.0010718040904928263 won impressions:  147415 c  6.0200668896321075e-06\n",
      "Without Budget limit:  5779.341999999999 Num Clicks:  158 With Budget limit:  5779.341999999999 Num Clicks:  158 CTR:  0.0010687807781806374 won impressions:  147832 c  6.05351170568562e-06\n",
      "Without Budget limit:  5808.148 Num Clicks:  158 With Budget limit:  5808.148 Num Clicks:  158 CTR:  0.0010656019639448855 won impressions:  148273 c  6.086956521739132e-06\n",
      "Without Budget limit:  5836.237000000001 Num Clicks:  158 With Budget limit:  5836.237000000001 Num Clicks:  158 CTR:  0.0010627135516155935 won impressions:  148676 c  6.120401337792643e-06\n",
      "Without Budget limit:  5864.139000000001 Num Clicks:  158 With Budget limit:  5864.139000000001 Num Clicks:  158 CTR:  0.001059798101754033 won impressions:  149085 c  6.153846153846155e-06\n",
      "Without Budget limit:  5890.352000000001 Num Clicks:  159 With Budget limit:  5890.352000000001 Num Clicks:  159 CTR:  0.0010637016818528479 won impressions:  149478 c  6.1872909698996665e-06\n",
      "Without Budget limit:  5915.969000000001 Num Clicks:  159 With Budget limit:  5915.969000000001 Num Clicks:  159 CTR:  0.0010610468996076127 won impressions:  149852 c  6.220735785953178e-06\n",
      "Without Budget limit:  5943.103000000001 Num Clicks:  159 With Budget limit:  5943.103000000001 Num Clicks:  159 CTR:  0.0010582433160952818 won impressions:  150249 c  6.25418060200669e-06\n",
      "Without Budget limit:  5969.509999999999 Num Clicks:  159 With Budget limit:  5969.509999999999 Num Clicks:  159 CTR:  0.00105554559757822 won impressions:  150633 c  6.287625418060201e-06\n",
      "Without Budget limit:  5995.978000000001 Num Clicks:  159 With Budget limit:  5995.978000000001 Num Clicks:  159 CTR:  0.0010528894863356135 won impressions:  151013 c  6.321070234113713e-06\n",
      "Without Budget limit:  6022.814000000001 Num Clicks:  159 With Budget limit:  6022.814000000001 Num Clicks:  159 CTR:  0.0010501357250889973 won impressions:  151409 c  6.354515050167225e-06\n",
      "Without Budget limit:  6049.450000000001 Num Clicks:  159 With Budget limit:  6049.450000000001 Num Clicks:  159 CTR:  0.0010474101302345804 won impressions:  151803 c  6.387959866220736e-06\n",
      "Without Budget limit:  6073.114000000001 Num Clicks:  159 With Budget limit:  6073.114000000001 Num Clicks:  159 CTR:  0.0010449938877715999 won impressions:  152154 c  6.421404682274248e-06\n",
      "Without Budget limit:  6100.179 Num Clicks:  159 With Budget limit:  6100.179 Num Clicks:  159 CTR:  0.0010423017168479222 won impressions:  152547 c  6.4548494983277605e-06\n",
      "Without Budget limit:  6128.172000000001 Num Clicks:  159 With Budget limit:  6128.172000000001 Num Clicks:  159 CTR:  0.0010395893948805127 won impressions:  152945 c  6.488294314381272e-06\n",
      "Without Budget limit:  6153.974000000001 Num Clicks:  159 With Budget limit:  6153.974000000001 Num Clicks:  159 CTR:  0.0010370872849185331 won impressions:  153314 c  6.521739130434784e-06\n",
      "Without Budget limit:  6182.486000000001 Num Clicks:  159 With Budget limit:  6182.486000000001 Num Clicks:  159 CTR:  0.0010343750813187958 won impressions:  153716 c  6.555183946488295e-06\n",
      "Without Budget limit:  6206.1269999999995 Num Clicks:  159 With Budget limit:  6206.1269999999995 Num Clicks:  159 CTR:  0.001032078827454595 won impressions:  154058 c  6.588628762541807e-06\n",
      "Without Budget limit:  6234.463000000001 Num Clicks:  159 With Budget limit:  6234.463000000001 Num Clicks:  159 CTR:  0.0010293793942846784 won impressions:  154462 c  6.622073578595319e-06\n",
      "Without Budget limit:  6259.638000000002 Num Clicks:  159 With Budget limit:  6249.931000000002 Num Clicks:  159 CTR:  0.0010283740694508223 won impressions:  154613 c  6.65551839464883e-06\n",
      "Without Budget limit:  6284.298000000001 Num Clicks:  159 With Budget limit:  6249.993 Num Clicks:  158 CTR:  0.0010236475542597992 won impressions:  154350 c  6.688963210702342e-06\n",
      "Without Budget limit:  6307.503000000001 Num Clicks:  160 With Budget limit:  6249.972000000001 Num Clicks:  158 CTR:  0.0010250421694563384 won impressions:  154140 c  6.7224080267558536e-06\n",
      "Without Budget limit:  6333.599 Num Clicks:  160 With Budget limit:  6249.947 Num Clicks:  157 CTR:  0.0010202026109389112 won impressions:  153891 c  6.755852842809365e-06\n",
      "Without Budget limit:  6364.286000000001 Num Clicks:  160 With Budget limit:  6249.981000000001 Num Clicks:  157 CTR:  0.0010221820004817927 won impressions:  153593 c  6.789297658862877e-06\n",
      "Without Budget limit:  6387.036000000003 Num Clicks:  160 With Budget limit:  6249.953000000002 Num Clicks:  155 CTR:  0.0010107992487479133 won impressions:  153344 c  6.822742474916389e-06\n",
      "Without Budget limit:  6411.647000000001 Num Clicks:  160 With Budget limit:  6249.994000000001 Num Clicks:  155 CTR:  0.0010123705145454783 won impressions:  153106 c  6.856187290969901e-06\n",
      "Without Budget limit:  6432.514999999999 Num Clicks:  160 With Budget limit:  6249.9619999999995 Num Clicks:  154 CTR:  0.0010071086173183445 won impressions:  152913 c  6.889632107023413e-06\n",
      "Without Budget limit:  6454.892000000002 Num Clicks:  160 With Budget limit:  6249.999000000002 Num Clicks:  153 CTR:  0.0010020761970880845 won impressions:  152683 c  6.923076923076924e-06\n",
      "Without Budget limit:  6478.135 Num Clicks:  160 With Budget limit:  6249.955000000001 Num Clicks:  153 CTR:  0.0010034563496487902 won impressions:  152473 c  6.956521739130436e-06\n",
      "Without Budget limit:  6502.274000000001 Num Clicks:  160 With Budget limit:  6249.989000000001 Num Clicks:  152 CTR:  0.0009984169835983736 won impressions:  152241 c  6.9899665551839475e-06\n",
      "Without Budget limit:  6526.766000000002 Num Clicks:  160 With Budget limit:  6249.975000000002 Num Clicks:  150 CTR:  0.000986608434844379 won impressions:  152036 c  7.023411371237459e-06\n",
      "Without Budget limit:  6551.478000000001 Num Clicks:  160 With Budget limit:  6249.955000000001 Num Clicks:  147 CTR:  0.0009685900096859 won impressions:  151767 c  7.056856187290971e-06\n",
      "Without Budget limit:  6577.424000000001 Num Clicks:  161 With Budget limit:  6249.9360000000015 Num Clicks:  146 CTR:  0.0009635818846605684 won impressions:  151518 c  7.090301003344482e-06\n",
      "Without Budget limit:  6601.013000000001 Num Clicks:  161 With Budget limit:  6249.9540000000015 Num Clicks:  145 CTR:  0.0009583102017077749 won impressions:  151308 c  7.123745819397994e-06\n",
      "Without Budget limit:  6627.158 Num Clicks:  161 With Budget limit:  6249.999000000001 Num Clicks:  145 CTR:  0.0009598580733993539 won impressions:  151064 c  7.157190635451506e-06\n",
      "Without Budget limit:  6651.6770000000015 Num Clicks:  161 With Budget limit:  6249.991000000002 Num Clicks:  145 CTR:  0.0009613727076233541 won impressions:  150826 c  7.190635451505017e-06\n",
      "Without Budget limit:  6675.596 Num Clicks:  161 With Budget limit:  6249.991 Num Clicks:  144 CTR:  0.0009564674468961303 won impressions:  150554 c  7.22408026755853e-06\n",
      "Without Budget limit:  6701.1050000000005 Num Clicks:  161 With Budget limit:  6249.969000000001 Num Clicks:  143 CTR:  0.0009514304723885562 won impressions:  150300 c  7.2575250836120415e-06\n",
      "Without Budget limit:  6727.685000000002 Num Clicks:  161 With Budget limit:  6249.9270000000015 Num Clicks:  143 CTR:  0.0009529585029888244 won impressions:  150059 c  7.290969899665553e-06\n",
      "Without Budget limit:  6751.341000000001 Num Clicks:  161 With Budget limit:  6249.993000000001 Num Clicks:  143 CTR:  0.0009541793723768408 won impressions:  149867 c  7.324414715719065e-06\n",
      "Without Budget limit:  6775.974000000001 Num Clicks:  161 With Budget limit:  6249.964000000001 Num Clicks:  142 CTR:  0.0009489568157820874 won impressions:  149638 c  7.357859531772576e-06\n",
      "Without Budget limit:  6801.614000000001 Num Clicks:  161 With Budget limit:  6249.9980000000005 Num Clicks:  141 CTR:  0.0009436550907180479 won impressions:  149419 c  7.391304347826088e-06\n",
      "Without Budget limit:  6823.064 Num Clicks:  161 With Budget limit:  6249.934 Num Clicks:  141 CTR:  0.0009450592170083849 won impressions:  149197 c  7.4247491638796e-06\n",
      "Without Budget limit:  6849.561000000001 Num Clicks:  162 With Budget limit:  6249.929000000001 Num Clicks:  142 CTR:  0.000953365649295718 won impressions:  148946 c  7.458193979933111e-06\n"
     ]
    },
    {
     "name": "stdout",
     "output_type": "stream",
     "text": [
      "Without Budget limit:  6873.142000000001 Num Clicks:  162 With Budget limit:  6249.999000000001 Num Clicks:  142 CTR:  0.000954525594057742 won impressions:  148765 c  7.491638795986623e-06\n",
      "Without Budget limit:  6895.6410000000005 Num Clicks:  162 With Budget limit:  6249.936000000001 Num Clicks:  142 CTR:  0.0009558813630060449 won impressions:  148554 c  7.5250836120401346e-06\n",
      "Without Budget limit:  6920.846000000003 Num Clicks:  162 With Budget limit:  6249.9990000000025 Num Clicks:  142 CTR:  0.000957273254324583 won impressions:  148338 c  7.558528428093646e-06\n",
      "Without Budget limit:  6948.724 Num Clicks:  162 With Budget limit:  6249.985999999999 Num Clicks:  141 CTR:  0.0009519437205471313 won impressions:  148118 c  7.591973244147159e-06\n",
      "Without Budget limit:  6975.585000000001 Num Clicks:  163 With Budget limit:  6249.940000000001 Num Clicks:  141 CTR:  0.0009535854135246816 won impressions:  147863 c  7.62541806020067e-06\n",
      "Without Budget limit:  6996.679000000003 Num Clicks:  163 With Budget limit:  6249.985000000002 Num Clicks:  140 CTR:  0.0009480598632085054 won impressions:  147670 c  7.658862876254181e-06\n",
      "Without Budget limit:  7016.347 Num Clicks:  163 With Budget limit:  6249.946 Num Clicks:  140 CTR:  0.0009492040246250644 won impressions:  147492 c  7.692307692307694e-06\n",
      "Without Budget limit:  7038.767999999999 Num Clicks:  163 With Budget limit:  6249.969999999999 Num Clicks:  140 CTR:  0.0009504025633714852 won impressions:  147306 c  7.725752508361204e-06\n",
      "Without Budget limit:  7063.709 Num Clicks:  163 With Budget limit:  6249.990000000001 Num Clicks:  140 CTR:  0.0009515588573137493 won impressions:  147127 c  7.759197324414717e-06\n",
      "Without Budget limit:  7085.574000000001 Num Clicks:  163 With Budget limit:  6249.937000000001 Num Clicks:  139 CTR:  0.0009461253105537215 won impressions:  146915 c  7.79264214046823e-06\n",
      "Without Budget limit:  7108.034000000003 Num Clicks:  163 With Budget limit:  6249.997000000003 Num Clicks:  139 CTR:  0.0009472407354404329 won impressions:  146742 c  7.82608695652174e-06\n",
      "Without Budget limit:  7135.549000000002 Num Clicks:  163 With Budget limit:  6249.993000000001 Num Clicks:  139 CTR:  0.0009488119372828484 won impressions:  146499 c  7.859531772575253e-06\n",
      "Without Budget limit:  7154.7080000000005 Num Clicks:  163 With Budget limit:  6249.987000000001 Num Clicks:  139 CTR:  0.0009499077427731839 won impressions:  146330 c  7.892976588628763e-06\n",
      "Without Budget limit:  7178.381000000001 Num Clicks:  163 With Budget limit:  6249.9490000000005 Num Clicks:  139 CTR:  0.000951188301068205 won impressions:  146133 c  7.926421404682276e-06\n",
      "Without Budget limit:  7200.040000000001 Num Clicks:  163 With Budget limit:  6249.985000000001 Num Clicks:  139 CTR:  0.0009522113224091632 won impressions:  145976 c  7.959866220735787e-06\n",
      "Without Budget limit:  7222.814 Num Clicks:  163 With Budget limit:  6249.990000000001 Num Clicks:  138 CTR:  0.0009466643800377294 won impressions:  145775 c  7.9933110367893e-06\n",
      "Without Budget limit:  7242.699 Num Clicks:  163 With Budget limit:  6249.977 Num Clicks:  138 CTR:  0.0009476785309609323 won impressions:  145619 c  8.02675585284281e-06\n",
      "Without Budget limit:  7265.564000000001 Num Clicks:  163 With Budget limit:  6249.9850000000015 Num Clicks:  138 CTR:  0.0009490406436971322 won impressions:  145410 c  8.060200668896322e-06\n",
      "Without Budget limit:  7289.654 Num Clicks:  163 With Budget limit:  6249.988 Num Clicks:  138 CTR:  0.0009503346830840426 won impressions:  145212 c  8.093645484949833e-06\n",
      "Without Budget limit:  7310.098 Num Clicks:  163 With Budget limit:  6249.956 Num Clicks:  137 CTR:  0.0009445214309844396 won impressions:  145047 c  8.127090301003346e-06\n",
      "Without Budget limit:  7333.895999999999 Num Clicks:  163 With Budget limit:  6249.936 Num Clicks:  137 CTR:  0.0009458582455365156 won impressions:  144842 c  8.160535117056857e-06\n",
      "Without Budget limit:  7358.885 Num Clicks:  163 With Budget limit:  6249.924000000001 Num Clicks:  136 CTR:  0.0009400964981405444 won impressions:  144666 c  8.193979933110369e-06\n",
      "Without Budget limit:  7383.420000000002 Num Clicks:  163 With Budget limit:  6249.991000000002 Num Clicks:  136 CTR:  0.0009411569309979724 won impressions:  144503 c  8.227424749163881e-06\n",
      "Without Budget limit:  7407.265 Num Clicks:  163 With Budget limit:  6249.991000000001 Num Clicks:  136 CTR:  0.0009424286941818888 won impressions:  144308 c  8.260869565217392e-06\n",
      "Without Budget limit:  7430.961 Num Clicks:  163 With Budget limit:  6249.990000000001 Num Clicks:  136 CTR:  0.0009437759364894311 won impressions:  144102 c  8.294314381270905e-06\n",
      "Without Budget limit:  7456.8600000000015 Num Clicks:  163 With Budget limit:  6249.984000000001 Num Clicks:  136 CTR:  0.0009449300334894321 won impressions:  143926 c  8.327759197324416e-06\n",
      "Without Budget limit:  7478.918 Num Clicks:  163 With Budget limit:  6249.973 Num Clicks:  135 CTR:  0.0009390781730408047 won impressions:  143758 c  8.361204013377928e-06\n",
      "Without Budget limit:  7501.980000000002 Num Clicks:  163 With Budget limit:  6249.935000000002 Num Clicks:  134 CTR:  0.00093346615488572 won impressions:  143551 c  8.394648829431439e-06\n",
      "Without Budget limit:  7525.609000000003 Num Clicks:  163 With Budget limit:  6249.953000000002 Num Clicks:  133 CTR:  0.0009275273376478465 won impressions:  143392 c  8.428093645484951e-06\n",
      "Without Budget limit:  7549.602000000002 Num Clicks:  163 With Budget limit:  6249.923000000001 Num Clicks:  133 CTR:  0.0009285828987146457 won impressions:  143229 c  8.461538461538462e-06\n",
      "Without Budget limit:  7572.019000000001 Num Clicks:  163 With Budget limit:  6249.981000000002 Num Clicks:  132 CTR:  0.0009227091299272318 won impressions:  143057 c  8.494983277591975e-06\n",
      "Without Budget limit:  7594.601000000002 Num Clicks:  163 With Budget limit:  6249.981000000002 Num Clicks:  132 CTR:  0.000923658246448814 won impressions:  142910 c  8.528428093645485e-06\n",
      "Without Budget limit:  7616.407000000001 Num Clicks:  164 With Budget limit:  6249.9980000000005 Num Clicks:  132 CTR:  0.0009245963646552026 won impressions:  142765 c  8.561872909698998e-06\n",
      "Without Budget limit:  7637.999000000001 Num Clicks:  164 With Budget limit:  6249.991000000001 Num Clicks:  132 CTR:  0.0009257441018879569 won impressions:  142588 c  8.59531772575251e-06\n",
      "Without Budget limit:  7661.587000000002 Num Clicks:  164 With Budget limit:  6249.982000000002 Num Clicks:  132 CTR:  0.0009268296108017779 won impressions:  142421 c  8.628762541806021e-06\n",
      "Without Budget limit:  7681.633000000002 Num Clicks:  164 With Budget limit:  6249.861000000001 Num Clicks:  131 CTR:  0.000920603241085609 won impressions:  142298 c  8.662207357859534e-06\n",
      "Without Budget limit:  7704.617 Num Clicks:  165 With Budget limit:  6249.9839999999995 Num Clicks:  131 CTR:  0.0009216654706122392 won impressions:  142134 c  8.695652173913044e-06\n",
      "Without Budget limit:  7725.982000000001 Num Clicks:  165 With Budget limit:  6249.996 Num Clicks:  131 CTR:  0.0009225741932757722 won impressions:  141994 c  8.729096989966557e-06\n",
      "Without Budget limit:  7748.807000000001 Num Clicks:  165 With Budget limit:  6249.985000000001 Num Clicks:  131 CTR:  0.0009237842716913009 won impressions:  141808 c  8.762541806020068e-06\n",
      "Without Budget limit:  7770.856000000001 Num Clicks:  165 With Budget limit:  6249.957 Num Clicks:  131 CTR:  0.0009247559279678665 won impressions:  141659 c  8.79598662207358e-06\n",
      "Without Budget limit:  7793.514000000001 Num Clicks:  165 With Budget limit:  6249.990000000001 Num Clicks:  131 CTR:  0.0009257819677460389 won impressions:  141502 c  8.829431438127091e-06\n",
      "Without Budget limit:  7816.175000000001 Num Clicks:  165 With Budget limit:  6249.976000000001 Num Clicks:  131 CTR:  0.0009266791638665864 won impressions:  141365 c  8.862876254180603e-06\n",
      "Without Budget limit:  7839.053 Num Clicks:  165 With Budget limit:  6249.991999999999 Num Clicks:  130 CTR:  0.0009207972687736397 won impressions:  141182 c  8.896321070234114e-06\n",
      "Without Budget limit:  7859.717 Num Clicks:  165 With Budget limit:  6249.985999999999 Num Clicks:  130 CTR:  0.0009219008176551098 won impressions:  141013 c  8.929765886287627e-06\n"
     ]
    },
    {
     "name": "stdout",
     "output_type": "stream",
     "text": [
      "Without Budget limit:  7879.381 Num Clicks:  166 With Budget limit:  6249.983 Num Clicks:  130 CTR:  0.0009228628625786208 won impressions:  140866 c  8.96321070234114e-06\n",
      "Without Budget limit:  7901.905000000001 Num Clicks:  166 With Budget limit:  6249.996000000001 Num Clicks:  129 CTR:  0.0009167140420693576 won impressions:  140720 c  8.99665551839465e-06\n",
      "Without Budget limit:  7927.803000000002 Num Clicks:  166 With Budget limit:  6249.981000000002 Num Clicks:  129 CTR:  0.0009180122543961401 won impressions:  140521 c  9.030100334448162e-06\n",
      "Without Budget limit:  7951.0779999999995 Num Clicks:  166 With Budget limit:  6249.938999999999 Num Clicks:  129 CTR:  0.000919150391529566 won impressions:  140347 c  9.063545150501673e-06\n",
      "Without Budget limit:  7976.215000000001 Num Clicks:  166 With Budget limit:  6249.920000000001 Num Clicks:  129 CTR:  0.0009202519635608757 won impressions:  140179 c  9.096989966555186e-06\n",
      "Without Budget limit:  8001.085000000001 Num Clicks:  166 With Budget limit:  6249.953000000001 Num Clicks:  129 CTR:  0.0009215141405987698 won impressions:  139987 c  9.130434782608697e-06\n",
      "Without Budget limit:  8029.322000000001 Num Clicks:  166 With Budget limit:  6249.981 Num Clicks:  128 CTR:  0.0009156592030903499 won impressions:  139790 c  9.163879598662209e-06\n",
      "Without Budget limit:  8048.651000000001 Num Clicks:  166 With Budget limit:  6249.966000000001 Num Clicks:  128 CTR:  0.0009165509043779626 won impressions:  139654 c  9.19732441471572e-06\n",
      "Without Budget limit:  8072.051 Num Clicks:  166 With Budget limit:  6249.802 Num Clicks:  128 CTR:  0.0009176942930886148 won impressions:  139480 c  9.230769230769232e-06\n",
      "Without Budget limit:  8094.753 Num Clicks:  166 With Budget limit:  6249.948 Num Clicks:  128 CTR:  0.0009187877743801772 won impressions:  139314 c  9.264214046822743e-06\n",
      "Without Budget limit:  8118.909000000002 Num Clicks:  166 With Budget limit:  6249.995000000001 Num Clicks:  127 CTR:  0.0009126907128330063 won impressions:  139149 c  9.297658862876256e-06\n",
      "Without Budget limit:  8140.905999999999 Num Clicks:  166 With Budget limit:  6249.974 Num Clicks:  127 CTR:  0.0009136296274980936 won impressions:  139006 c  9.331103678929766e-06\n",
      "Without Budget limit:  8164.9980000000005 Num Clicks:  166 With Budget limit:  6249.986 Num Clicks:  127 CTR:  0.0009147681026845202 won impressions:  138833 c  9.364548494983279e-06\n",
      "Without Budget limit:  8188.550000000002 Num Clicks:  167 With Budget limit:  6249.998000000001 Num Clicks:  127 CTR:  0.0009157839326790646 won impressions:  138679 c  9.397993311036791e-06\n",
      "Without Budget limit:  8211.324999999999 Num Clicks:  167 With Budget limit:  6249.929000000001 Num Clicks:  126 CTR:  0.0009096093733080183 won impressions:  138521 c  9.431438127090302e-06\n",
      "Without Budget limit:  8232.051000000001 Num Clicks:  167 With Budget limit:  6249.9850000000015 Num Clicks:  126 CTR:  0.0009105625252934035 won impressions:  138376 c  9.464882943143815e-06\n",
      "Without Budget limit:  8252.154999999999 Num Clicks:  167 With Budget limit:  6249.979 Num Clicks:  125 CTR:  0.000904368461416024 won impressions:  138218 c  9.498327759197325e-06\n",
      "Without Budget limit:  8276.218 Num Clicks:  167 With Budget limit:  6249.9980000000005 Num Clicks:  125 CTR:  0.0009056264761711562 won impressions:  138026 c  9.531772575250838e-06\n",
      "Without Budget limit:  8296.605000000001 Num Clicks:  167 With Budget limit:  6249.9850000000015 Num Clicks:  125 CTR:  0.0009064999673660012 won impressions:  137893 c  9.565217391304349e-06\n",
      "Without Budget limit:  8315.521 Num Clicks:  167 With Budget limit:  6249.962 Num Clicks:  125 CTR:  0.0009073290410620831 won impressions:  137767 c  9.598662207357861e-06\n",
      "Without Budget limit:  8333.995 Num Clicks:  167 With Budget limit:  6249.975000000001 Num Clicks:  124 CTR:  0.0009009074462906589 won impressions:  137639 c  9.632107023411372e-06\n",
      "Without Budget limit:  8355.275 Num Clicks:  167 With Budget limit:  6249.963 Num Clicks:  122 CTR:  0.0008873114463176575 won impressions:  137494 c  9.665551839464884e-06\n",
      "Without Budget limit:  8377.602 Num Clicks:  167 With Budget limit:  6249.964000000001 Num Clicks:  122 CTR:  0.0008884810615163895 won impressions:  137313 c  9.698996655518395e-06\n",
      "Without Budget limit:  8399.433 Num Clicks:  167 With Budget limit:  6249.93 Num Clicks:  122 CTR:  0.0008892776441431591 won impressions:  137190 c  9.732441471571908e-06\n",
      "Without Budget limit:  8421.01 Num Clicks:  167 With Budget limit:  6249.973000000002 Num Clicks:  122 CTR:  0.0008900691627513351 won impressions:  137068 c  9.76588628762542e-06\n",
      "Without Budget limit:  8439.72 Num Clicks:  167 With Budget limit:  6249.967000000001 Num Clicks:  122 CTR:  0.0008907580204728318 won impressions:  136962 c  9.799331103678931e-06\n",
      "Without Budget limit:  8461.435000000001 Num Clicks:  167 With Budget limit:  6249.993 Num Clicks:  122 CTR:  0.0008915847553622976 won impressions:  136835 c  9.832775919732443e-06\n",
      "Without Budget limit:  8480.312 Num Clicks:  167 With Budget limit:  6249.993 Num Clicks:  122 CTR:  0.0008922433337721416 won impressions:  136734 c  9.866220735785954e-06\n",
      "Without Budget limit:  8503.041000000001 Num Clicks:  167 With Budget limit:  6249.943 Num Clicks:  122 CTR:  0.0008933344072872656 won impressions:  136567 c  9.899665551839467e-06\n",
      "Without Budget limit:  8525.493000000002 Num Clicks:  167 With Budget limit:  6249.989000000001 Num Clicks:  122 CTR:  0.0008942183651929166 won impressions:  136432 c  9.933110367892978e-06\n",
      "Without Budget limit:  8548.259000000002 Num Clicks:  167 With Budget limit:  6249.932000000001 Num Clicks:  122 CTR:  0.0008953142773272668 won impressions:  136265 c  9.96655518394649e-06\n",
      "Without Budget limit:  8569.702 Num Clicks:  167 With Budget limit:  6249.988000000001 Num Clicks:  122 CTR:  0.0008963206770894557 won impressions:  136112 c  1e-05\n"
     ]
    },
    {
     "data": {
      "image/png": "[encoded data removed]",
      "text/plain": [
       "<Figure size 432x288 with 1 Axes>"
      ]
     },
     "metadata": {
      "needs_background": "light"
     },
     "output_type": "display_data"
    },
    {
     "name": "stdout",
     "output_type": "stream",
     "text": [
      "Optimal c is:  6.1872909698996665e-06 , Optimal num clicks:  159 , impressions: 149478\n",
      "budget spent: 5890.352000000001 , avgCPM: 39.40614672393262 , avgCPC: 37.046238993710695\n",
      "CTR:  0.10637016818528479 %\n"
     ]
    }
   ],
   "source": [
    "budget = 6250\n",
    "optimal_basebid = 0\n",
    "optimal_num_clicks = 0\n",
    "num_won_auctions = 0\n",
    "base_bids_array = []\n",
    "num_clicks_array = []\n",
    "\n",
    "lambda_ortb = 5.2e-7 \n",
    "avg_ctr = 7.375e-04 \n",
    "\n",
    "\n",
    "# Line search to find optimal constant variable c, with fixed λ\n",
    "for bid in np.linspace(0.0, 0.00001, 300):\n",
    "    validation_final['bid'] = np.sqrt( ((bid/lambda_ortb)*predicted_XGB_CTR) + np.square(bid)) - bid\n",
    "    \n",
    "    Won_Auctions = validation_final[ (validation_final['bid'] >= validation_final['slotprice']) & (validation_final['bid'] >=validation_final['payprice']) ]\n",
    "    exceeding_indexes = np.flatnonzero( (Won_Auctions['payprice'].cumsum().values) > budget  )\n",
    "    \n",
    "    # Budget exceeded\n",
    "    if len(exceeding_indexes) > 0:\n",
    "        # Gives the first index as soon as the sum of the payprice exceeds the budget\n",
    "        ExceedBudget_Index = exceeding_indexes[0]\n",
    "        # Only consider the won auctions UP to ExceedBudget_Index\n",
    "        num_clicks = Won_Auctions[:ExceedBudget_Index]['click'].sum()\n",
    "        budget_spent = Won_Auctions[:ExceedBudget_Index]['payprice'].sum()\n",
    "        num_won_auctions = len(Won_Auctions[:ExceedBudget_Index])\n",
    "    \n",
    "    # No budget exceeded\n",
    "    else:\n",
    "        num_clicks = Won_Auctions[:]['click'].sum()\n",
    "        budget_spent = Won_Auctions[:]['payprice'].sum()\n",
    "        num_won_auctions = len(Won_Auctions[:])\n",
    "    \n",
    "    # Max clicks achieved --> optimal c\n",
    "    if num_clicks > optimal_num_clicks:\n",
    "        optimal_basebid = bid\n",
    "        optimal_num_clicks = num_clicks\n",
    "        optimal_impressions = num_won_auctions\n",
    "        opt_budget = budget_spent\n",
    "    \n",
    "    print ('Without Budget limit: ', Won_Auctions['payprice'].sum(), 'Num Clicks: ',Won_Auctions['click'].sum() , \n",
    "           'With Budget limit: ', budget_spent, \"Num Clicks: \", num_clicks , \n",
    "           \"CTR: \", num_clicks/num_won_auctions, 'won impressions: ', num_won_auctions , \"c \", bid)\n",
    "    \n",
    "    base_bids_array.append(bid)\n",
    "    num_clicks_array.append(num_clicks)\n",
    "\n",
    "\n",
    "# bids vs number of clicks, plot\n",
    "plt.plot(base_bids_array, num_clicks_array)\n",
    "plt.xlabel(\"c value\")\n",
    "plt.ylabel(\"KPI\")\n",
    "plt.title(\"c vs KPI \")\n",
    "plt.show()\n",
    "\n",
    "\n",
    "avgCPM = (opt_budget/optimal_impressions)*1000\n",
    "avgCPC = (opt_budget/optimal_num_clicks)\n",
    "\n",
    "optimal_bids = np.sqrt( ((optimal_basebid/lambda_ortb)*predicted_XGB_CTR) + np.square(optimal_basebid)) - optimal_basebid\n",
    "\n",
    "\n",
    "print (\"Optimal c is: \", optimal_basebid, \", Optimal num clicks: \", optimal_num_clicks, ', impressions:', optimal_impressions)\n",
    "print('budget spent:', opt_budget , ', avgCPM:', avgCPM, ', avgCPC:', avgCPC)\n",
    "print('CTR: ' , (optimal_num_clicks/optimal_impressions)*100, '%')"
   ]
  },
  {
   "cell_type": "markdown",
   "metadata": {},
   "source": [
    "## Optimal bids for the validation set\n"
   ]
  },
  {
   "cell_type": "code",
   "execution_count": 17,
   "metadata": {},
   "outputs": [],
   "source": [
    "optimal_bids = optimal_bids * 1000\n",
    "aaa = pd.DataFrame(optimal_bids)\n",
    "aaa.to_csv('optimalbids_validation_ortb1.csv')"
   ]
  },
  {
   "cell_type": "markdown",
   "metadata": {},
   "source": [
    "## Optimal bids for the test set\n",
    "\n",
    "Similar steps of feature engineering must take place"
   ]
  },
  {
   "cell_type": "code",
   "execution_count": 10,
   "metadata": {},
   "outputs": [],
   "source": [
    "def preprocess_df(df):\n",
    "\n",
    "    \n",
    "    #---real price-----    \n",
    "    if 'bidprice' and 'payprice' in df.columns:\n",
    "        df['bidprice'] = df['bidprice'].apply( lambda x: x/1000.0 )\n",
    "        df['payprice'] = df['payprice'].apply( lambda x: x/1000.0 )\n",
    "       \n",
    "        \n",
    "    #---slot area-----  \n",
    "    df['slot_area']=df['slotwidth'] * df['slotheight'] \n",
    "    \n",
    "    #----real price---   \n",
    "    df['slotprice'] = df['slotprice'].apply( lambda x: x/1000.0 )\n",
    "    \n",
    "    \n",
    "    # ----browser/OS splitting--    \n",
    "    df['OS'] = df['useragent'].apply( lambda x: x.split('_')[0] )\n",
    "    df['browser'] = df['useragent'].apply( lambda x: x.split('_')[1] ) \n",
    "    df['OS'] = df['OS'].astype('category')\n",
    "    df['browser'] = df['browser'].astype('category')\n",
    "    cat_columns = df.select_dtypes(['category']).columns\n",
    "    df[cat_columns] = df[cat_columns].apply(lambda x: x.cat.codes)\n",
    "    \n",
    "    \n",
    "    df['advertiser'] = df['advertiser'].astype('category')\n",
    "    df['adexchange'] = df['adexchange'].astype('category')\n",
    "    df['city'] = df['city'].astype('category')\n",
    "    df['region'] = df['region'].astype('category')\n",
    "    df['weekday'] = df['weekday'].astype('category')\n",
    "\n",
    "    return df   \n",
    "        \n",
    "\n",
    "def tag(df):\n",
    "    df['usertag'] = df['usertag'].apply(lambda x: str(x).split(','))\n",
    "    \n",
    "    AllTags = np.array(df['usertag'])\n",
    "    Tags = [tag for usertags in AllTags for tag in usertags]\n",
    "    Tags = list(set(Tags))\n",
    "    \n",
    "    for t in Tags:\n",
    "        df['usertag_' + t] = df['usertag'].apply(lambda x: int(t in x))\n",
    "    \n",
    "    return df\n"
   ]
  },
  {
   "cell_type": "code",
   "execution_count": 11,
   "metadata": {},
   "outputs": [],
   "source": [
    "test_final = preprocess_df(test)\n",
    "test_final = tag(test)"
   ]
  },
  {
   "cell_type": "code",
   "execution_count": 12,
   "metadata": {},
   "outputs": [],
   "source": [
    "# Dropping the same columns as before, except for bidid\n",
    "test_final = test_final.drop(columns = ['usertag', 'useragent', 'slotheight', 'slotwidth','urlid','IP', 'domain', 'url','slotid', 'keypage','userid', 'creative', 'slotvisibility','slotformat'])"
   ]
  },
  {
   "cell_type": "code",
   "execution_count": 13,
   "metadata": {},
   "outputs": [
    {
     "data": {
      "text/plain": [
       "(303375, 80)"
      ]
     },
     "execution_count": 13,
     "metadata": {},
     "output_type": "execute_result"
    }
   ],
   "source": [
    "test_final.shape"
   ]
  },
  {
   "cell_type": "code",
   "execution_count": 14,
   "metadata": {},
   "outputs": [],
   "source": [
    "test_final_final = pd.DataFrame(0, index=range(0,len(test_final)), columns=list( train_final.columns ))\n",
    "\n",
    "for col in train_final:\n",
    "    if col in test_final:\n",
    "        test_final_final[col] = np.array( test_final[col] )"
   ]
  },
  {
   "cell_type": "code",
   "execution_count": 15,
   "metadata": {},
   "outputs": [
    {
     "data": {
      "text/plain": [
       "(303375, 80)"
      ]
     },
     "execution_count": 15,
     "metadata": {},
     "output_type": "execute_result"
    }
   ],
   "source": [
    "test_final_final.shape"
   ]
  },
  {
   "cell_type": "code",
   "execution_count": 16,
   "metadata": {},
   "outputs": [],
   "source": [
    "test_final_final['adexchange'] = test_final_final['adexchange'].fillna(4)\n",
    "X_test = test_final_final.astype(float)\n",
    "X_test = X_test.drop(columns = ['bidprice', 'payprice', 'click'])\n",
    "\n",
    "test_pred = model_xgb.predict(X_test)"
   ]
  },
  {
   "cell_type": "markdown",
   "metadata": {},
   "source": [
    "#### pCTR for the test set"
   ]
  },
  {
   "cell_type": "code",
   "execution_count": 17,
   "metadata": {},
   "outputs": [
    {
     "data": {
      "text/plain": [
       "array([0.15464635, 0.25799447, 0.01843025, ..., 0.01211043, 0.14158835,\n",
       "       0.01245131], dtype=float32)"
      ]
     },
     "execution_count": 17,
     "metadata": {},
     "output_type": "execute_result"
    }
   ],
   "source": [
    "test_pCTR = model_xgb.predict_proba(X_test)[:,1]\n",
    "test_pCTR"
   ]
  },
  {
   "cell_type": "markdown",
   "metadata": {},
   "source": [
    "#### Recalibration of the pCTR"
   ]
  },
  {
   "cell_type": "code",
   "execution_count": 18,
   "metadata": {},
   "outputs": [
    {
     "data": {
      "text/plain": [
       "array([1.3336581e-03, 2.5317755e-03, 1.3704824e-04, ..., 8.9481917e-05,\n",
       "       1.2026303e-03, 9.2032140e-05], dtype=float32)"
      ]
     },
     "execution_count": 18,
     "metadata": {},
     "output_type": "execute_result"
    }
   ],
   "source": [
    "test_pCTR_final = test_pCTR/(test_pCTR+((1-test_pCTR)/w)) \n",
    "test_pCTR_final"
   ]
  },
  {
   "cell_type": "code",
   "execution_count": 19,
   "metadata": {},
   "outputs": [],
   "source": [
    "final_bids = np.sqrt( ((optimal_basebid/lambda_ortb)*test_pCTR_final) + np.square(optimal_basebid)) - test_pCTR_final"
   ]
  },
  {
   "cell_type": "code",
   "execution_count": 20,
   "metadata": {},
   "outputs": [
    {
     "name": "stderr",
     "output_type": "stream",
     "text": [
      "C:\\Users\\apogn\\AppData\\Local\\Continuum\\anaconda3\\lib\\site-packages\\ipykernel_launcher.py:2: SettingWithCopyWarning: \n",
      "A value is trying to be set on a copy of a slice from a DataFrame.\n",
      "Try using .loc[row_indexer,col_indexer] = value instead\n",
      "\n",
      "See the caveats in the documentation: http://pandas.pydata.org/pandas-docs/stable/indexing.html#indexing-view-versus-copy\n",
      "  \n"
     ]
    }
   ],
   "source": [
    "bbb = test[['bidid']]\n",
    "bbb['bidprice'] = final_bids*1000\n",
    "bbb.to_csv('Group_14_ortb1.csv', index=False)"
   ]
  },
  {
   "cell_type": "code",
   "execution_count": null,
   "metadata": {},
   "outputs": [],
   "source": []
  }
 ],
 "metadata": {
  "kernelspec": {
   "display_name": "Python 3",
   "language": "python",
   "name": "python3"
  },
  "language_info": {
   "codemirror_mode": {
    "name": "ipython",
    "version": 3
   },
   "file_extension": ".py",
   "mimetype": "text/x-python",
   "name": "python",
   "nbconvert_exporter": "python",
   "pygments_lexer": "ipython3",
   "version": "3.7.1"
  }
 },
 "nbformat": 4,
 "nbformat_minor": 2
}
