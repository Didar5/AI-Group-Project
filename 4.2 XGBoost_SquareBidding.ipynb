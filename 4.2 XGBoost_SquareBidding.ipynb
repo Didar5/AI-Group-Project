{
 "cells": [
  {
   "cell_type": "code",
   "execution_count": 12,
   "metadata": {},
   "outputs": [],
   "source": [
    "import numpy as np\n",
    "import pandas as pd\n",
    "import math\n",
    "import random\n",
    "import matplotlib.pyplot as plt\n",
    "import os\n",
    "from sklearn import metrics"
   ]
  },
  {
   "cell_type": "code",
   "execution_count": 13,
   "metadata": {},
   "outputs": [],
   "source": [
    "pd.set_option('display.max_rows', 500)\n",
    "pd.set_option('display.max_columns', 500)"
   ]
  },
  {
   "cell_type": "markdown",
   "metadata": {},
   "source": [
    "### Importing the feature engineered validation and train sets, in order to avoid all the preprocessing"
   ]
  },
  {
   "cell_type": "code",
   "execution_count": 14,
   "metadata": {},
   "outputs": [],
   "source": [
    "train_final = pd.read_csv('train_after_engineering.csv', index_col=0) \n",
    "validation_final = pd.read_csv('validation_after_engineering.csv', index_col=0) \n",
    "test = pd.read_csv('test.csv')"
   ]
  },
  {
   "cell_type": "markdown",
   "metadata": {},
   "source": [
    "## XGBoost"
   ]
  },
  {
   "cell_type": "markdown",
   "metadata": {},
   "source": [
    "#### XGBoost training with best parameters we have already found in XGBoost_linear.ipynb file"
   ]
  },
  {
   "cell_type": "code",
   "execution_count": 15,
   "metadata": {},
   "outputs": [],
   "source": [
    "import xgboost as xgb\n",
    "\n",
    "model_xgb = xgb.XGBClassifier(base_score=0.5, booster='gbtree', colsample_bylevel=1,\n",
    "                             colsample_bytree=1, gamma=0, learning_rate=0.1, max_delta_step=0,\n",
    "                             max_depth=3, min_child_weight=1, missing=None, n_estimators=120,\n",
    "                             n_jobs=3, nthread=None, objective='binary:logistic',\n",
    "                             random_state=500, reg_alpha=1, reg_lambda=0.8, scale_pos_weight=1,\n",
    "                             seed=None, silent=False, subsample=1, verbose=10)"
   ]
  },
  {
   "cell_type": "code",
   "execution_count": 16,
   "metadata": {},
   "outputs": [],
   "source": [
    "train_final['adexchange'] = train_final['adexchange'].fillna(4)\n",
    "X_xgb = train_final.drop(columns = ['bidprice', 'payprice', 'click']).astype(float)\n",
    "y_xgb = train_final['click']  # Labels\n",
    "\n",
    "validation_final['adexchange'] = validation_final['adexchange'].fillna(4)\n",
    "X_v_xgb = validation_final.drop(columns = ['bidprice', 'payprice', 'click']).astype(float)\n",
    "y_v_xgb = validation_final['click']\n"
   ]
  },
  {
   "cell_type": "code",
   "execution_count": 17,
   "metadata": {},
   "outputs": [
    {
     "name": "stdout",
     "output_type": "stream",
     "text": [
      "[19:52:35] C:\\Users\\Administrator\\Desktop\\xgboost\\src\\tree\\updater_prune.cc:74: tree pruning end, 1 roots, 12 extra nodes, 0 pruned nodes, max_depth=3\n",
      "[19:52:35] C:\\Users\\Administrator\\Desktop\\xgboost\\src\\tree\\updater_prune.cc:74: tree pruning end, 1 roots, 12 extra nodes, 0 pruned nodes, max_depth=3\n",
      "[19:52:35] C:\\Users\\Administrator\\Desktop\\xgboost\\src\\tree\\updater_prune.cc:74: tree pruning end, 1 roots, 12 extra nodes, 0 pruned nodes, max_depth=3\n",
      "[19:52:35] C:\\Users\\Administrator\\Desktop\\xgboost\\src\\tree\\updater_prune.cc:74: tree pruning end, 1 roots, 14 extra nodes, 0 pruned nodes, max_depth=3\n",
      "[19:52:35] C:\\Users\\Administrator\\Desktop\\xgboost\\src\\tree\\updater_prune.cc:74: tree pruning end, 1 roots, 12 extra nodes, 0 pruned nodes, max_depth=3\n",
      "[19:52:35] C:\\Users\\Administrator\\Desktop\\xgboost\\src\\tree\\updater_prune.cc:74: tree pruning end, 1 roots, 14 extra nodes, 0 pruned nodes, max_depth=3\n",
      "[19:52:35] C:\\Users\\Administrator\\Desktop\\xgboost\\src\\tree\\updater_prune.cc:74: tree pruning end, 1 roots, 14 extra nodes, 0 pruned nodes, max_depth=3\n",
      "[19:52:35] C:\\Users\\Administrator\\Desktop\\xgboost\\src\\tree\\updater_prune.cc:74: tree pruning end, 1 roots, 14 extra nodes, 0 pruned nodes, max_depth=3\n",
      "[19:52:35] C:\\Users\\Administrator\\Desktop\\xgboost\\src\\tree\\updater_prune.cc:74: tree pruning end, 1 roots, 14 extra nodes, 0 pruned nodes, max_depth=3\n",
      "[19:52:35] C:\\Users\\Administrator\\Desktop\\xgboost\\src\\tree\\updater_prune.cc:74: tree pruning end, 1 roots, 14 extra nodes, 0 pruned nodes, max_depth=3\n",
      "[19:52:35] C:\\Users\\Administrator\\Desktop\\xgboost\\src\\tree\\updater_prune.cc:74: tree pruning end, 1 roots, 14 extra nodes, 0 pruned nodes, max_depth=3\n",
      "[19:52:35] C:\\Users\\Administrator\\Desktop\\xgboost\\src\\tree\\updater_prune.cc:74: tree pruning end, 1 roots, 14 extra nodes, 0 pruned nodes, max_depth=3\n",
      "[19:52:35] C:\\Users\\Administrator\\Desktop\\xgboost\\src\\tree\\updater_prune.cc:74: tree pruning end, 1 roots, 14 extra nodes, 0 pruned nodes, max_depth=3\n",
      "[19:52:35] C:\\Users\\Administrator\\Desktop\\xgboost\\src\\tree\\updater_prune.cc:74: tree pruning end, 1 roots, 14 extra nodes, 0 pruned nodes, max_depth=3\n",
      "[19:52:35] C:\\Users\\Administrator\\Desktop\\xgboost\\src\\tree\\updater_prune.cc:74: tree pruning end, 1 roots, 14 extra nodes, 0 pruned nodes, max_depth=3\n",
      "[19:52:35] C:\\Users\\Administrator\\Desktop\\xgboost\\src\\tree\\updater_prune.cc:74: tree pruning end, 1 roots, 14 extra nodes, 0 pruned nodes, max_depth=3\n",
      "[19:52:35] C:\\Users\\Administrator\\Desktop\\xgboost\\src\\tree\\updater_prune.cc:74: tree pruning end, 1 roots, 14 extra nodes, 0 pruned nodes, max_depth=3\n",
      "[19:52:35] C:\\Users\\Administrator\\Desktop\\xgboost\\src\\tree\\updater_prune.cc:74: tree pruning end, 1 roots, 14 extra nodes, 0 pruned nodes, max_depth=3\n",
      "[19:52:35] C:\\Users\\Administrator\\Desktop\\xgboost\\src\\tree\\updater_prune.cc:74: tree pruning end, 1 roots, 14 extra nodes, 0 pruned nodes, max_depth=3\n",
      "[19:52:35] C:\\Users\\Administrator\\Desktop\\xgboost\\src\\tree\\updater_prune.cc:74: tree pruning end, 1 roots, 14 extra nodes, 0 pruned nodes, max_depth=3\n",
      "[19:52:35] C:\\Users\\Administrator\\Desktop\\xgboost\\src\\tree\\updater_prune.cc:74: tree pruning end, 1 roots, 14 extra nodes, 0 pruned nodes, max_depth=3\n",
      "[19:52:35] C:\\Users\\Administrator\\Desktop\\xgboost\\src\\tree\\updater_prune.cc:74: tree pruning end, 1 roots, 14 extra nodes, 0 pruned nodes, max_depth=3\n",
      "[19:52:36] C:\\Users\\Administrator\\Desktop\\xgboost\\src\\tree\\updater_prune.cc:74: tree pruning end, 1 roots, 14 extra nodes, 0 pruned nodes, max_depth=3\n",
      "[19:52:36] C:\\Users\\Administrator\\Desktop\\xgboost\\src\\tree\\updater_prune.cc:74: tree pruning end, 1 roots, 14 extra nodes, 0 pruned nodes, max_depth=3\n",
      "[19:52:36] C:\\Users\\Administrator\\Desktop\\xgboost\\src\\tree\\updater_prune.cc:74: tree pruning end, 1 roots, 14 extra nodes, 0 pruned nodes, max_depth=3\n",
      "[19:52:36] C:\\Users\\Administrator\\Desktop\\xgboost\\src\\tree\\updater_prune.cc:74: tree pruning end, 1 roots, 14 extra nodes, 0 pruned nodes, max_depth=3\n",
      "[19:52:36] C:\\Users\\Administrator\\Desktop\\xgboost\\src\\tree\\updater_prune.cc:74: tree pruning end, 1 roots, 14 extra nodes, 0 pruned nodes, max_depth=3\n",
      "[19:52:36] C:\\Users\\Administrator\\Desktop\\xgboost\\src\\tree\\updater_prune.cc:74: tree pruning end, 1 roots, 14 extra nodes, 0 pruned nodes, max_depth=3\n",
      "[19:52:36] C:\\Users\\Administrator\\Desktop\\xgboost\\src\\tree\\updater_prune.cc:74: tree pruning end, 1 roots, 14 extra nodes, 0 pruned nodes, max_depth=3\n",
      "[19:52:36] C:\\Users\\Administrator\\Desktop\\xgboost\\src\\tree\\updater_prune.cc:74: tree pruning end, 1 roots, 14 extra nodes, 0 pruned nodes, max_depth=3\n",
      "[19:52:36] C:\\Users\\Administrator\\Desktop\\xgboost\\src\\tree\\updater_prune.cc:74: tree pruning end, 1 roots, 14 extra nodes, 0 pruned nodes, max_depth=3\n",
      "[19:52:36] C:\\Users\\Administrator\\Desktop\\xgboost\\src\\tree\\updater_prune.cc:74: tree pruning end, 1 roots, 14 extra nodes, 0 pruned nodes, max_depth=3\n",
      "[19:52:36] C:\\Users\\Administrator\\Desktop\\xgboost\\src\\tree\\updater_prune.cc:74: tree pruning end, 1 roots, 14 extra nodes, 0 pruned nodes, max_depth=3\n",
      "[19:52:36] C:\\Users\\Administrator\\Desktop\\xgboost\\src\\tree\\updater_prune.cc:74: tree pruning end, 1 roots, 14 extra nodes, 0 pruned nodes, max_depth=3\n",
      "[19:52:36] C:\\Users\\Administrator\\Desktop\\xgboost\\src\\tree\\updater_prune.cc:74: tree pruning end, 1 roots, 14 extra nodes, 0 pruned nodes, max_depth=3\n",
      "[19:52:36] C:\\Users\\Administrator\\Desktop\\xgboost\\src\\tree\\updater_prune.cc:74: tree pruning end, 1 roots, 14 extra nodes, 0 pruned nodes, max_depth=3\n",
      "[19:52:36] C:\\Users\\Administrator\\Desktop\\xgboost\\src\\tree\\updater_prune.cc:74: tree pruning end, 1 roots, 14 extra nodes, 0 pruned nodes, max_depth=3\n",
      "[19:52:36] C:\\Users\\Administrator\\Desktop\\xgboost\\src\\tree\\updater_prune.cc:74: tree pruning end, 1 roots, 14 extra nodes, 0 pruned nodes, max_depth=3\n",
      "[19:52:36] C:\\Users\\Administrator\\Desktop\\xgboost\\src\\tree\\updater_prune.cc:74: tree pruning end, 1 roots, 14 extra nodes, 0 pruned nodes, max_depth=3\n",
      "[19:52:36] C:\\Users\\Administrator\\Desktop\\xgboost\\src\\tree\\updater_prune.cc:74: tree pruning end, 1 roots, 14 extra nodes, 0 pruned nodes, max_depth=3\n",
      "[19:52:36] C:\\Users\\Administrator\\Desktop\\xgboost\\src\\tree\\updater_prune.cc:74: tree pruning end, 1 roots, 14 extra nodes, 0 pruned nodes, max_depth=3\n",
      "[19:52:36] C:\\Users\\Administrator\\Desktop\\xgboost\\src\\tree\\updater_prune.cc:74: tree pruning end, 1 roots, 14 extra nodes, 0 pruned nodes, max_depth=3\n",
      "[19:52:36] C:\\Users\\Administrator\\Desktop\\xgboost\\src\\tree\\updater_prune.cc:74: tree pruning end, 1 roots, 12 extra nodes, 0 pruned nodes, max_depth=3\n",
      "[19:52:36] C:\\Users\\Administrator\\Desktop\\xgboost\\src\\tree\\updater_prune.cc:74: tree pruning end, 1 roots, 14 extra nodes, 0 pruned nodes, max_depth=3\n",
      "[19:52:36] C:\\Users\\Administrator\\Desktop\\xgboost\\src\\tree\\updater_prune.cc:74: tree pruning end, 1 roots, 14 extra nodes, 0 pruned nodes, max_depth=3\n",
      "[19:52:36] C:\\Users\\Administrator\\Desktop\\xgboost\\src\\tree\\updater_prune.cc:74: tree pruning end, 1 roots, 14 extra nodes, 0 pruned nodes, max_depth=3\n",
      "[19:52:36] C:\\Users\\Administrator\\Desktop\\xgboost\\src\\tree\\updater_prune.cc:74: tree pruning end, 1 roots, 14 extra nodes, 0 pruned nodes, max_depth=3\n",
      "[19:52:36] C:\\Users\\Administrator\\Desktop\\xgboost\\src\\tree\\updater_prune.cc:74: tree pruning end, 1 roots, 14 extra nodes, 0 pruned nodes, max_depth=3\n",
      "[19:52:36] C:\\Users\\Administrator\\Desktop\\xgboost\\src\\tree\\updater_prune.cc:74: tree pruning end, 1 roots, 14 extra nodes, 0 pruned nodes, max_depth=3\n",
      "[19:52:36] C:\\Users\\Administrator\\Desktop\\xgboost\\src\\tree\\updater_prune.cc:74: tree pruning end, 1 roots, 14 extra nodes, 0 pruned nodes, max_depth=3\n",
      "[19:52:36] C:\\Users\\Administrator\\Desktop\\xgboost\\src\\tree\\updater_prune.cc:74: tree pruning end, 1 roots, 14 extra nodes, 0 pruned nodes, max_depth=3\n",
      "[19:52:36] C:\\Users\\Administrator\\Desktop\\xgboost\\src\\tree\\updater_prune.cc:74: tree pruning end, 1 roots, 14 extra nodes, 0 pruned nodes, max_depth=3\n",
      "[19:52:36] C:\\Users\\Administrator\\Desktop\\xgboost\\src\\tree\\updater_prune.cc:74: tree pruning end, 1 roots, 14 extra nodes, 0 pruned nodes, max_depth=3\n",
      "[19:52:36] C:\\Users\\Administrator\\Desktop\\xgboost\\src\\tree\\updater_prune.cc:74: tree pruning end, 1 roots, 14 extra nodes, 0 pruned nodes, max_depth=3\n",
      "[19:52:36] C:\\Users\\Administrator\\Desktop\\xgboost\\src\\tree\\updater_prune.cc:74: tree pruning end, 1 roots, 14 extra nodes, 0 pruned nodes, max_depth=3\n",
      "[19:52:36] C:\\Users\\Administrator\\Desktop\\xgboost\\src\\tree\\updater_prune.cc:74: tree pruning end, 1 roots, 14 extra nodes, 0 pruned nodes, max_depth=3\n",
      "[19:52:36] C:\\Users\\Administrator\\Desktop\\xgboost\\src\\tree\\updater_prune.cc:74: tree pruning end, 1 roots, 14 extra nodes, 0 pruned nodes, max_depth=3\n"
     ]
    },
    {
     "name": "stdout",
     "output_type": "stream",
     "text": [
      "[19:52:36] C:\\Users\\Administrator\\Desktop\\xgboost\\src\\tree\\updater_prune.cc:74: tree pruning end, 1 roots, 14 extra nodes, 0 pruned nodes, max_depth=3\n",
      "[19:52:36] C:\\Users\\Administrator\\Desktop\\xgboost\\src\\tree\\updater_prune.cc:74: tree pruning end, 1 roots, 14 extra nodes, 0 pruned nodes, max_depth=3\n",
      "[19:52:36] C:\\Users\\Administrator\\Desktop\\xgboost\\src\\tree\\updater_prune.cc:74: tree pruning end, 1 roots, 14 extra nodes, 0 pruned nodes, max_depth=3\n",
      "[19:52:36] C:\\Users\\Administrator\\Desktop\\xgboost\\src\\tree\\updater_prune.cc:74: tree pruning end, 1 roots, 14 extra nodes, 0 pruned nodes, max_depth=3\n",
      "[19:52:36] C:\\Users\\Administrator\\Desktop\\xgboost\\src\\tree\\updater_prune.cc:74: tree pruning end, 1 roots, 14 extra nodes, 0 pruned nodes, max_depth=3\n",
      "[19:52:37] C:\\Users\\Administrator\\Desktop\\xgboost\\src\\tree\\updater_prune.cc:74: tree pruning end, 1 roots, 14 extra nodes, 0 pruned nodes, max_depth=3\n",
      "[19:52:37] C:\\Users\\Administrator\\Desktop\\xgboost\\src\\tree\\updater_prune.cc:74: tree pruning end, 1 roots, 14 extra nodes, 0 pruned nodes, max_depth=3\n",
      "[19:52:37] C:\\Users\\Administrator\\Desktop\\xgboost\\src\\tree\\updater_prune.cc:74: tree pruning end, 1 roots, 14 extra nodes, 0 pruned nodes, max_depth=3\n",
      "[19:52:37] C:\\Users\\Administrator\\Desktop\\xgboost\\src\\tree\\updater_prune.cc:74: tree pruning end, 1 roots, 14 extra nodes, 0 pruned nodes, max_depth=3\n",
      "[19:52:37] C:\\Users\\Administrator\\Desktop\\xgboost\\src\\tree\\updater_prune.cc:74: tree pruning end, 1 roots, 14 extra nodes, 0 pruned nodes, max_depth=3\n",
      "[19:52:37] C:\\Users\\Administrator\\Desktop\\xgboost\\src\\tree\\updater_prune.cc:74: tree pruning end, 1 roots, 14 extra nodes, 0 pruned nodes, max_depth=3\n",
      "[19:52:37] C:\\Users\\Administrator\\Desktop\\xgboost\\src\\tree\\updater_prune.cc:74: tree pruning end, 1 roots, 14 extra nodes, 0 pruned nodes, max_depth=3\n",
      "[19:52:37] C:\\Users\\Administrator\\Desktop\\xgboost\\src\\tree\\updater_prune.cc:74: tree pruning end, 1 roots, 14 extra nodes, 0 pruned nodes, max_depth=3\n",
      "[19:52:37] C:\\Users\\Administrator\\Desktop\\xgboost\\src\\tree\\updater_prune.cc:74: tree pruning end, 1 roots, 14 extra nodes, 0 pruned nodes, max_depth=3\n",
      "[19:52:37] C:\\Users\\Administrator\\Desktop\\xgboost\\src\\tree\\updater_prune.cc:74: tree pruning end, 1 roots, 14 extra nodes, 0 pruned nodes, max_depth=3\n",
      "[19:52:37] C:\\Users\\Administrator\\Desktop\\xgboost\\src\\tree\\updater_prune.cc:74: tree pruning end, 1 roots, 14 extra nodes, 0 pruned nodes, max_depth=3\n",
      "[19:52:37] C:\\Users\\Administrator\\Desktop\\xgboost\\src\\tree\\updater_prune.cc:74: tree pruning end, 1 roots, 14 extra nodes, 0 pruned nodes, max_depth=3\n",
      "[19:52:37] C:\\Users\\Administrator\\Desktop\\xgboost\\src\\tree\\updater_prune.cc:74: tree pruning end, 1 roots, 14 extra nodes, 0 pruned nodes, max_depth=3\n",
      "[19:52:37] C:\\Users\\Administrator\\Desktop\\xgboost\\src\\tree\\updater_prune.cc:74: tree pruning end, 1 roots, 12 extra nodes, 0 pruned nodes, max_depth=3\n",
      "[19:52:37] C:\\Users\\Administrator\\Desktop\\xgboost\\src\\tree\\updater_prune.cc:74: tree pruning end, 1 roots, 14 extra nodes, 0 pruned nodes, max_depth=3\n",
      "[19:52:37] C:\\Users\\Administrator\\Desktop\\xgboost\\src\\tree\\updater_prune.cc:74: tree pruning end, 1 roots, 14 extra nodes, 0 pruned nodes, max_depth=3\n",
      "[19:52:37] C:\\Users\\Administrator\\Desktop\\xgboost\\src\\tree\\updater_prune.cc:74: tree pruning end, 1 roots, 14 extra nodes, 0 pruned nodes, max_depth=3\n",
      "[19:52:37] C:\\Users\\Administrator\\Desktop\\xgboost\\src\\tree\\updater_prune.cc:74: tree pruning end, 1 roots, 14 extra nodes, 0 pruned nodes, max_depth=3\n",
      "[19:52:37] C:\\Users\\Administrator\\Desktop\\xgboost\\src\\tree\\updater_prune.cc:74: tree pruning end, 1 roots, 14 extra nodes, 0 pruned nodes, max_depth=3\n",
      "[19:52:37] C:\\Users\\Administrator\\Desktop\\xgboost\\src\\tree\\updater_prune.cc:74: tree pruning end, 1 roots, 14 extra nodes, 0 pruned nodes, max_depth=3\n",
      "[19:52:37] C:\\Users\\Administrator\\Desktop\\xgboost\\src\\tree\\updater_prune.cc:74: tree pruning end, 1 roots, 14 extra nodes, 0 pruned nodes, max_depth=3\n",
      "[19:52:37] C:\\Users\\Administrator\\Desktop\\xgboost\\src\\tree\\updater_prune.cc:74: tree pruning end, 1 roots, 14 extra nodes, 0 pruned nodes, max_depth=3\n",
      "[19:52:37] C:\\Users\\Administrator\\Desktop\\xgboost\\src\\tree\\updater_prune.cc:74: tree pruning end, 1 roots, 14 extra nodes, 0 pruned nodes, max_depth=3\n",
      "[19:52:37] C:\\Users\\Administrator\\Desktop\\xgboost\\src\\tree\\updater_prune.cc:74: tree pruning end, 1 roots, 14 extra nodes, 0 pruned nodes, max_depth=3\n",
      "[19:52:37] C:\\Users\\Administrator\\Desktop\\xgboost\\src\\tree\\updater_prune.cc:74: tree pruning end, 1 roots, 14 extra nodes, 0 pruned nodes, max_depth=3\n",
      "[19:52:37] C:\\Users\\Administrator\\Desktop\\xgboost\\src\\tree\\updater_prune.cc:74: tree pruning end, 1 roots, 14 extra nodes, 0 pruned nodes, max_depth=3\n",
      "[19:52:37] C:\\Users\\Administrator\\Desktop\\xgboost\\src\\tree\\updater_prune.cc:74: tree pruning end, 1 roots, 14 extra nodes, 0 pruned nodes, max_depth=3\n",
      "[19:52:37] C:\\Users\\Administrator\\Desktop\\xgboost\\src\\tree\\updater_prune.cc:74: tree pruning end, 1 roots, 14 extra nodes, 0 pruned nodes, max_depth=3\n",
      "[19:52:37] C:\\Users\\Administrator\\Desktop\\xgboost\\src\\tree\\updater_prune.cc:74: tree pruning end, 1 roots, 14 extra nodes, 0 pruned nodes, max_depth=3\n",
      "[19:52:38] C:\\Users\\Administrator\\Desktop\\xgboost\\src\\tree\\updater_prune.cc:74: tree pruning end, 1 roots, 14 extra nodes, 0 pruned nodes, max_depth=3\n",
      "[19:52:38] C:\\Users\\Administrator\\Desktop\\xgboost\\src\\tree\\updater_prune.cc:74: tree pruning end, 1 roots, 14 extra nodes, 0 pruned nodes, max_depth=3\n",
      "[19:52:38] C:\\Users\\Administrator\\Desktop\\xgboost\\src\\tree\\updater_prune.cc:74: tree pruning end, 1 roots, 14 extra nodes, 0 pruned nodes, max_depth=3\n",
      "[19:52:38] C:\\Users\\Administrator\\Desktop\\xgboost\\src\\tree\\updater_prune.cc:74: tree pruning end, 1 roots, 14 extra nodes, 0 pruned nodes, max_depth=3\n",
      "[19:52:38] C:\\Users\\Administrator\\Desktop\\xgboost\\src\\tree\\updater_prune.cc:74: tree pruning end, 1 roots, 14 extra nodes, 0 pruned nodes, max_depth=3\n",
      "[19:52:38] C:\\Users\\Administrator\\Desktop\\xgboost\\src\\tree\\updater_prune.cc:74: tree pruning end, 1 roots, 14 extra nodes, 0 pruned nodes, max_depth=3\n",
      "[19:52:38] C:\\Users\\Administrator\\Desktop\\xgboost\\src\\tree\\updater_prune.cc:74: tree pruning end, 1 roots, 14 extra nodes, 0 pruned nodes, max_depth=3\n",
      "[19:52:38] C:\\Users\\Administrator\\Desktop\\xgboost\\src\\tree\\updater_prune.cc:74: tree pruning end, 1 roots, 14 extra nodes, 0 pruned nodes, max_depth=3\n",
      "[19:52:38] C:\\Users\\Administrator\\Desktop\\xgboost\\src\\tree\\updater_prune.cc:74: tree pruning end, 1 roots, 14 extra nodes, 0 pruned nodes, max_depth=3\n",
      "[19:52:38] C:\\Users\\Administrator\\Desktop\\xgboost\\src\\tree\\updater_prune.cc:74: tree pruning end, 1 roots, 14 extra nodes, 0 pruned nodes, max_depth=3\n",
      "[19:52:38] C:\\Users\\Administrator\\Desktop\\xgboost\\src\\tree\\updater_prune.cc:74: tree pruning end, 1 roots, 14 extra nodes, 0 pruned nodes, max_depth=3\n",
      "[19:52:38] C:\\Users\\Administrator\\Desktop\\xgboost\\src\\tree\\updater_prune.cc:74: tree pruning end, 1 roots, 14 extra nodes, 0 pruned nodes, max_depth=3\n",
      "[19:52:38] C:\\Users\\Administrator\\Desktop\\xgboost\\src\\tree\\updater_prune.cc:74: tree pruning end, 1 roots, 14 extra nodes, 0 pruned nodes, max_depth=3\n",
      "[19:52:38] C:\\Users\\Administrator\\Desktop\\xgboost\\src\\tree\\updater_prune.cc:74: tree pruning end, 1 roots, 14 extra nodes, 0 pruned nodes, max_depth=3\n",
      "[19:52:38] C:\\Users\\Administrator\\Desktop\\xgboost\\src\\tree\\updater_prune.cc:74: tree pruning end, 1 roots, 14 extra nodes, 0 pruned nodes, max_depth=3\n",
      "[19:52:38] C:\\Users\\Administrator\\Desktop\\xgboost\\src\\tree\\updater_prune.cc:74: tree pruning end, 1 roots, 14 extra nodes, 0 pruned nodes, max_depth=3\n",
      "[19:52:38] C:\\Users\\Administrator\\Desktop\\xgboost\\src\\tree\\updater_prune.cc:74: tree pruning end, 1 roots, 14 extra nodes, 0 pruned nodes, max_depth=3\n",
      "[19:52:38] C:\\Users\\Administrator\\Desktop\\xgboost\\src\\tree\\updater_prune.cc:74: tree pruning end, 1 roots, 14 extra nodes, 0 pruned nodes, max_depth=3\n",
      "[19:52:38] C:\\Users\\Administrator\\Desktop\\xgboost\\src\\tree\\updater_prune.cc:74: tree pruning end, 1 roots, 14 extra nodes, 0 pruned nodes, max_depth=3\n",
      "[19:52:38] C:\\Users\\Administrator\\Desktop\\xgboost\\src\\tree\\updater_prune.cc:74: tree pruning end, 1 roots, 14 extra nodes, 0 pruned nodes, max_depth=3\n",
      "[19:52:38] C:\\Users\\Administrator\\Desktop\\xgboost\\src\\tree\\updater_prune.cc:74: tree pruning end, 1 roots, 14 extra nodes, 0 pruned nodes, max_depth=3\n",
      "[19:52:38] C:\\Users\\Administrator\\Desktop\\xgboost\\src\\tree\\updater_prune.cc:74: tree pruning end, 1 roots, 12 extra nodes, 0 pruned nodes, max_depth=3\n",
      "[19:52:38] C:\\Users\\Administrator\\Desktop\\xgboost\\src\\tree\\updater_prune.cc:74: tree pruning end, 1 roots, 14 extra nodes, 0 pruned nodes, max_depth=3\n",
      "[19:52:38] C:\\Users\\Administrator\\Desktop\\xgboost\\src\\tree\\updater_prune.cc:74: tree pruning end, 1 roots, 14 extra nodes, 0 pruned nodes, max_depth=3\n",
      "[19:52:38] C:\\Users\\Administrator\\Desktop\\xgboost\\src\\tree\\updater_prune.cc:74: tree pruning end, 1 roots, 14 extra nodes, 0 pruned nodes, max_depth=3\n",
      "[19:52:38] C:\\Users\\Administrator\\Desktop\\xgboost\\src\\tree\\updater_prune.cc:74: tree pruning end, 1 roots, 14 extra nodes, 0 pruned nodes, max_depth=3\n"
     ]
    },
    {
     "name": "stdout",
     "output_type": "stream",
     "text": [
      "[19:52:38] C:\\Users\\Administrator\\Desktop\\xgboost\\src\\tree\\updater_prune.cc:74: tree pruning end, 1 roots, 14 extra nodes, 0 pruned nodes, max_depth=3\n",
      "[19:52:39] C:\\Users\\Administrator\\Desktop\\xgboost\\src\\tree\\updater_prune.cc:74: tree pruning end, 1 roots, 14 extra nodes, 0 pruned nodes, max_depth=3\n",
      "[19:52:39] C:\\Users\\Administrator\\Desktop\\xgboost\\src\\tree\\updater_prune.cc:74: tree pruning end, 1 roots, 14 extra nodes, 0 pruned nodes, max_depth=3\n",
      "              precision    recall  f1-score   support\n",
      "\n",
      "           0       1.00      1.00      1.00    303723\n",
      "           1       0.07      0.41      0.12       202\n",
      "\n",
      "   micro avg       1.00      1.00      1.00    303925\n",
      "   macro avg       0.53      0.70      0.56    303925\n",
      "weighted avg       1.00      1.00      1.00    303925\n",
      "\n",
      "[[302634   1089]\n",
      " [   120     82]]\n",
      "PD XGBoost AU ROC (Hold out Set):  0.8853875712637196\n"
     ]
    }
   ],
   "source": [
    "model_xgb.fit(X_xgb, y_xgb)\n",
    "pred_xgb = model_xgb.predict(X_v_xgb)\n",
    "\n",
    "print (metrics.classification_report(y_v_xgb, pred_xgb))\n",
    "print (metrics.confusion_matrix(y_v_xgb, pred_xgb))\n",
    "print ('PD XGBoost AU ROC (Hold out Set): ', metrics.roc_auc_score(y_v_xgb,  model_xgb.predict_proba(X_v_xgb)[:,1] ))"
   ]
  },
  {
   "cell_type": "code",
   "execution_count": 18,
   "metadata": {},
   "outputs": [
    {
     "data": {
      "text/plain": [
       "array([0.0239841 , 0.01590747, 0.03889485, ..., 0.06182635, 0.03165899,\n",
       "       0.04819798], dtype=float32)"
      ]
     },
     "execution_count": 18,
     "metadata": {},
     "output_type": "execute_result"
    }
   ],
   "source": [
    "predicted_XGB_CTR = model_xgb.predict_proba(X_v_xgb)[:,1]\n",
    "predicted_XGB_CTR"
   ]
  },
  {
   "cell_type": "markdown",
   "metadata": {},
   "source": [
    "#### Final recalibrated pCTRs"
   ]
  },
  {
   "cell_type": "code",
   "execution_count": 19,
   "metadata": {},
   "outputs": [
    {
     "data": {
      "text/plain": [
       "array([0.00017935, 0.00011799, 0.00029534, ..., 0.00048084, 0.00023861,\n",
       "       0.00036953], dtype=float32)"
      ]
     },
     "execution_count": 19,
     "metadata": {},
     "output_type": "execute_result"
    }
   ],
   "source": [
    "w = 0.0073 # class 0, downsampling rate\n",
    "predicted_XGB_CTR = predicted_XGB_CTR/(predicted_XGB_CTR+((1-predicted_XGB_CTR)/w)) \n",
    "predicted_XGB_CTR"
   ]
  },
  {
   "cell_type": "markdown",
   "metadata": {},
   "source": [
    "## Square Bidding Strategy"
   ]
  },
  {
   "cell_type": "code",
   "execution_count": 20,
   "metadata": {},
   "outputs": [
    {
     "name": "stdout",
     "output_type": "stream",
     "text": [
      "Without Budget limit:  0.0 Num Clicks:  0 With Budget limit:  0.0 Num Clicks:  0 CTR:  0.0 won impressions:  80 basebid:  0.0\n",
      "Without Budget limit:  241.50400000000002 Num Clicks:  88 With Budget limit:  241.50400000000002 Num Clicks:  88 CTR:  0.01637513956084853 won impressions:  5374 basebid:  0.002006688963210702\n",
      "Without Budget limit:  440.79200000000003 Num Clicks:  99 With Budget limit:  440.79200000000003 Num Clicks:  99 CTR:  0.011244888686960473 won impressions:  8804 basebid:  0.004013377926421404\n",
      "Without Budget limit:  573.743 Num Clicks:  108 With Budget limit:  573.743 Num Clicks:  108 CTR:  0.009711356892365795 won impressions:  11121 basebid:  0.006020066889632107\n",
      "Without Budget limit:  685.5070000000001 Num Clicks:  112 With Budget limit:  685.5070000000001 Num Clicks:  112 CTR:  0.008528784648187633 won impressions:  13132 basebid:  0.008026755852842809\n",
      "Without Budget limit:  790.5740000000001 Num Clicks:  115 With Budget limit:  790.5740000000001 Num Clicks:  115 CTR:  0.007642719478965907 won impressions:  15047 basebid:  0.01003344481605351\n",
      "Without Budget limit:  888.2890000000002 Num Clicks:  116 With Budget limit:  888.2890000000002 Num Clicks:  116 CTR:  0.006883864459082547 won impressions:  16851 basebid:  0.012040133779264214\n",
      "Without Budget limit:  978.5740000000001 Num Clicks:  118 With Budget limit:  978.5740000000001 Num Clicks:  118 CTR:  0.006371146266400302 won impressions:  18521 basebid:  0.014046822742474915\n",
      "Without Budget limit:  1060.3020000000001 Num Clicks:  120 With Budget limit:  1060.3020000000001 Num Clicks:  120 CTR:  0.0059633255478805346 won impressions:  20123 basebid:  0.016053511705685617\n",
      "Without Budget limit:  1141.72 Num Clicks:  122 With Budget limit:  1141.72 Num Clicks:  122 CTR:  0.00563172229146471 won impressions:  21663 basebid:  0.01806020066889632\n",
      "Without Budget limit:  1214.201 Num Clicks:  124 With Budget limit:  1214.201 Num Clicks:  124 CTR:  0.005365642578970143 won impressions:  23110 basebid:  0.02006688963210702\n",
      "Without Budget limit:  1288.019 Num Clicks:  124 With Budget limit:  1288.019 Num Clicks:  124 CTR:  0.005034101981162715 won impressions:  24632 basebid:  0.022073578595317722\n",
      "Without Budget limit:  1355.045 Num Clicks:  124 With Budget limit:  1355.045 Num Clicks:  124 CTR:  0.004758432787136882 won impressions:  26059 basebid:  0.024080267558528427\n",
      "Without Budget limit:  1420.904 Num Clicks:  125 With Budget limit:  1420.904 Num Clicks:  125 CTR:  0.004547604322043148 won impressions:  27487 basebid:  0.02608695652173913\n",
      "Without Budget limit:  1487.6310000000003 Num Clicks:  127 With Budget limit:  1487.6310000000003 Num Clicks:  127 CTR:  0.004393399522606981 won impressions:  28907 basebid:  0.02809364548494983\n",
      "Without Budget limit:  1551.1990000000003 Num Clicks:  129 With Budget limit:  1551.1990000000003 Num Clicks:  129 CTR:  0.004260237780713342 won impressions:  30280 basebid:  0.030100334448160532\n",
      "Without Budget limit:  1610.929 Num Clicks:  130 With Budget limit:  1610.929 Num Clicks:  130 CTR:  0.004102887801798958 won impressions:  31685 basebid:  0.032107023411371234\n",
      "Without Budget limit:  1676.0960000000002 Num Clicks:  133 With Budget limit:  1676.0960000000002 Num Clicks:  133 CTR:  0.004027008205407696 won impressions:  33027 basebid:  0.03411371237458194\n",
      "Without Budget limit:  1740.5600000000002 Num Clicks:  134 With Budget limit:  1740.5600000000002 Num Clicks:  134 CTR:  0.003893198524071007 won impressions:  34419 basebid:  0.03612040133779264\n",
      "Without Budget limit:  1797.7930000000001 Num Clicks:  134 With Budget limit:  1797.7930000000001 Num Clicks:  134 CTR:  0.0037487760525947685 won impressions:  35745 basebid:  0.03812709030100334\n",
      "Without Budget limit:  1857.255 Num Clicks:  134 With Budget limit:  1857.255 Num Clicks:  134 CTR:  0.0036129310577260104 won impressions:  37089 basebid:  0.04013377926421404\n",
      "Without Budget limit:  1926.0 Num Clicks:  134 With Budget limit:  1926.0 Num Clicks:  134 CTR:  0.0034833242350983907 won impressions:  38469 basebid:  0.042140468227424746\n",
      "Without Budget limit:  1993.7540000000001 Num Clicks:  134 With Budget limit:  1993.7540000000001 Num Clicks:  134 CTR:  0.003360922999749185 won impressions:  39870 basebid:  0.044147157190635444\n",
      "Without Budget limit:  2056.6710000000003 Num Clicks:  135 With Budget limit:  2056.6710000000003 Num Clicks:  135 CTR:  0.003271854778119774 won impressions:  41261 basebid:  0.04615384615384615\n",
      "Without Budget limit:  2117.3540000000003 Num Clicks:  136 With Budget limit:  2117.3540000000003 Num Clicks:  136 CTR:  0.003194813126923348 won impressions:  42569 basebid:  0.048160535117056855\n",
      "Without Budget limit:  2176.168 Num Clicks:  136 With Budget limit:  2176.168 Num Clicks:  136 CTR:  0.003102331310734979 won impressions:  43838 basebid:  0.05016722408026755\n",
      "Without Budget limit:  2242.216 Num Clicks:  136 With Budget limit:  2242.216 Num Clicks:  136 CTR:  0.003002207505518764 won impressions:  45300 basebid:  0.05217391304347826\n",
      "Without Budget limit:  2303.263 Num Clicks:  137 With Budget limit:  2303.263 Num Clicks:  137 CTR:  0.0029401665379002488 won impressions:  46596 basebid:  0.054180602006688956\n",
      "Without Budget limit:  2367.9910000000004 Num Clicks:  137 With Budget limit:  2367.9910000000004 Num Clicks:  137 CTR:  0.00285887189332443 won impressions:  47921 basebid:  0.05618729096989966\n",
      "Without Budget limit:  2431.005 Num Clicks:  138 With Budget limit:  2431.005 Num Clicks:  138 CTR:  0.002801006738653893 won impressions:  49268 basebid:  0.05819397993311036\n",
      "Without Budget limit:  2491.6380000000004 Num Clicks:  139 With Budget limit:  2491.6380000000004 Num Clicks:  139 CTR:  0.002750351213914007 won impressions:  50539 basebid:  0.060200668896321065\n",
      "Without Budget limit:  2553.947 Num Clicks:  140 With Budget limit:  2553.947 Num Clicks:  140 CTR:  0.0027032245607260088 won impressions:  51790 basebid:  0.06220735785953176\n",
      "Without Budget limit:  2617.195 Num Clicks:  142 With Budget limit:  2617.195 Num Clicks:  142 CTR:  0.0026750560443079704 won impressions:  53083 basebid:  0.06421404682274247\n",
      "Without Budget limit:  2679.2450000000003 Num Clicks:  142 With Budget limit:  2679.2450000000003 Num Clicks:  142 CTR:  0.0026151976131717557 won impressions:  54298 basebid:  0.06622073578595317\n",
      "Without Budget limit:  2748.1360000000004 Num Clicks:  143 With Budget limit:  2748.1360000000004 Num Clicks:  143 CTR:  0.0025674632385945385 won impressions:  55697 basebid:  0.06822742474916388\n",
      "Without Budget limit:  2812.0960000000005 Num Clicks:  143 With Budget limit:  2812.0960000000005 Num Clicks:  143 CTR:  0.0025128718786792486 won impressions:  56907 basebid:  0.07023411371237458\n",
      "Without Budget limit:  2878.9020000000005 Num Clicks:  144 With Budget limit:  2878.9020000000005 Num Clicks:  144 CTR:  0.0024727397613119257 won impressions:  58235 basebid:  0.07224080267558528\n",
      "Without Budget limit:  2940.9910000000004 Num Clicks:  144 With Budget limit:  2940.9910000000004 Num Clicks:  144 CTR:  0.0024223257691725402 won impressions:  59447 basebid:  0.07424749163879597\n",
      "Without Budget limit:  3003.100000000001 Num Clicks:  144 With Budget limit:  3003.100000000001 Num Clicks:  144 CTR:  0.002376237623762376 won impressions:  60600 basebid:  0.07625418060200669\n",
      "Without Budget limit:  3064.043 Num Clicks:  144 With Budget limit:  3064.043 Num Clicks:  144 CTR:  0.00233160621761658 won impressions:  61760 basebid:  0.07826086956521738\n",
      "Without Budget limit:  3126.0900000000006 Num Clicks:  144 With Budget limit:  3126.0900000000006 Num Clicks:  144 CTR:  0.002288329519450801 won impressions:  62928 basebid:  0.08026755852842808\n",
      "Without Budget limit:  3191.5150000000003 Num Clicks:  147 With Budget limit:  3191.5150000000003 Num Clicks:  147 CTR:  0.002289612634923602 won impressions:  64203 basebid:  0.0822742474916388\n",
      "Without Budget limit:  3247.2660000000005 Num Clicks:  148 With Budget limit:  3247.2660000000005 Num Clicks:  148 CTR:  0.002266983227387608 won impressions:  65285 basebid:  0.08428093645484949\n",
      "Without Budget limit:  3308.468 Num Clicks:  148 With Budget limit:  3308.468 Num Clicks:  148 CTR:  0.002227406125366845 won impressions:  66445 basebid:  0.08628762541806019\n",
      "Without Budget limit:  3369.0940000000005 Num Clicks:  148 With Budget limit:  3369.0940000000005 Num Clicks:  148 CTR:  0.0021911642781002015 won impressions:  67544 basebid:  0.08829431438127089\n"
     ]
    },
    {
     "name": "stdout",
     "output_type": "stream",
     "text": [
      "Without Budget limit:  3429.870000000001 Num Clicks:  148 With Budget limit:  3429.870000000001 Num Clicks:  148 CTR:  0.0021551410306816362 won impressions:  68673 basebid:  0.0903010033444816\n",
      "Without Budget limit:  3489.967000000001 Num Clicks:  149 With Budget limit:  3489.967000000001 Num Clicks:  149 CTR:  0.002135282315849814 won impressions:  69780 basebid:  0.0923076923076923\n",
      "Without Budget limit:  3554.196 Num Clicks:  149 With Budget limit:  3554.196 Num Clicks:  149 CTR:  0.002102589430607493 won impressions:  70865 basebid:  0.094314381270903\n",
      "Without Budget limit:  3609.803 Num Clicks:  151 With Budget limit:  3609.803 Num Clicks:  151 CTR:  0.00210057731098282 won impressions:  71885 basebid:  0.09632107023411371\n",
      "Without Budget limit:  3668.6420000000007 Num Clicks:  151 With Budget limit:  3668.6420000000007 Num Clicks:  151 CTR:  0.002068323151521793 won impressions:  73006 basebid:  0.09832775919732441\n",
      "Without Budget limit:  3731.3130000000006 Num Clicks:  152 With Budget limit:  3731.3130000000006 Num Clicks:  152 CTR:  0.0020522514007965975 won impressions:  74065 basebid:  0.1003344481605351\n",
      "Without Budget limit:  3790.771 Num Clicks:  153 With Budget limit:  3790.771 Num Clicks:  153 CTR:  0.0020366056572379367 won impressions:  75125 basebid:  0.1023411371237458\n",
      "Without Budget limit:  3851.6300000000006 Num Clicks:  153 With Budget limit:  3851.6300000000006 Num Clicks:  153 CTR:  0.002008585719349376 won impressions:  76173 basebid:  0.10434782608695652\n",
      "Without Budget limit:  3909.3970000000004 Num Clicks:  153 With Budget limit:  3909.3970000000004 Num Clicks:  153 CTR:  0.0019826871241965583 won impressions:  77168 basebid:  0.10635451505016721\n",
      "Without Budget limit:  3965.6140000000005 Num Clicks:  153 With Budget limit:  3965.6140000000005 Num Clicks:  153 CTR:  0.0019571223905034793 won impressions:  78176 basebid:  0.10836120401337791\n",
      "Without Budget limit:  4025.6940000000004 Num Clicks:  153 With Budget limit:  4025.6940000000004 Num Clicks:  153 CTR:  0.001932403758714762 won impressions:  79176 basebid:  0.11036789297658861\n",
      "Without Budget limit:  4078.8520000000008 Num Clicks:  153 With Budget limit:  4078.8520000000008 Num Clicks:  153 CTR:  0.0019090160457165672 won impressions:  80146 basebid:  0.11237458193979932\n",
      "Without Budget limit:  4135.718000000001 Num Clicks:  153 With Budget limit:  4135.718000000001 Num Clicks:  153 CTR:  0.0018863504666559814 won impressions:  81109 basebid:  0.11438127090301002\n",
      "Without Budget limit:  4193.144 Num Clicks:  154 With Budget limit:  4193.144 Num Clicks:  154 CTR:  0.0018755328218243818 won impressions:  82110 basebid:  0.11638795986622072\n",
      "Without Budget limit:  4249.456 Num Clicks:  155 With Budget limit:  4249.456 Num Clicks:  155 CTR:  0.001865222623345367 won impressions:  83100 basebid:  0.11839464882943143\n",
      "Without Budget limit:  4307.392000000001 Num Clicks:  155 With Budget limit:  4307.392000000001 Num Clicks:  155 CTR:  0.0018434166240500459 won impressions:  84083 basebid:  0.12040133779264213\n",
      "Without Budget limit:  4362.3150000000005 Num Clicks:  156 With Budget limit:  4362.3150000000005 Num Clicks:  156 CTR:  0.0018346250191106773 won impressions:  85031 basebid:  0.12240802675585283\n",
      "Without Budget limit:  4416.794000000001 Num Clicks:  156 With Budget limit:  4416.794000000001 Num Clicks:  156 CTR:  0.0018139323961349288 won impressions:  86001 basebid:  0.12441471571906353\n",
      "Without Budget limit:  4469.954000000001 Num Clicks:  156 With Budget limit:  4469.954000000001 Num Clicks:  156 CTR:  0.0017955181105624807 won impressions:  86883 basebid:  0.12642140468227422\n",
      "Without Budget limit:  4526.357000000001 Num Clicks:  157 With Budget limit:  4526.357000000001 Num Clicks:  157 CTR:  0.0017873202718548286 won impressions:  87841 basebid:  0.12842809364548494\n",
      "Without Budget limit:  4578.598 Num Clicks:  157 With Budget limit:  4578.598 Num Clicks:  157 CTR:  0.001769512538743308 won impressions:  88725 basebid:  0.13043478260869565\n",
      "Without Budget limit:  4636.183000000001 Num Clicks:  157 With Budget limit:  4636.183000000001 Num Clicks:  157 CTR:  0.0017510400285519903 won impressions:  89661 basebid:  0.13244147157190633\n",
      "Without Budget limit:  4688.857 Num Clicks:  157 With Budget limit:  4688.857 Num Clicks:  157 CTR:  0.0017330066008786453 won impressions:  90594 basebid:  0.13444816053511705\n",
      "Without Budget limit:  4741.955000000001 Num Clicks:  157 With Budget limit:  4741.955000000001 Num Clicks:  157 CTR:  0.0017151534352229153 won impressions:  91537 basebid:  0.13645484949832776\n",
      "Without Budget limit:  4794.945 Num Clicks:  157 With Budget limit:  4794.945 Num Clicks:  157 CTR:  0.0016996860452527878 won impressions:  92370 basebid:  0.13846153846153844\n",
      "Without Budget limit:  4841.879000000001 Num Clicks:  157 With Budget limit:  4841.879000000001 Num Clicks:  157 CTR:  0.0016851098541360325 won impressions:  93169 basebid:  0.14046822742474915\n",
      "Without Budget limit:  4899.084000000001 Num Clicks:  157 With Budget limit:  4899.084000000001 Num Clicks:  157 CTR:  0.0016690586296709722 won impressions:  94065 basebid:  0.14247491638795984\n",
      "Without Budget limit:  4955.893 Num Clicks:  157 With Budget limit:  4955.893 Num Clicks:  157 CTR:  0.0016528577594828765 won impressions:  94987 basebid:  0.14448160535117055\n",
      "Without Budget limit:  5011.184 Num Clicks:  157 With Budget limit:  5011.184 Num Clicks:  157 CTR:  0.0016370537203870537 won impressions:  95904 basebid:  0.14648829431438126\n",
      "Without Budget limit:  5064.113000000001 Num Clicks:  159 With Budget limit:  5064.113000000001 Num Clicks:  159 CTR:  0.0016440565803623128 won impressions:  96712 basebid:  0.14849498327759195\n",
      "Without Budget limit:  5115.586000000001 Num Clicks:  159 With Budget limit:  5115.586000000001 Num Clicks:  159 CTR:  0.0016296994793161411 won impressions:  97564 basebid:  0.15050167224080266\n",
      "Without Budget limit:  5170.162 Num Clicks:  159 With Budget limit:  5170.162 Num Clicks:  159 CTR:  0.0016155088852988692 won impressions:  98421 basebid:  0.15250836120401337\n",
      "Without Budget limit:  5228.1720000000005 Num Clicks:  160 With Budget limit:  5228.1720000000005 Num Clicks:  160 CTR:  0.0016112789526686808 won impressions:  99300 basebid:  0.15451505016722406\n",
      "Without Budget limit:  5277.665000000001 Num Clicks:  161 With Budget limit:  5277.665000000001 Num Clicks:  161 CTR:  0.0016084076764003637 won impressions:  100099 basebid:  0.15652173913043477\n",
      "Without Budget limit:  5328.637000000001 Num Clicks:  161 With Budget limit:  5328.637000000001 Num Clicks:  161 CTR:  0.0015964936636058942 won impressions:  100846 basebid:  0.15852842809364548\n",
      "Without Budget limit:  5376.122 Num Clicks:  162 With Budget limit:  5376.122 Num Clicks:  162 CTR:  0.0015948492276794944 won impressions:  101577 basebid:  0.16053511705685616\n",
      "Without Budget limit:  5428.223 Num Clicks:  162 With Budget limit:  5428.223 Num Clicks:  162 CTR:  0.0015825412486445828 won impressions:  102367 basebid:  0.16254180602006688\n",
      "Without Budget limit:  5481.174 Num Clicks:  163 With Budget limit:  5481.174 Num Clicks:  163 CTR:  0.0015804528045765258 won impressions:  103135 basebid:  0.1645484949832776\n",
      "Without Budget limit:  5536.688000000001 Num Clicks:  163 With Budget limit:  5536.688000000001 Num Clicks:  163 CTR:  0.0015673830472618876 won impressions:  103995 basebid:  0.16655518394648827\n",
      "Without Budget limit:  5591.540000000001 Num Clicks:  163 With Budget limit:  5591.540000000001 Num Clicks:  163 CTR:  0.001555818570555895 won impressions:  104768 basebid:  0.16856187290969898\n",
      "Without Budget limit:  5643.628000000001 Num Clicks:  163 With Budget limit:  5643.628000000001 Num Clicks:  163 CTR:  0.0015442186537823882 won impressions:  105555 basebid:  0.17056856187290967\n",
      "Without Budget limit:  5694.098000000001 Num Clicks:  163 With Budget limit:  5694.098000000001 Num Clicks:  163 CTR:  0.001533713468450667 won impressions:  106278 basebid:  0.17257525083612038\n",
      "Without Budget limit:  5744.852000000001 Num Clicks:  163 With Budget limit:  5744.852000000001 Num Clicks:  163 CTR:  0.001523065566571047 won impressions:  107021 basebid:  0.1745819397993311\n",
      "Without Budget limit:  5792.773 Num Clicks:  163 With Budget limit:  5792.773 Num Clicks:  163 CTR:  0.00151297164338423 won impressions:  107735 basebid:  0.17658862876254178\n"
     ]
    },
    {
     "name": "stdout",
     "output_type": "stream",
     "text": [
      "Without Budget limit:  5842.254 Num Clicks:  163 With Budget limit:  5842.254 Num Clicks:  163 CTR:  0.0015024980181774607 won impressions:  108486 basebid:  0.1785953177257525\n",
      "Without Budget limit:  5894.040000000001 Num Clicks:  163 With Budget limit:  5894.040000000001 Num Clicks:  163 CTR:  0.0014916495081217112 won impressions:  109275 basebid:  0.1806020066889632\n",
      "Without Budget limit:  5949.646000000001 Num Clicks:  163 With Budget limit:  5949.646000000001 Num Clicks:  163 CTR:  0.0014808354455679413 won impressions:  110073 basebid:  0.18260869565217389\n",
      "Without Budget limit:  5999.034 Num Clicks:  165 With Budget limit:  5999.034 Num Clicks:  165 CTR:  0.00148911591639291 won impressions:  110804 basebid:  0.1846153846153846\n",
      "Without Budget limit:  6047.577 Num Clicks:  165 With Budget limit:  6047.577 Num Clicks:  165 CTR:  0.0014791971097384959 won impressions:  111547 basebid:  0.1866220735785953\n",
      "Without Budget limit:  6098.42 Num Clicks:  165 With Budget limit:  6098.42 Num Clicks:  165 CTR:  0.0014696975095307657 won impressions:  112268 basebid:  0.188628762541806\n",
      "Without Budget limit:  6151.889 Num Clicks:  165 With Budget limit:  6151.889 Num Clicks:  165 CTR:  0.0014599315159397976 won impressions:  113019 basebid:  0.1906354515050167\n",
      "Without Budget limit:  6198.625 Num Clicks:  165 With Budget limit:  6198.625 Num Clicks:  165 CTR:  0.0014510852358673092 won impressions:  113708 basebid:  0.19264214046822742\n",
      "Without Budget limit:  6250.824 Num Clicks:  166 With Budget limit:  6249.983 Num Clicks:  166 CTR:  0.0014505797949963737 won impressions:  114437 basebid:  0.1946488294314381\n",
      "Without Budget limit:  6303.395 Num Clicks:  167 With Budget limit:  6249.950000000001 Num Clicks:  165 CTR:  0.0014442898033139885 won impressions:  114243 basebid:  0.19665551839464882\n",
      "Without Budget limit:  6355.438000000001 Num Clicks:  168 With Budget limit:  6249.912 Num Clicks:  165 CTR:  0.0014462520159876585 won impressions:  114088 basebid:  0.1986622073578595\n",
      "Without Budget limit:  6404.455000000001 Num Clicks:  168 With Budget limit:  6249.862000000001 Num Clicks:  163 CTR:  0.0014316706630479654 won impressions:  113853 basebid:  0.2006688963210702\n",
      "Without Budget limit:  6451.183 Num Clicks:  168 With Budget limit:  6249.907 Num Clicks:  162 CTR:  0.0014246517517940058 won impressions:  113712 basebid:  0.20267558528428092\n",
      "Without Budget limit:  6502.8 Num Clicks:  168 With Budget limit:  6249.987999999999 Num Clicks:  160 CTR:  0.0014091825860261932 won impressions:  113541 basebid:  0.2046822742474916\n",
      "Without Budget limit:  6546.232 Num Clicks:  168 With Budget limit:  6249.966 Num Clicks:  156 CTR:  0.00137547943393731 won impressions:  113415 basebid:  0.20668896321070232\n",
      "Without Budget limit:  6590.638 Num Clicks:  168 With Budget limit:  6249.974 Num Clicks:  152 CTR:  0.0013426612960214825 won impressions:  113208 basebid:  0.20869565217391303\n",
      "Without Budget limit:  6630.424000000001 Num Clicks:  169 With Budget limit:  6249.8870000000015 Num Clicks:  153 CTR:  0.0013529167293017004 won impressions:  113089 basebid:  0.21070234113712372\n",
      "Without Budget limit:  6677.577 Num Clicks:  170 With Budget limit:  6249.928 Num Clicks:  153 CTR:  0.0013551335647984128 won impressions:  112904 basebid:  0.21270903010033443\n",
      "Without Budget limit:  6723.388000000001 Num Clicks:  170 With Budget limit:  6249.827000000001 Num Clicks:  152 CTR:  0.0013484023206713624 won impressions:  112726 basebid:  0.21471571906354514\n",
      "Without Budget limit:  6769.313 Num Clicks:  170 With Budget limit:  6249.848 Num Clicks:  151 CTR:  0.0013412565175296009 won impressions:  112581 basebid:  0.21672240802675583\n",
      "Without Budget limit:  6813.292000000001 Num Clicks:  170 With Budget limit:  6249.984000000002 Num Clicks:  150 CTR:  0.0013335229899363464 won impressions:  112484 basebid:  0.21872909698996654\n",
      "Without Budget limit:  6858.142000000002 Num Clicks:  170 With Budget limit:  6249.949000000001 Num Clicks:  150 CTR:  0.0013352085595770059 won impressions:  112342 basebid:  0.22073578595317722\n",
      "Without Budget limit:  6903.345000000001 Num Clicks:  170 With Budget limit:  6249.978000000001 Num Clicks:  150 CTR:  0.0013373751783166904 won impressions:  112160 basebid:  0.22274247491638793\n",
      "Without Budget limit:  6946.8099999999995 Num Clicks:  170 With Budget limit:  6249.9710000000005 Num Clicks:  150 CTR:  0.0013387000330212675 won impressions:  112049 basebid:  0.22474916387959865\n",
      "Without Budget limit:  6992.080999999998 Num Clicks:  170 With Budget limit:  6249.988999999999 Num Clicks:  149 CTR:  0.0013313556596018443 won impressions:  111916 basebid:  0.22675585284280933\n",
      "Without Budget limit:  7040.366000000001 Num Clicks:  170 With Budget limit:  6249.962000000001 Num Clicks:  148 CTR:  0.0013249301725990117 won impressions:  111704 basebid:  0.22876254180602004\n",
      "Without Budget limit:  7085.332 Num Clicks:  170 With Budget limit:  6249.975 Num Clicks:  147 CTR:  0.001317735646093855 won impressions:  111555 basebid:  0.23076923076923075\n",
      "Without Budget limit:  7129.817000000001 Num Clicks:  170 With Budget limit:  6249.993000000001 Num Clicks:  147 CTR:  0.0013193914643450165 won impressions:  111415 basebid:  0.23277591973244144\n",
      "Without Budget limit:  7179.552 Num Clicks:  170 With Budget limit:  6249.891999999999 Num Clicks:  146 CTR:  0.001313008678447772 won impressions:  111195 basebid:  0.23478260869565215\n",
      "Without Budget limit:  7222.893000000001 Num Clicks:  171 With Budget limit:  6249.961000000001 Num Clicks:  146 CTR:  0.0013149480775639236 won impressions:  111031 basebid:  0.23678929765886286\n",
      "Without Budget limit:  7267.764 Num Clicks:  172 With Budget limit:  6249.987999999999 Num Clicks:  147 CTR:  0.0013261522639313648 won impressions:  110847 basebid:  0.23879598662207355\n",
      "Without Budget limit:  7312.142 Num Clicks:  173 With Budget limit:  6249.985000000001 Num Clicks:  147 CTR:  0.0013283332580309945 won impressions:  110665 basebid:  0.24080267558528426\n",
      "Without Budget limit:  7354.502000000002 Num Clicks:  173 With Budget limit:  6249.950000000002 Num Clicks:  146 CTR:  0.0013205738164583296 won impressions:  110558 basebid:  0.24280936454849497\n",
      "Without Budget limit:  7404.281000000001 Num Clicks:  173 With Budget limit:  6249.81 Num Clicks:  145 CTR:  0.001313346315837145 won impressions:  110405 basebid:  0.24481605351170566\n",
      "Without Budget limit:  7450.090000000001 Num Clicks:  173 With Budget limit:  6249.861000000002 Num Clicks:  145 CTR:  0.001315598461203455 won impressions:  110216 basebid:  0.24682274247491637\n",
      "Without Budget limit:  7493.1810000000005 Num Clicks:  173 With Budget limit:  6249.864000000001 Num Clicks:  143 CTR:  0.0012990670336758146 won impressions:  110079 basebid:  0.24882943143812705\n",
      "Without Budget limit:  7536.09 Num Clicks:  173 With Budget limit:  6249.972000000001 Num Clicks:  142 CTR:  0.0012912847373781464 won impressions:  109968 basebid:  0.2508361204013378\n",
      "Without Budget limit:  7582.179 Num Clicks:  173 With Budget limit:  6249.982 Num Clicks:  141 CTR:  0.001283965906607416 won impressions:  109816 basebid:  0.25284280936454845\n",
      "Without Budget limit:  7627.109999999999 Num Clicks:  173 With Budget limit:  6249.994999999999 Num Clicks:  140 CTR:  0.0012762660103012898 won impressions:  109695 basebid:  0.25484949832775916\n",
      "Without Budget limit:  7669.907000000001 Num Clicks:  174 With Budget limit:  6249.961 Num Clicks:  141 CTR:  0.00128763595517931 won impressions:  109503 basebid:  0.2568561872909699\n",
      "Without Budget limit:  7711.092000000001 Num Clicks:  174 With Budget limit:  6249.949 Num Clicks:  139 CTR:  0.001270833904751456 won impressions:  109377 basebid:  0.2588628762541806\n",
      "Without Budget limit:  7756.466 Num Clicks:  174 With Budget limit:  6249.993 Num Clicks:  139 CTR:  0.0012723810918677456 won impressions:  109244 basebid:  0.2608695652173913\n",
      "Without Budget limit:  7795.264000000002 Num Clicks:  175 With Budget limit:  6249.942000000001 Num Clicks:  140 CTR:  0.0012832028743744385 won impressions:  109102 basebid:  0.26287625418060195\n",
      "Without Budget limit:  7838.8240000000005 Num Clicks:  175 With Budget limit:  6249.991 Num Clicks:  139 CTR:  0.0012762128612875978 won impressions:  108916 basebid:  0.26488294314381267\n",
      "Without Budget limit:  7882.280000000001 Num Clicks:  175 With Budget limit:  6249.948000000001 Num Clicks:  138 CTR:  0.0012682657843948167 won impressions:  108810 basebid:  0.2668896321070234\n"
     ]
    },
    {
     "name": "stdout",
     "output_type": "stream",
     "text": [
      "Without Budget limit:  7925.927000000001 Num Clicks:  175 With Budget limit:  6249.952 Num Clicks:  137 CTR:  0.0012607207273530386 won impressions:  108668 basebid:  0.2688963210702341\n",
      "Without Budget limit:  7971.465000000001 Num Clicks:  175 With Budget limit:  6249.926 Num Clicks:  137 CTR:  0.0012627077246375475 won impressions:  108497 basebid:  0.2709030100334448\n",
      "Without Budget limit:  8010.93 Num Clicks:  175 With Budget limit:  6249.875 Num Clicks:  137 CTR:  0.0012642925037605782 won impressions:  108361 basebid:  0.2729096989966555\n",
      "Without Budget limit:  8047.7519999999995 Num Clicks:  175 With Budget limit:  6249.982 Num Clicks:  136 CTR:  0.001256107360234966 won impressions:  108271 basebid:  0.27491638795986617\n",
      "Without Budget limit:  8089.533 Num Clicks:  176 With Budget limit:  6249.866000000001 Num Clicks:  137 CTR:  0.0012672512672512672 won impressions:  108108 basebid:  0.2769230769230769\n",
      "Without Budget limit:  8127.671000000001 Num Clicks:  176 With Budget limit:  6249.97 Num Clicks:  136 CTR:  0.0012587231364418858 won impressions:  108046 basebid:  0.2789297658862876\n",
      "Without Budget limit:  8164.905999999999 Num Clicks:  176 With Budget limit:  6249.986999999999 Num Clicks:  135 CTR:  0.0012509266123054113 won impressions:  107920 basebid:  0.2809364548494983\n",
      "Without Budget limit:  8204.846000000001 Num Clicks:  176 With Budget limit:  6249.936 Num Clicks:  134 CTR:  0.0012435387028220904 won impressions:  107757 basebid:  0.282943143812709\n",
      "Without Budget limit:  8242.875 Num Clicks:  176 With Budget limit:  6249.94 Num Clicks:  133 CTR:  0.001235933129512782 won impressions:  107611 basebid:  0.2849498327759197\n",
      "Without Budget limit:  8285.723000000002 Num Clicks:  176 With Budget limit:  6249.995000000001 Num Clicks:  133 CTR:  0.0012375776975471768 won impressions:  107468 basebid:  0.2869565217391304\n",
      "Without Budget limit:  8324.244 Num Clicks:  176 With Budget limit:  6249.883000000002 Num Clicks:  132 CTR:  0.0012298060260495277 won impressions:  107334 basebid:  0.2889632107023411\n",
      "Without Budget limit:  8364.412999999999 Num Clicks:  176 With Budget limit:  6249.975 Num Clicks:  131 CTR:  0.0012217414011788405 won impressions:  107224 basebid:  0.2909698996655518\n",
      "Without Budget limit:  8401.565 Num Clicks:  176 With Budget limit:  6249.995000000001 Num Clicks:  131 CTR:  0.001223350111595678 won impressions:  107083 basebid:  0.2929765886287625\n",
      "Without Budget limit:  8441.178 Num Clicks:  176 With Budget limit:  6249.95 Num Clicks:  131 CTR:  0.001224630974750166 won impressions:  106971 basebid:  0.29498327759197324\n",
      "Without Budget limit:  8483.297 Num Clicks:  176 With Budget limit:  6249.960000000001 Num Clicks:  131 CTR:  0.0012260751555992326 won impressions:  106845 basebid:  0.2969899665551839\n",
      "Without Budget limit:  8518.254 Num Clicks:  177 With Budget limit:  6249.937000000001 Num Clicks:  131 CTR:  0.0012276032686108405 won impressions:  106712 basebid:  0.2989966555183946\n",
      "Without Budget limit:  8554.014000000001 Num Clicks:  177 With Budget limit:  6249.752000000001 Num Clicks:  131 CTR:  0.001228674063722226 won impressions:  106619 basebid:  0.3010033444816053\n",
      "Without Budget limit:  8590.369 Num Clicks:  177 With Budget limit:  6249.995000000001 Num Clicks:  131 CTR:  0.00123012780182735 won impressions:  106493 basebid:  0.30301003344481603\n",
      "Without Budget limit:  8623.762999999999 Num Clicks:  177 With Budget limit:  6249.986 Num Clicks:  131 CTR:  0.001231284013045971 won impressions:  106393 basebid:  0.30501672240802674\n",
      "Without Budget limit:  8661.156 Num Clicks:  177 With Budget limit:  6249.960000000001 Num Clicks:  131 CTR:  0.001232268502840802 won impressions:  106308 basebid:  0.30702341137123745\n",
      "Without Budget limit:  8698.314999999999 Num Clicks:  177 With Budget limit:  6249.9580000000005 Num Clicks:  130 CTR:  0.001224128514661293 won impressions:  106198 basebid:  0.3090301003344481\n",
      "Without Budget limit:  8737.103000000003 Num Clicks:  177 With Budget limit:  6249.950000000001 Num Clicks:  128 CTR:  0.0012062385148188287 won impressions:  106115 basebid:  0.3110367892976588\n",
      "Without Budget limit:  8776.345000000001 Num Clicks:  177 With Budget limit:  6249.747 Num Clicks:  127 CTR:  0.0011983393093036422 won impressions:  105980 basebid:  0.31304347826086953\n",
      "Without Budget limit:  8814.601999999999 Num Clicks:  178 With Budget limit:  6249.988 Num Clicks:  125 CTR:  0.0011814074816172996 won impressions:  105806 basebid:  0.31505016722408025\n",
      "Without Budget limit:  8846.758000000002 Num Clicks:  178 With Budget limit:  6249.993 Num Clicks:  125 CTR:  0.0011819101559175879 won impressions:  105761 basebid:  0.31705685618729096\n",
      "Without Budget limit:  8882.249 Num Clicks:  178 With Budget limit:  6249.927000000001 Num Clicks:  125 CTR:  0.00118301754651625 won impressions:  105662 basebid:  0.3190635451505016\n",
      "Without Budget limit:  8917.651 Num Clicks:  178 With Budget limit:  6249.913000000001 Num Clicks:  125 CTR:  0.0011842055401871992 won impressions:  105556 basebid:  0.3210702341137123\n",
      "Without Budget limit:  8956.612000000001 Num Clicks:  178 With Budget limit:  6249.871000000001 Num Clicks:  124 CTR:  0.0011758012516593969 won impressions:  105460 basebid:  0.32307692307692304\n",
      "Without Budget limit:  8989.652999999998 Num Clicks:  178 With Budget limit:  6249.955999999999 Num Clicks:  124 CTR:  0.0011768613866084564 won impressions:  105365 basebid:  0.32508361204013375\n",
      "Without Budget limit:  9033.657000000001 Num Clicks:  178 With Budget limit:  6249.944 Num Clicks:  122 CTR:  0.0011595745691990382 won impressions:  105211 basebid:  0.32709030100334446\n",
      "Without Budget limit:  9069.212 Num Clicks:  178 With Budget limit:  6249.994000000001 Num Clicks:  122 CTR:  0.0011607550616532197 won impressions:  105104 basebid:  0.3290969899665552\n",
      "Without Budget limit:  9104.192 Num Clicks:  178 With Budget limit:  6249.965999999999 Num Clicks:  121 CTR:  0.0011520298575672177 won impressions:  105032 basebid:  0.33110367892976583\n",
      "Without Budget limit:  9139.277999999998 Num Clicks:  179 With Budget limit:  6249.996 Num Clicks:  121 CTR:  0.0011532156608592887 won impressions:  104924 basebid:  0.33311036789297654\n",
      "Without Budget limit:  9172.992000000004 Num Clicks:  179 With Budget limit:  6249.991000000002 Num Clicks:  121 CTR:  0.0011538204807903193 won impressions:  104869 basebid:  0.33511705685618726\n",
      "Without Budget limit:  9206.66 Num Clicks:  179 With Budget limit:  6249.967 Num Clicks:  121 CTR:  0.0011545030389191562 won impressions:  104807 basebid:  0.33712374581939797\n",
      "Without Budget limit:  9244.488000000001 Num Clicks:  179 With Budget limit:  6249.981000000001 Num Clicks:  121 CTR:  0.0011554070183814754 won impressions:  104725 basebid:  0.3391304347826087\n",
      "Without Budget limit:  9282.69 Num Clicks:  179 With Budget limit:  6249.887000000001 Num Clicks:  121 CTR:  0.0011568541216513376 won impressions:  104594 basebid:  0.34113712374581934\n",
      "Without Budget limit:  9316.734 Num Clicks:  179 With Budget limit:  6249.996000000001 Num Clicks:  120 CTR:  0.001148171536827602 won impressions:  104514 basebid:  0.34314381270903005\n",
      "Without Budget limit:  9348.362 Num Clicks:  179 With Budget limit:  6249.942000000001 Num Clicks:  120 CTR:  0.0011493592322280328 won impressions:  104406 basebid:  0.34515050167224076\n",
      "Without Budget limit:  9383.640000000001 Num Clicks:  179 With Budget limit:  6249.978000000001 Num Clicks:  119 CTR:  0.0011406989896666092 won impressions:  104322 basebid:  0.3471571906354515\n",
      "Without Budget limit:  9413.587000000001 Num Clicks:  179 With Budget limit:  6249.999000000002 Num Clicks:  119 CTR:  0.0011412240827051805 won impressions:  104274 basebid:  0.3491638795986622\n",
      "Without Budget limit:  9444.340000000002 Num Clicks:  179 With Budget limit:  6249.949000000001 Num Clicks:  119 CTR:  0.0011420455090739834 won impressions:  104199 basebid:  0.3511705685618729\n",
      "Without Budget limit:  9477.999000000002 Num Clicks:  179 With Budget limit:  6249.969000000001 Num Clicks:  118 CTR:  0.0011334056920018058 won impressions:  104111 basebid:  0.35317725752508355\n",
      "Without Budget limit:  9509.603000000001 Num Clicks:  179 With Budget limit:  6249.944 Num Clicks:  118 CTR:  0.0011342881861001635 won impressions:  104030 basebid:  0.35518394648829427\n"
     ]
    },
    {
     "name": "stdout",
     "output_type": "stream",
     "text": [
      "Without Budget limit:  9547.358000000002 Num Clicks:  180 With Budget limit:  6249.960000000001 Num Clicks:  117 CTR:  0.0011261694836946059 won impressions:  103892 basebid:  0.357190635451505\n",
      "Without Budget limit:  9581.172000000002 Num Clicks:  180 With Budget limit:  6249.9400000000005 Num Clicks:  116 CTR:  0.0011173291979310145 won impressions:  103819 basebid:  0.3591973244147157\n",
      "Without Budget limit:  9613.645000000002 Num Clicks:  180 With Budget limit:  6249.991 Num Clicks:  116 CTR:  0.0011178567986894093 won impressions:  103770 basebid:  0.3612040133779264\n",
      "Without Budget limit:  9645.024 Num Clicks:  180 With Budget limit:  6249.979000000001 Num Clicks:  116 CTR:  0.0011187084703590477 won impressions:  103691 basebid:  0.36321070234113706\n",
      "Without Budget limit:  9676.913999999999 Num Clicks:  180 With Budget limit:  6249.9890000000005 Num Clicks:  115 CTR:  0.0011100814703270396 won impressions:  103596 basebid:  0.36521739130434777\n",
      "Without Budget limit:  9708.381 Num Clicks:  180 With Budget limit:  6249.999 Num Clicks:  113 CTR:  0.0010913972782676724 won impressions:  103537 basebid:  0.3672240802675585\n",
      "Without Budget limit:  9738.515 Num Clicks:  180 With Budget limit:  6249.997000000001 Num Clicks:  113 CTR:  0.0010920195597131758 won impressions:  103478 basebid:  0.3692307692307692\n",
      "Without Budget limit:  9768.958999999999 Num Clicks:  180 With Budget limit:  6249.988 Num Clicks:  111 CTR:  0.0010735944134402414 won impressions:  103391 basebid:  0.3712374581939799\n",
      "Without Budget limit:  9797.670000000002 Num Clicks:  180 With Budget limit:  6249.936000000001 Num Clicks:  110 CTR:  0.0010642723763267122 won impressions:  103357 basebid:  0.3732441471571906\n",
      "Without Budget limit:  9833.871000000001 Num Clicks:  180 With Budget limit:  6249.881 Num Clicks:  110 CTR:  0.0010653753026634383 won impressions:  103250 basebid:  0.3752508361204013\n",
      "Without Budget limit:  9868.552000000001 Num Clicks:  180 With Budget limit:  6249.877000000002 Num Clicks:  110 CTR:  0.0010662427543958282 won impressions:  103166 basebid:  0.377257525083612\n",
      "Without Budget limit:  9902.390000000001 Num Clicks:  180 With Budget limit:  6249.9800000000005 Num Clicks:  110 CTR:  0.0010670702132200298 won impressions:  103086 basebid:  0.3792642140468227\n",
      "Without Budget limit:  9933.990000000002 Num Clicks:  180 With Budget limit:  6249.957000000001 Num Clicks:  109 CTR:  0.001058396286873944 won impressions:  102986 basebid:  0.3812709030100334\n",
      "Without Budget limit:  9962.117000000002 Num Clicks:  180 With Budget limit:  6249.9839999999995 Num Clicks:  109 CTR:  0.001059167630282477 won impressions:  102911 basebid:  0.3832775919732441\n",
      "Without Budget limit:  9994.802000000001 Num Clicks:  180 With Budget limit:  6249.938 Num Clicks:  109 CTR:  0.0010603009698349239 won impressions:  102801 basebid:  0.38528428093645484\n",
      "Without Budget limit:  10026.255 Num Clicks:  181 With Budget limit:  6249.996 Num Clicks:  109 CTR:  0.0010611577328219007 won impressions:  102718 basebid:  0.3872909698996655\n",
      "Without Budget limit:  10056.513000000003 Num Clicks:  181 With Budget limit:  6249.860000000001 Num Clicks:  109 CTR:  0.0010620262291248515 won impressions:  102634 basebid:  0.3892976588628762\n",
      "Without Budget limit:  10093.021999999999 Num Clicks:  181 With Budget limit:  6249.946 Num Clicks:  109 CTR:  0.00106292724311779 won impressions:  102547 basebid:  0.3913043478260869\n",
      "Without Budget limit:  10121.037999999999 Num Clicks:  181 With Budget limit:  6249.968000000001 Num Clicks:  109 CTR:  0.001063487262544759 won impressions:  102493 basebid:  0.39331103678929763\n",
      "Without Budget limit:  10149.877999999999 Num Clicks:  181 With Budget limit:  6249.827 Num Clicks:  108 CTR:  0.0010544609556540586 won impressions:  102422 basebid:  0.39531772575250834\n",
      "Without Budget limit:  10181.243999999999 Num Clicks:  182 With Budget limit:  6249.942 Num Clicks:  109 CTR:  0.0010647858705845577 won impressions:  102368 basebid:  0.397324414715719\n",
      "Without Budget limit:  10211.708 Num Clicks:  182 With Budget limit:  6249.872000000001 Num Clicks:  109 CTR:  0.0010651188242651658 won impressions:  102336 basebid:  0.3993311036789297\n",
      "Without Budget limit:  10241.237 Num Clicks:  182 With Budget limit:  6249.955999999999 Num Clicks:  109 CTR:  0.0010657436739802105 won impressions:  102276 basebid:  0.4013377926421404\n",
      "Without Budget limit:  10274.179999999998 Num Clicks:  183 With Budget limit:  6249.799999999999 Num Clicks:  109 CTR:  0.0010666823243888595 won impressions:  102186 basebid:  0.40334448160535114\n",
      "Without Budget limit:  10306.185000000003 Num Clicks:  183 With Budget limit:  6249.987 Num Clicks:  109 CTR:  0.0010669955753944947 won impressions:  102156 basebid:  0.40535117056856185\n",
      "Without Budget limit:  10339.044 Num Clicks:  183 With Budget limit:  6249.989 Num Clicks:  109 CTR:  0.0010676121727376906 won impressions:  102097 basebid:  0.40735785953177256\n",
      "Without Budget limit:  10366.548 Num Clicks:  183 With Budget limit:  6249.945 Num Clicks:  109 CTR:  0.0010681771410091824 won impressions:  102043 basebid:  0.4093645484949832\n",
      "Without Budget limit:  10399.821 Num Clicks:  183 With Budget limit:  6249.974000000001 Num Clicks:  108 CTR:  0.0010589481115425344 won impressions:  101988 basebid:  0.41137123745819393\n",
      "Without Budget limit:  10433.788 Num Clicks:  183 With Budget limit:  6249.862 Num Clicks:  108 CTR:  0.001060153918643003 won impressions:  101872 basebid:  0.41337792642140464\n",
      "Without Budget limit:  10467.714000000002 Num Clicks:  183 With Budget limit:  6249.986000000001 Num Clicks:  108 CTR:  0.0010607578525546584 won impressions:  101814 basebid:  0.41538461538461535\n",
      "Without Budget limit:  10498.698999999999 Num Clicks:  183 With Budget limit:  6249.953 Num Clicks:  108 CTR:  0.0010617067919742832 won impressions:  101723 basebid:  0.41739130434782606\n",
      "Without Budget limit:  10527.600000000002 Num Clicks:  184 With Budget limit:  6249.966 Num Clicks:  108 CTR:  0.0010624379014883968 won impressions:  101653 basebid:  0.4193979933110367\n",
      "Without Budget limit:  10556.593000000003 Num Clicks:  184 With Budget limit:  6249.993 Num Clicks:  107 CTR:  0.0010531807041546503 won impressions:  101597 basebid:  0.42140468227424743\n",
      "Without Budget limit:  10583.756000000003 Num Clicks:  184 With Budget limit:  6249.995000000001 Num Clicks:  106 CTR:  0.0010436768933874208 won impressions:  101564 basebid:  0.42341137123745815\n",
      "Without Budget limit:  10616.411 Num Clicks:  184 With Budget limit:  6249.832 Num Clicks:  106 CTR:  0.0010441189507589563 won impressions:  101521 basebid:  0.42541806020066886\n",
      "Without Budget limit:  10648.716 Num Clicks:  184 With Budget limit:  6249.845000000001 Num Clicks:  106 CTR:  0.0010451793567216865 won impressions:  101418 basebid:  0.42742474916387957\n",
      "Without Budget limit:  10678.483 Num Clicks:  184 With Budget limit:  6249.9800000000005 Num Clicks:  106 CTR:  0.0010456226880394574 won impressions:  101375 basebid:  0.4294314381270903\n",
      "Without Budget limit:  10707.780999999999 Num Clicks:  184 With Budget limit:  6249.985000000001 Num Clicks:  106 CTR:  0.00104633486664166 won impressions:  101306 basebid:  0.43143812709030094\n",
      "Without Budget limit:  10735.578000000003 Num Clicks:  184 With Budget limit:  6249.915000000001 Num Clicks:  105 CTR:  0.0010371702045694755 won impressions:  101237 basebid:  0.43344481605351165\n",
      "Without Budget limit:  10764.505000000001 Num Clicks:  185 With Budget limit:  6249.987 Num Clicks:  105 CTR:  0.001038021234948692 won impressions:  101154 basebid:  0.43545150501672236\n",
      "Without Budget limit:  10801.495 Num Clicks:  185 With Budget limit:  6249.978 Num Clicks:  105 CTR:  0.0010390278657378088 won impressions:  101056 basebid:  0.4374581939799331\n",
      "Without Budget limit:  10828.86 Num Clicks:  185 With Budget limit:  6249.942 Num Clicks:  105 CTR:  0.0010394495866950452 won impressions:  101015 basebid:  0.4394648829431438\n",
      "Without Budget limit:  10856.784 Num Clicks:  185 With Budget limit:  6249.849 Num Clicks:  105 CTR:  0.0010401085675228576 won impressions:  100951 basebid:  0.44147157190635444\n",
      "Without Budget limit:  10885.813 Num Clicks:  185 With Budget limit:  6249.98 Num Clicks:  105 CTR:  0.0010404589910520527 won impressions:  100917 basebid:  0.44347826086956516\n",
      "Without Budget limit:  10913.51 Num Clicks:  185 With Budget limit:  6249.976000000001 Num Clicks:  104 CTR:  0.0010312958629169807 won impressions:  100844 basebid:  0.44548494983277587\n"
     ]
    },
    {
     "name": "stdout",
     "output_type": "stream",
     "text": [
      "Without Budget limit:  10943.155999999999 Num Clicks:  185 With Budget limit:  6249.851 Num Clicks:  103 CTR:  0.0010219876170820764 won impressions:  100784 basebid:  0.4474916387959866\n",
      "Without Budget limit:  10974.574 Num Clicks:  185 With Budget limit:  6249.911000000002 Num Clicks:  103 CTR:  0.0010230636285981048 won impressions:  100678 basebid:  0.4494983277591973\n",
      "Without Budget limit:  11002.447000000002 Num Clicks:  185 With Budget limit:  6249.957 Num Clicks:  103 CTR:  0.0010235211113650592 won impressions:  100633 basebid:  0.451505016722408\n",
      "Without Budget limit:  11031.293000000001 Num Clicks:  185 With Budget limit:  6249.987000000001 Num Clicks:  103 CTR:  0.0010244271164863144 won impressions:  100544 basebid:  0.45351170568561866\n",
      "Without Budget limit:  11058.345000000001 Num Clicks:  185 With Budget limit:  6249.786 Num Clicks:  102 CTR:  0.0010149859693116008 won impressions:  100494 basebid:  0.4555183946488294\n",
      "Without Budget limit:  11095.836000000003 Num Clicks:  185 With Budget limit:  6249.798000000002 Num Clicks:  102 CTR:  0.0010164930988091085 won impressions:  100345 basebid:  0.4575250836120401\n",
      "Without Budget limit:  11123.201 Num Clicks:  185 With Budget limit:  6249.8 Num Clicks:  102 CTR:  0.0010169694310953358 won impressions:  100298 basebid:  0.4595317725752508\n",
      "Without Budget limit:  11149.007 Num Clicks:  185 With Budget limit:  6249.978 Num Clicks:  102 CTR:  0.0010174462100128677 won impressions:  100251 basebid:  0.4615384615384615\n",
      "Without Budget limit:  11175.470000000001 Num Clicks:  186 With Budget limit:  6249.783 Num Clicks:  101 CTR:  0.001008054454902039 won impressions:  100193 basebid:  0.46354515050167217\n",
      "Without Budget limit:  11203.914999999999 Num Clicks:  186 With Budget limit:  6249.995 Num Clicks:  100 CTR:  0.0009990109791306607 won impressions:  100099 basebid:  0.4655518394648829\n",
      "Without Budget limit:  11231.503000000002 Num Clicks:  186 With Budget limit:  6249.955000000002 Num Clicks:  100 CTR:  0.0009995202302894612 won impressions:  100048 basebid:  0.4675585284280936\n",
      "Without Budget limit:  11259.165 Num Clicks:  186 With Budget limit:  6249.853999999999 Num Clicks:  100 CTR:  0.0010002700729196882 won impressions:  99973 basebid:  0.4695652173913043\n",
      "Without Budget limit:  11284.556000000004 Num Clicks:  186 With Budget limit:  6249.819000000001 Num Clicks:  100 CTR:  0.001000810656631872 won impressions:  99919 basebid:  0.471571906354515\n",
      "Without Budget limit:  11331.401999999996 Num Clicks:  186 With Budget limit:  6249.826999999999 Num Clicks:  100 CTR:  0.0010026067776218166 won impressions:  99740 basebid:  0.4735785953177257\n",
      "Without Budget limit:  11356.411000000002 Num Clicks:  186 With Budget limit:  6249.980000000001 Num Clicks:  99 CTR:  0.0009932379557356984 won impressions:  99674 basebid:  0.4755852842809364\n",
      "Without Budget limit:  11386.576000000001 Num Clicks:  186 With Budget limit:  6249.997000000001 Num Clicks:  99 CTR:  0.0009941555702837862 won impressions:  99582 basebid:  0.4775919732441471\n",
      "Without Budget limit:  11410.418999999998 Num Clicks:  186 With Budget limit:  6249.968000000001 Num Clicks:  98 CTR:  0.0009844596019970466 won impressions:  99547 basebid:  0.4795986622073578\n",
      "Without Budget limit:  11439.401000000002 Num Clicks:  187 With Budget limit:  6249.921 Num Clicks:  97 CTR:  0.0009749625594274859 won impressions:  99491 basebid:  0.4816053511705685\n",
      "Without Budget limit:  11465.606000000002 Num Clicks:  187 With Budget limit:  6249.971999999999 Num Clicks:  96 CTR:  0.0009655325012320597 won impressions:  99427 basebid:  0.48361204013377923\n",
      "Without Budget limit:  11489.845 Num Clicks:  187 With Budget limit:  6249.9580000000005 Num Clicks:  96 CTR:  0.000966057178509253 won impressions:  99373 basebid:  0.48561872909698994\n",
      "Without Budget limit:  11517.854000000001 Num Clicks:  187 With Budget limit:  6249.988999999999 Num Clicks:  96 CTR:  0.0009668550019639242 won impressions:  99291 basebid:  0.4876254180602006\n",
      "Without Budget limit:  11548.119999999999 Num Clicks:  187 With Budget limit:  6249.963 Num Clicks:  96 CTR:  0.0009674883599056699 won impressions:  99226 basebid:  0.4896321070234113\n",
      "Without Budget limit:  11577.960000000001 Num Clicks:  187 With Budget limit:  6249.963 Num Clicks:  96 CTR:  0.0009682397200173476 won impressions:  99149 basebid:  0.491638795986622\n",
      "Without Budget limit:  11605.880000000001 Num Clicks:  187 With Budget limit:  6249.925000000001 Num Clicks:  96 CTR:  0.0009689237880882932 won impressions:  99079 basebid:  0.49364548494983274\n",
      "Without Budget limit:  11631.230000000003 Num Clicks:  187 With Budget limit:  6249.863000000001 Num Clicks:  96 CTR:  0.0009692074709742554 won impressions:  99050 basebid:  0.49565217391304345\n",
      "Without Budget limit:  11659.676 Num Clicks:  188 With Budget limit:  6249.863 Num Clicks:  97 CTR:  0.0009802039228367304 won impressions:  98959 basebid:  0.4976588628762541\n",
      "Without Budget limit:  11684.635000000004 Num Clicks:  188 With Budget limit:  6249.956000000001 Num Clicks:  97 CTR:  0.0009806796008532924 won impressions:  98911 basebid:  0.4996655518394648\n",
      "Without Budget limit:  11710.655 Num Clicks:  188 With Budget limit:  6249.994000000001 Num Clicks:  97 CTR:  0.0009809969761021046 won impressions:  98879 basebid:  0.5016722408026756\n",
      "Without Budget limit:  11734.058000000003 Num Clicks:  188 With Budget limit:  6249.984000000002 Num Clicks:  97 CTR:  0.0009813741261217512 won impressions:  98841 basebid:  0.5036789297658862\n",
      "Without Budget limit:  11761.885000000002 Num Clicks:  188 With Budget limit:  6249.988000000001 Num Clicks:  97 CTR:  0.0009815131492405922 won impressions:  98827 basebid:  0.5056856187290969\n",
      "Without Budget limit:  11787.883000000002 Num Clicks:  188 With Budget limit:  6249.998000000001 Num Clicks:  97 CTR:  0.0009820099820808488 won impressions:  98777 basebid:  0.5076923076923077\n",
      "Without Budget limit:  11812.205999999998 Num Clicks:  188 With Budget limit:  6249.983000000001 Num Clicks:  96 CTR:  0.0009724177749865787 won impressions:  98723 basebid:  0.5096989966555183\n",
      "Without Budget limit:  11837.136999999999 Num Clicks:  188 With Budget limit:  6249.996 Num Clicks:  96 CTR:  0.0009728415079043373 won impressions:  98680 basebid:  0.5117056856187291\n",
      "Without Budget limit:  11858.733 Num Clicks:  188 With Budget limit:  6249.992 Num Clicks:  95 CTR:  0.0009630493182624563 won impressions:  98645 basebid:  0.5137123745819397\n",
      "Without Budget limit:  11881.852000000003 Num Clicks:  188 With Budget limit:  6249.948000000001 Num Clicks:  95 CTR:  0.0009632250803532502 won impressions:  98627 basebid:  0.5157190635451504\n",
      "Without Budget limit:  11907.575 Num Clicks:  188 With Budget limit:  6249.94 Num Clicks:  95 CTR:  0.0009636452162622738 won impressions:  98584 basebid:  0.5177257525083612\n",
      "Without Budget limit:  11933.228000000003 Num Clicks:  188 With Budget limit:  6249.9940000000015 Num Clicks:  95 CTR:  0.00096422227860949 won impressions:  98525 basebid:  0.5197324414715718\n",
      "Without Budget limit:  11957.743999999999 Num Clicks:  188 With Budget limit:  6249.986 Num Clicks:  95 CTR:  0.0009646726713309436 won impressions:  98479 basebid:  0.5217391304347826\n",
      "Without Budget limit:  11980.942000000003 Num Clicks:  188 With Budget limit:  6249.877 Num Clicks:  94 CTR:  0.0009550613169685947 won impressions:  98423 basebid:  0.5237458193979933\n",
      "Without Budget limit:  12010.052000000001 Num Clicks:  188 With Budget limit:  6249.869 Num Clicks:  94 CTR:  0.0009557313378205258 won impressions:  98354 basebid:  0.5257525083612039\n",
      "Without Budget limit:  12033.764000000003 Num Clicks:  188 With Budget limit:  6249.950000000001 Num Clicks:  94 CTR:  0.000956246630247912 won impressions:  98301 basebid:  0.5277591973244147\n",
      "Without Budget limit:  12057.688 Num Clicks:  190 With Budget limit:  6249.974999999999 Num Clicks:  96 CTR:  0.000976791037942227 won impressions:  98281 basebid:  0.5297658862876253\n",
      "Without Budget limit:  12084.595 Num Clicks:  190 With Budget limit:  6249.9800000000005 Num Clicks:  96 CTR:  0.0009774175812987437 won impressions:  98218 basebid:  0.5317725752508361\n",
      "Without Budget limit:  12109.149000000001 Num Clicks:  190 With Budget limit:  6249.853000000001 Num Clicks:  96 CTR:  0.000977676389115203 won impressions:  98192 basebid:  0.5337792642140468\n",
      "Without Budget limit:  12132.095999999998 Num Clicks:  190 With Budget limit:  6249.893 Num Clicks:  95 CTR:  0.0009679654385392892 won impressions:  98144 basebid:  0.5357859531772575\n"
     ]
    },
    {
     "name": "stdout",
     "output_type": "stream",
     "text": [
      "Without Budget limit:  12156.422999999999 Num Clicks:  190 With Budget limit:  6249.974000000001 Num Clicks:  95 CTR:  0.0009683798495443518 won impressions:  98102 basebid:  0.5377926421404682\n",
      "Without Budget limit:  12180.885000000002 Num Clicks:  190 With Budget limit:  6249.950000000001 Num Clicks:  95 CTR:  0.00096891318537859 won impressions:  98048 basebid:  0.5397993311036788\n",
      "Without Budget limit:  12203.893 Num Clicks:  190 With Budget limit:  6249.957 Num Clicks:  95 CTR:  0.0009694866823145219 won impressions:  97990 basebid:  0.5418060200668896\n",
      "Without Budget limit:  12229.581000000004 Num Clicks:  190 With Budget limit:  6249.947000000002 Num Clicks:  95 CTR:  0.000970110388350506 won impressions:  97927 basebid:  0.5438127090301003\n",
      "Without Budget limit:  12251.907000000003 Num Clicks:  190 With Budget limit:  6249.959000000002 Num Clicks:  95 CTR:  0.0009703382905703546 won impressions:  97904 basebid:  0.545819397993311\n",
      "Without Budget limit:  12279.008000000002 Num Clicks:  190 With Budget limit:  6249.928000000001 Num Clicks:  94 CTR:  0.0009608209908722006 won impressions:  97833 basebid:  0.5478260869565217\n",
      "Without Budget limit:  12302.697000000002 Num Clicks:  190 With Budget limit:  6249.97 Num Clicks:  94 CTR:  0.0009611648499969325 won impressions:  97798 basebid:  0.5498327759197323\n",
      "Without Budget limit:  12328.936 Num Clicks:  191 With Budget limit:  6249.969000000001 Num Clicks:  95 CTR:  0.0009720460033561168 won impressions:  97732 basebid:  0.5518394648829431\n",
      "Without Budget limit:  12354.735 Num Clicks:  191 With Budget limit:  6249.959000000001 Num Clicks:  95 CTR:  0.0009725037364617243 won impressions:  97686 basebid:  0.5538461538461538\n",
      "Without Budget limit:  12379.399000000001 Num Clicks:  191 With Budget limit:  6249.892 Num Clicks:  95 CTR:  0.0009728622631848438 won impressions:  97650 basebid:  0.5558528428093645\n",
      "Without Budget limit:  12402.2 Num Clicks:  191 With Budget limit:  6249.9800000000005 Num Clicks:  95 CTR:  0.000973290850041493 won impressions:  97607 basebid:  0.5578595317725752\n",
      "Without Budget limit:  12426.941 Num Clicks:  191 With Budget limit:  6249.952 Num Clicks:  95 CTR:  0.0009738795259769549 won impressions:  97548 basebid:  0.5598662207357858\n",
      "Without Budget limit:  12450.187999999998 Num Clicks:  191 With Budget limit:  6249.964000000002 Num Clicks:  95 CTR:  0.0009745888773762016 won impressions:  97477 basebid:  0.5618729096989966\n",
      "Without Budget limit:  12471.852 Num Clicks:  191 With Budget limit:  6249.945000000001 Num Clicks:  95 CTR:  0.00097505901672996 won impressions:  97430 basebid:  0.5638795986622073\n",
      "Without Budget limit:  12492.555000000002 Num Clicks:  192 With Budget limit:  6249.985000000001 Num Clicks:  96 CTR:  0.0009857173660810547 won impressions:  97391 basebid:  0.565886287625418\n",
      "Without Budget limit:  12515.366000000002 Num Clicks:  192 With Budget limit:  6249.997000000001 Num Clicks:  96 CTR:  0.0009862338196013972 won impressions:  97340 basebid:  0.5678929765886287\n",
      "Without Budget limit:  12540.623000000001 Num Clicks:  192 With Budget limit:  6249.987 Num Clicks:  96 CTR:  0.000986426362244531 won impressions:  97321 basebid:  0.5698996655518394\n",
      "Without Budget limit:  12564.037000000002 Num Clicks:  192 With Budget limit:  6249.967000000001 Num Clicks:  96 CTR:  0.0009871160786813775 won impressions:  97253 basebid:  0.5719063545150501\n",
      "Without Budget limit:  12586.866000000002 Num Clicks:  192 With Budget limit:  6249.8910000000005 Num Clicks:  96 CTR:  0.0009875527209134863 won impressions:  97210 basebid:  0.5739130434782608\n",
      "Without Budget limit:  12607.485000000002 Num Clicks:  192 With Budget limit:  6249.932000000001 Num Clicks:  95 CTR:  0.0009779800080297306 won impressions:  97139 basebid:  0.5759197324414715\n",
      "Without Budget limit:  12630.494999999999 Num Clicks:  192 With Budget limit:  6249.996000000001 Num Clicks:  95 CTR:  0.0009784937376400792 won impressions:  97088 basebid:  0.5779264214046822\n",
      "Without Budget limit:  12649.792000000003 Num Clicks:  192 With Budget limit:  6249.987000000002 Num Clicks:  95 CTR:  0.0009784735812133072 won impressions:  97090 basebid:  0.579933110367893\n",
      "Without Budget limit:  12672.34 Num Clicks:  192 With Budget limit:  6249.953 Num Clicks:  95 CTR:  0.000979068545104142 won impressions:  97031 basebid:  0.5819397993311036\n",
      "Without Budget limit:  12693.746000000003 Num Clicks:  193 With Budget limit:  6249.984000000001 Num Clicks:  95 CTR:  0.0009793713466871475 won impressions:  97001 basebid:  0.5839464882943143\n",
      "Without Budget limit:  12714.117000000002 Num Clicks:  193 With Budget limit:  6249.987000000001 Num Clicks:  94 CTR:  0.0009693019994431669 won impressions:  96977 basebid:  0.585953177257525\n",
      "Without Budget limit:  12733.058999999997 Num Clicks:  193 With Budget limit:  6249.932 Num Clicks:  94 CTR:  0.0009696319524674039 won impressions:  96944 basebid:  0.5879598662207357\n",
      "Without Budget limit:  12752.242 Num Clicks:  193 With Budget limit:  6249.831 Num Clicks:  94 CTR:  0.0009700121767486018 won impressions:  96906 basebid:  0.5899665551839465\n",
      "Without Budget limit:  12773.505 Num Clicks:  193 With Budget limit:  6249.948 Num Clicks:  94 CTR:  0.0009707434448999825 won impressions:  96833 basebid:  0.5919732441471571\n",
      "Without Budget limit:  12794.875 Num Clicks:  193 With Budget limit:  6249.968000000001 Num Clicks:  94 CTR:  0.0009709339558328341 won impressions:  96814 basebid:  0.5939799331103678\n",
      "Without Budget limit:  12820.533 Num Clicks:  193 With Budget limit:  6249.948 Num Clicks:  94 CTR:  0.000971355350721283 won impressions:  96772 basebid:  0.5959866220735786\n",
      "Without Budget limit:  12843.728 Num Clicks:  193 With Budget limit:  6249.965 Num Clicks:  93 CTR:  0.0009618865387598903 won impressions:  96685 basebid:  0.5979933110367892\n",
      "Without Budget limit:  12867.045 Num Clicks:  193 With Budget limit:  6249.91 Num Clicks:  93 CTR:  0.000962214956752059 won impressions:  96652 basebid:  0.6\n"
     ]
    },
    {
     "data": {
      "image/png": "[encoded data removed]",
      "text/plain": [
       "<Figure size 432x288 with 1 Axes>"
      ]
     },
     "metadata": {
      "needs_background": "light"
     },
     "output_type": "display_data"
    },
    {
     "name": "stdout",
     "output_type": "stream",
     "text": [
      "Optimal basebid is:  0.1946488294314381 , Optimal num clicks:  166 , impressions: 114437\n",
      "budget spent: 6249.983 , avgCPM: 54.61505457151097 , avgCPC: 37.6505\n",
      "CTR:  0.14505797949963736 %\n"
     ]
    }
   ],
   "source": [
    "budget = 6250\n",
    "optimal_basebid = 0\n",
    "optimal_num_clicks = 0\n",
    "num_won_auctions = 0\n",
    "base_bids_array = []\n",
    "num_clicks_array = []\n",
    "\n",
    "avg_ctr = 7.375e-04 \n",
    "\n",
    "\n",
    "# Line search to find optimal base bid\n",
    "for bid in np.linspace(0.0, 0.6, 300):\n",
    "    validation_final['bid'] = bid * (predicted_XGB_CTR/avg_ctr)**2\n",
    "    \n",
    "    Won_Auctions = validation_final[ (validation_final['bid'] >= validation_final['slotprice']) & (validation_final['bid'] >=validation_final['payprice']) ]\n",
    "    exceeding_indexes = np.flatnonzero( (Won_Auctions['payprice'].cumsum().values) > budget  )\n",
    "    \n",
    "    # Budget exceeded\n",
    "    if len(exceeding_indexes) > 0:\n",
    "        ExceedBudget_Index = exceeding_indexes[0]\n",
    "        num_clicks = Won_Auctions[:ExceedBudget_Index]['click'].sum()\n",
    "        budget_spent = Won_Auctions[:ExceedBudget_Index]['payprice'].sum()\n",
    "        num_won_auctions = len(Won_Auctions[:ExceedBudget_Index])\n",
    "    \n",
    "    # No budget exceeded\n",
    "    else:\n",
    "        num_clicks = Won_Auctions[:]['click'].sum()\n",
    "        budget_spent = Won_Auctions[:]['payprice'].sum()\n",
    "        num_won_auctions = len(Won_Auctions[:])\n",
    "    \n",
    "    # Max clicks achieved --> optimal basebid\n",
    "    if num_clicks > optimal_num_clicks:\n",
    "        optimal_basebid = bid\n",
    "        optimal_num_clicks = num_clicks\n",
    "        optimal_impressions = num_won_auctions\n",
    "        opt_budget = budget_spent\n",
    "    \n",
    "    print ('Without Budget limit: ', Won_Auctions['payprice'].sum(), 'Num Clicks: ',Won_Auctions['click'].sum() , \n",
    "           'With Budget limit: ', budget_spent, \"Num Clicks: \", num_clicks , \n",
    "           \"CTR: \", num_clicks/num_won_auctions, 'won impressions: ', num_won_auctions , \"basebid: \", bid)\n",
    "    \n",
    "    base_bids_array.append(bid)\n",
    "    num_clicks_array.append(num_clicks)\n",
    "\n",
    "\n",
    "# bids vs number of clicks, plot\n",
    "plt.plot(base_bids_array, num_clicks_array)\n",
    "plt.xlabel(\"basebid value\")\n",
    "plt.ylabel(\"KPI\")\n",
    "plt.title(\"Bid vs KPI \")\n",
    "plt.show()\n",
    "\n",
    "\n",
    "avgCPM = (opt_budget/optimal_impressions)*1000\n",
    "avgCPC = (opt_budget/optimal_num_clicks)\n",
    "\n",
    "optimal_bids = optimal_basebid * ((predicted_XGB_CTR/avg_ctr)**2)\n",
    "\n",
    "print (\"Optimal basebid is: \", optimal_basebid, \", Optimal num clicks: \", optimal_num_clicks, ', impressions:', optimal_impressions)\n",
    "print('budget spent:', opt_budget , ', avgCPM:', avgCPM, ', avgCPC:', avgCPC)\n",
    "print('CTR: ' , (optimal_num_clicks/optimal_impressions)*100, '%')"
   ]
  },
  {
   "cell_type": "markdown",
   "metadata": {},
   "source": [
    "## Optimal bids for the validation set\n"
   ]
  },
  {
   "cell_type": "code",
   "execution_count": 11,
   "metadata": {},
   "outputs": [],
   "source": [
    "optimal_bids = optimal_bids * 1000\n",
    "aaa = pd.DataFrame(optimal_bids)\n",
    "aaa.to_csv('optimalbids_validation_square.csv')"
   ]
  },
  {
   "cell_type": "markdown",
   "metadata": {},
   "source": [
    "## Optimal bids for the test set\n",
    "\n",
    "Similar steps of feature engineering must take place"
   ]
  },
  {
   "cell_type": "code",
   "execution_count": 21,
   "metadata": {},
   "outputs": [],
   "source": [
    "def preprocess_df(df):\n",
    "\n",
    "    \n",
    "    #---real price-----    \n",
    "    if 'bidprice' and 'payprice' in df.columns:\n",
    "        df['bidprice'] = df['bidprice'].apply( lambda x: x/1000.0 )\n",
    "        df['payprice'] = df['payprice'].apply( lambda x: x/1000.0 )\n",
    "       \n",
    "        \n",
    "    #---slot area-----  \n",
    "    df['slot_area']=df['slotwidth'] * df['slotheight'] \n",
    "    \n",
    "    #----real price---   \n",
    "    df['slotprice'] = df['slotprice'].apply( lambda x: x/1000.0 )\n",
    "    \n",
    "    \n",
    "    # ----browser/OS splitting--    \n",
    "    df['OS'] = df['useragent'].apply( lambda x: x.split('_')[0] )\n",
    "    df['browser'] = df['useragent'].apply( lambda x: x.split('_')[1] ) \n",
    "    df['OS'] = df['OS'].astype('category')\n",
    "    df['browser'] = df['browser'].astype('category')\n",
    "    cat_columns = df.select_dtypes(['category']).columns\n",
    "    df[cat_columns] = df[cat_columns].apply(lambda x: x.cat.codes)\n",
    "    \n",
    "    \n",
    "    df['advertiser'] = df['advertiser'].astype('category')\n",
    "    df['adexchange'] = df['adexchange'].astype('category')\n",
    "    df['city'] = df['city'].astype('category')\n",
    "    df['region'] = df['region'].astype('category')\n",
    "    df['weekday'] = df['weekday'].astype('category')\n",
    "\n",
    "    return df   \n",
    "        \n",
    "\n",
    "def tag(df):\n",
    "    df['usertag'] = df['usertag'].apply(lambda x: str(x).split(','))\n",
    "    \n",
    "    AllTags = np.array(df['usertag'])\n",
    "    Tags = [tag for usertags in AllTags for tag in usertags]\n",
    "    Tags = list(set(Tags))\n",
    "    \n",
    "    for t in Tags:\n",
    "        df['usertag_' + t] = df['usertag'].apply(lambda x: int(t in x))\n",
    "    \n",
    "    return df\n"
   ]
  },
  {
   "cell_type": "code",
   "execution_count": 22,
   "metadata": {},
   "outputs": [],
   "source": [
    "test_final = preprocess_df(test)\n",
    "test_final = tag(test)"
   ]
  },
  {
   "cell_type": "code",
   "execution_count": 23,
   "metadata": {},
   "outputs": [],
   "source": [
    "# Dropping the same columns as before, except for bidid\n",
    "test_final = test_final.drop(columns = ['usertag', 'useragent', 'slotheight', 'slotwidth','urlid','IP', 'domain', 'url','slotid', 'keypage','userid', 'creative', 'slotvisibility','slotformat'])"
   ]
  },
  {
   "cell_type": "code",
   "execution_count": 24,
   "metadata": {},
   "outputs": [
    {
     "data": {
      "text/plain": [
       "(303375, 80)"
      ]
     },
     "execution_count": 24,
     "metadata": {},
     "output_type": "execute_result"
    }
   ],
   "source": [
    "test_final.shape"
   ]
  },
  {
   "cell_type": "code",
   "execution_count": 25,
   "metadata": {},
   "outputs": [],
   "source": [
    "test_final_final = pd.DataFrame(0, index=range(0,len(test_final)), columns=list( train_final.columns ))\n",
    "\n",
    "for col in train_final:\n",
    "    if col in test_final:\n",
    "        test_final_final[col] = np.array( test_final[col] )"
   ]
  },
  {
   "cell_type": "code",
   "execution_count": 26,
   "metadata": {},
   "outputs": [
    {
     "data": {
      "text/plain": [
       "(303375, 80)"
      ]
     },
     "execution_count": 26,
     "metadata": {},
     "output_type": "execute_result"
    }
   ],
   "source": [
    "test_final_final.shape"
   ]
  },
  {
   "cell_type": "code",
   "execution_count": 27,
   "metadata": {},
   "outputs": [],
   "source": [
    "test_final_final['adexchange'] = test_final_final['adexchange'].fillna(4)\n",
    "X_test = test_final_final.astype(float)\n",
    "X_test = X_test.drop(columns = ['bidprice', 'payprice', 'click'])\n",
    "\n",
    "test_pred = model_xgb.predict(X_test)"
   ]
  },
  {
   "cell_type": "markdown",
   "metadata": {},
   "source": [
    "#### pCTR for the test set"
   ]
  },
  {
   "cell_type": "code",
   "execution_count": 28,
   "metadata": {},
   "outputs": [
    {
     "data": {
      "text/plain": [
       "array([0.15464635, 0.25799447, 0.01843025, ..., 0.01211043, 0.14158835,\n",
       "       0.01245131], dtype=float32)"
      ]
     },
     "execution_count": 28,
     "metadata": {},
     "output_type": "execute_result"
    }
   ],
   "source": [
    "test_pCTR = model_xgb.predict_proba(X_test)[:,1]\n",
    "test_pCTR"
   ]
  },
  {
   "cell_type": "markdown",
   "metadata": {},
   "source": [
    "#### Recalibration of the pCTR"
   ]
  },
  {
   "cell_type": "code",
   "execution_count": 29,
   "metadata": {},
   "outputs": [
    {
     "data": {
      "text/plain": [
       "array([1.3336581e-03, 2.5317755e-03, 1.3704824e-04, ..., 8.9481917e-05,\n",
       "       1.2026303e-03, 9.2032140e-05], dtype=float32)"
      ]
     },
     "execution_count": 29,
     "metadata": {},
     "output_type": "execute_result"
    }
   ],
   "source": [
    "test_pCTR_final = test_pCTR/(test_pCTR+((1-test_pCTR)/w)) \n",
    "test_pCTR_final"
   ]
  },
  {
   "cell_type": "code",
   "execution_count": 30,
   "metadata": {},
   "outputs": [],
   "source": [
    "final_bids = optimal_basebid * (test_pCTR_final/avg_ctr)**2   "
   ]
  },
  {
   "cell_type": "code",
   "execution_count": 33,
   "metadata": {},
   "outputs": [
    {
     "name": "stderr",
     "output_type": "stream",
     "text": [
      "C:\\Users\\apogn\\AppData\\Local\\Continuum\\anaconda3\\lib\\site-packages\\ipykernel_launcher.py:3: SettingWithCopyWarning: \n",
      "A value is trying to be set on a copy of a slice from a DataFrame.\n",
      "Try using .loc[row_indexer,col_indexer] = value instead\n",
      "\n",
      "See the caveats in the documentation: http://pandas.pydata.org/pandas-docs/stable/indexing.html#indexing-view-versus-copy\n",
      "  This is separate from the ipykernel package so we can avoid doing imports until\n"
     ]
    }
   ],
   "source": [
    "bbb = test[['bidid']]\n",
    "bbb['bidprice'] = final_bids*1000\n",
    "bbb.to_csv('Group_14_square.csv', index=False)"
   ]
  },
  {
   "cell_type": "code",
   "execution_count": null,
   "metadata": {},
   "outputs": [],
   "source": []
  }
 ],
 "metadata": {
  "kernelspec": {
   "display_name": "Python 3",
   "language": "python",
   "name": "python3"
  },
  "language_info": {
   "codemirror_mode": {
    "name": "ipython",
    "version": 3
   },
   "file_extension": ".py",
   "mimetype": "text/x-python",
   "name": "python",
   "nbconvert_exporter": "python",
   "pygments_lexer": "ipython3",
   "version": "3.7.1"
  }
 },
 "nbformat": 4,
 "nbformat_minor": 2
}
