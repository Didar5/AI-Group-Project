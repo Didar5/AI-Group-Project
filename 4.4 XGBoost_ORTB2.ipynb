{
 "cells": [
  {
   "cell_type": "code",
   "execution_count": 1,
   "metadata": {},
   "outputs": [],
   "source": [
    "import numpy as np\n",
    "import pandas as pd\n",
    "import math\n",
    "import random\n",
    "import matplotlib.pyplot as plt\n",
    "import os\n",
    "from sklearn import metrics"
   ]
  },
  {
   "cell_type": "code",
   "execution_count": 2,
   "metadata": {},
   "outputs": [],
   "source": [
    "pd.set_option('display.max_rows', 500)\n",
    "pd.set_option('display.max_columns', 500)"
   ]
  },
  {
   "cell_type": "markdown",
   "metadata": {},
   "source": [
    "### Importing the feature engineered validation and train sets, in order to avoid all the preprocessing"
   ]
  },
  {
   "cell_type": "code",
   "execution_count": 3,
   "metadata": {},
   "outputs": [],
   "source": [
    "train_final = pd.read_csv('train_after_engineering.csv', index_col=0) \n",
    "validation_final = pd.read_csv('validation_after_engineering.csv', index_col=0) \n",
    "test = pd.read_csv('test.csv')"
   ]
  },
  {
   "cell_type": "markdown",
   "metadata": {},
   "source": [
    "## XGBoost"
   ]
  },
  {
   "cell_type": "markdown",
   "metadata": {},
   "source": [
    "#### XGBoost training with best parameters we have already found in XGBoost_linear.ipynb file"
   ]
  },
  {
   "cell_type": "code",
   "execution_count": 12,
   "metadata": {},
   "outputs": [],
   "source": [
    "import xgboost as xgb\n",
    "\n",
    "model_xgb = xgb.XGBClassifier(base_score=0.5, booster='gbtree', colsample_bylevel=1,\n",
    "                             colsample_bytree=1, gamma=0, learning_rate=0.1, max_delta_step=0,\n",
    "                             max_depth=3, min_child_weight=1, missing=None, n_estimators=120,\n",
    "                             n_jobs=3, nthread=None, objective='binary:logistic',\n",
    "                             random_state=500, reg_alpha=1, reg_lambda=0.8, scale_pos_weight=1,\n",
    "                             seed=None, silent=False, subsample=1, verbose=10)"
   ]
  },
  {
   "cell_type": "code",
   "execution_count": 13,
   "metadata": {},
   "outputs": [],
   "source": [
    "train_final['adexchange'] = train_final['adexchange'].fillna(4)\n",
    "X_xgb = train_final.drop(columns = ['bidprice', 'payprice', 'click']).astype(float)\n",
    "y_xgb = train_final['click']  # Labels\n",
    "\n",
    "validation_final['adexchange'] = validation_final['adexchange'].fillna(4)\n",
    "X_v_xgb = validation_final.drop(columns = ['bidprice', 'payprice', 'click']).astype(float)\n",
    "y_v_xgb = validation_final['click']\n"
   ]
  },
  {
   "cell_type": "code",
   "execution_count": 15,
   "metadata": {},
   "outputs": [
    {
     "name": "stdout",
     "output_type": "stream",
     "text": [
      "[18:26:29] C:\\Users\\Administrator\\Desktop\\xgboost\\src\\tree\\updater_prune.cc:74: tree pruning end, 1 roots, 12 extra nodes, 0 pruned nodes, max_depth=3\n",
      "[18:26:29] C:\\Users\\Administrator\\Desktop\\xgboost\\src\\tree\\updater_prune.cc:74: tree pruning end, 1 roots, 12 extra nodes, 0 pruned nodes, max_depth=3\n",
      "[18:26:29] C:\\Users\\Administrator\\Desktop\\xgboost\\src\\tree\\updater_prune.cc:74: tree pruning end, 1 roots, 12 extra nodes, 0 pruned nodes, max_depth=3\n",
      "[18:26:29] C:\\Users\\Administrator\\Desktop\\xgboost\\src\\tree\\updater_prune.cc:74: tree pruning end, 1 roots, 14 extra nodes, 0 pruned nodes, max_depth=3\n",
      "[18:26:29] C:\\Users\\Administrator\\Desktop\\xgboost\\src\\tree\\updater_prune.cc:74: tree pruning end, 1 roots, 12 extra nodes, 0 pruned nodes, max_depth=3\n",
      "[18:26:29] C:\\Users\\Administrator\\Desktop\\xgboost\\src\\tree\\updater_prune.cc:74: tree pruning end, 1 roots, 14 extra nodes, 0 pruned nodes, max_depth=3\n",
      "[18:26:29] C:\\Users\\Administrator\\Desktop\\xgboost\\src\\tree\\updater_prune.cc:74: tree pruning end, 1 roots, 14 extra nodes, 0 pruned nodes, max_depth=3\n",
      "[18:26:29] C:\\Users\\Administrator\\Desktop\\xgboost\\src\\tree\\updater_prune.cc:74: tree pruning end, 1 roots, 14 extra nodes, 0 pruned nodes, max_depth=3\n",
      "[18:26:29] C:\\Users\\Administrator\\Desktop\\xgboost\\src\\tree\\updater_prune.cc:74: tree pruning end, 1 roots, 14 extra nodes, 0 pruned nodes, max_depth=3\n",
      "[18:26:29] C:\\Users\\Administrator\\Desktop\\xgboost\\src\\tree\\updater_prune.cc:74: tree pruning end, 1 roots, 14 extra nodes, 0 pruned nodes, max_depth=3\n",
      "[18:26:29] C:\\Users\\Administrator\\Desktop\\xgboost\\src\\tree\\updater_prune.cc:74: tree pruning end, 1 roots, 14 extra nodes, 0 pruned nodes, max_depth=3\n",
      "[18:26:29] C:\\Users\\Administrator\\Desktop\\xgboost\\src\\tree\\updater_prune.cc:74: tree pruning end, 1 roots, 14 extra nodes, 0 pruned nodes, max_depth=3\n",
      "[18:26:29] C:\\Users\\Administrator\\Desktop\\xgboost\\src\\tree\\updater_prune.cc:74: tree pruning end, 1 roots, 14 extra nodes, 0 pruned nodes, max_depth=3\n",
      "[18:26:29] C:\\Users\\Administrator\\Desktop\\xgboost\\src\\tree\\updater_prune.cc:74: tree pruning end, 1 roots, 14 extra nodes, 0 pruned nodes, max_depth=3\n",
      "[18:26:29] C:\\Users\\Administrator\\Desktop\\xgboost\\src\\tree\\updater_prune.cc:74: tree pruning end, 1 roots, 14 extra nodes, 0 pruned nodes, max_depth=3\n",
      "[18:26:29] C:\\Users\\Administrator\\Desktop\\xgboost\\src\\tree\\updater_prune.cc:74: tree pruning end, 1 roots, 14 extra nodes, 0 pruned nodes, max_depth=3\n",
      "[18:26:29] C:\\Users\\Administrator\\Desktop\\xgboost\\src\\tree\\updater_prune.cc:74: tree pruning end, 1 roots, 14 extra nodes, 0 pruned nodes, max_depth=3\n",
      "[18:26:29] C:\\Users\\Administrator\\Desktop\\xgboost\\src\\tree\\updater_prune.cc:74: tree pruning end, 1 roots, 14 extra nodes, 0 pruned nodes, max_depth=3\n",
      "[18:26:30] C:\\Users\\Administrator\\Desktop\\xgboost\\src\\tree\\updater_prune.cc:74: tree pruning end, 1 roots, 14 extra nodes, 0 pruned nodes, max_depth=3\n",
      "[18:26:30] C:\\Users\\Administrator\\Desktop\\xgboost\\src\\tree\\updater_prune.cc:74: tree pruning end, 1 roots, 14 extra nodes, 0 pruned nodes, max_depth=3\n",
      "[18:26:30] C:\\Users\\Administrator\\Desktop\\xgboost\\src\\tree\\updater_prune.cc:74: tree pruning end, 1 roots, 14 extra nodes, 0 pruned nodes, max_depth=3\n",
      "[18:26:30] C:\\Users\\Administrator\\Desktop\\xgboost\\src\\tree\\updater_prune.cc:74: tree pruning end, 1 roots, 14 extra nodes, 0 pruned nodes, max_depth=3\n",
      "[18:26:30] C:\\Users\\Administrator\\Desktop\\xgboost\\src\\tree\\updater_prune.cc:74: tree pruning end, 1 roots, 14 extra nodes, 0 pruned nodes, max_depth=3\n",
      "[18:26:30] C:\\Users\\Administrator\\Desktop\\xgboost\\src\\tree\\updater_prune.cc:74: tree pruning end, 1 roots, 14 extra nodes, 0 pruned nodes, max_depth=3\n",
      "[18:26:30] C:\\Users\\Administrator\\Desktop\\xgboost\\src\\tree\\updater_prune.cc:74: tree pruning end, 1 roots, 14 extra nodes, 0 pruned nodes, max_depth=3\n",
      "[18:26:30] C:\\Users\\Administrator\\Desktop\\xgboost\\src\\tree\\updater_prune.cc:74: tree pruning end, 1 roots, 14 extra nodes, 0 pruned nodes, max_depth=3\n",
      "[18:26:30] C:\\Users\\Administrator\\Desktop\\xgboost\\src\\tree\\updater_prune.cc:74: tree pruning end, 1 roots, 14 extra nodes, 0 pruned nodes, max_depth=3\n",
      "[18:26:30] C:\\Users\\Administrator\\Desktop\\xgboost\\src\\tree\\updater_prune.cc:74: tree pruning end, 1 roots, 14 extra nodes, 0 pruned nodes, max_depth=3\n",
      "[18:26:30] C:\\Users\\Administrator\\Desktop\\xgboost\\src\\tree\\updater_prune.cc:74: tree pruning end, 1 roots, 14 extra nodes, 0 pruned nodes, max_depth=3\n",
      "[18:26:30] C:\\Users\\Administrator\\Desktop\\xgboost\\src\\tree\\updater_prune.cc:74: tree pruning end, 1 roots, 14 extra nodes, 0 pruned nodes, max_depth=3\n",
      "[18:26:30] C:\\Users\\Administrator\\Desktop\\xgboost\\src\\tree\\updater_prune.cc:74: tree pruning end, 1 roots, 14 extra nodes, 0 pruned nodes, max_depth=3\n",
      "[18:26:30] C:\\Users\\Administrator\\Desktop\\xgboost\\src\\tree\\updater_prune.cc:74: tree pruning end, 1 roots, 14 extra nodes, 0 pruned nodes, max_depth=3\n",
      "[18:26:30] C:\\Users\\Administrator\\Desktop\\xgboost\\src\\tree\\updater_prune.cc:74: tree pruning end, 1 roots, 14 extra nodes, 0 pruned nodes, max_depth=3\n",
      "[18:26:30] C:\\Users\\Administrator\\Desktop\\xgboost\\src\\tree\\updater_prune.cc:74: tree pruning end, 1 roots, 14 extra nodes, 0 pruned nodes, max_depth=3\n",
      "[18:26:30] C:\\Users\\Administrator\\Desktop\\xgboost\\src\\tree\\updater_prune.cc:74: tree pruning end, 1 roots, 14 extra nodes, 0 pruned nodes, max_depth=3\n",
      "[18:26:30] C:\\Users\\Administrator\\Desktop\\xgboost\\src\\tree\\updater_prune.cc:74: tree pruning end, 1 roots, 14 extra nodes, 0 pruned nodes, max_depth=3\n",
      "[18:26:30] C:\\Users\\Administrator\\Desktop\\xgboost\\src\\tree\\updater_prune.cc:74: tree pruning end, 1 roots, 14 extra nodes, 0 pruned nodes, max_depth=3\n",
      "[18:26:30] C:\\Users\\Administrator\\Desktop\\xgboost\\src\\tree\\updater_prune.cc:74: tree pruning end, 1 roots, 14 extra nodes, 0 pruned nodes, max_depth=3\n",
      "[18:26:30] C:\\Users\\Administrator\\Desktop\\xgboost\\src\\tree\\updater_prune.cc:74: tree pruning end, 1 roots, 14 extra nodes, 0 pruned nodes, max_depth=3\n",
      "[18:26:30] C:\\Users\\Administrator\\Desktop\\xgboost\\src\\tree\\updater_prune.cc:74: tree pruning end, 1 roots, 14 extra nodes, 0 pruned nodes, max_depth=3\n",
      "[18:26:30] C:\\Users\\Administrator\\Desktop\\xgboost\\src\\tree\\updater_prune.cc:74: tree pruning end, 1 roots, 14 extra nodes, 0 pruned nodes, max_depth=3\n",
      "[18:26:30] C:\\Users\\Administrator\\Desktop\\xgboost\\src\\tree\\updater_prune.cc:74: tree pruning end, 1 roots, 14 extra nodes, 0 pruned nodes, max_depth=3\n",
      "[18:26:30] C:\\Users\\Administrator\\Desktop\\xgboost\\src\\tree\\updater_prune.cc:74: tree pruning end, 1 roots, 12 extra nodes, 0 pruned nodes, max_depth=3\n",
      "[18:26:30] C:\\Users\\Administrator\\Desktop\\xgboost\\src\\tree\\updater_prune.cc:74: tree pruning end, 1 roots, 14 extra nodes, 0 pruned nodes, max_depth=3\n",
      "[18:26:30] C:\\Users\\Administrator\\Desktop\\xgboost\\src\\tree\\updater_prune.cc:74: tree pruning end, 1 roots, 14 extra nodes, 0 pruned nodes, max_depth=3\n",
      "[18:26:30] C:\\Users\\Administrator\\Desktop\\xgboost\\src\\tree\\updater_prune.cc:74: tree pruning end, 1 roots, 14 extra nodes, 0 pruned nodes, max_depth=3\n",
      "[18:26:30] C:\\Users\\Administrator\\Desktop\\xgboost\\src\\tree\\updater_prune.cc:74: tree pruning end, 1 roots, 14 extra nodes, 0 pruned nodes, max_depth=3\n",
      "[18:26:31] C:\\Users\\Administrator\\Desktop\\xgboost\\src\\tree\\updater_prune.cc:74: tree pruning end, 1 roots, 14 extra nodes, 0 pruned nodes, max_depth=3\n",
      "[18:26:31] C:\\Users\\Administrator\\Desktop\\xgboost\\src\\tree\\updater_prune.cc:74: tree pruning end, 1 roots, 14 extra nodes, 0 pruned nodes, max_depth=3\n",
      "[18:26:31] C:\\Users\\Administrator\\Desktop\\xgboost\\src\\tree\\updater_prune.cc:74: tree pruning end, 1 roots, 14 extra nodes, 0 pruned nodes, max_depth=3\n",
      "[18:26:31] C:\\Users\\Administrator\\Desktop\\xgboost\\src\\tree\\updater_prune.cc:74: tree pruning end, 1 roots, 14 extra nodes, 0 pruned nodes, max_depth=3\n",
      "[18:26:31] C:\\Users\\Administrator\\Desktop\\xgboost\\src\\tree\\updater_prune.cc:74: tree pruning end, 1 roots, 14 extra nodes, 0 pruned nodes, max_depth=3\n",
      "[18:26:31] C:\\Users\\Administrator\\Desktop\\xgboost\\src\\tree\\updater_prune.cc:74: tree pruning end, 1 roots, 14 extra nodes, 0 pruned nodes, max_depth=3\n",
      "[18:26:31] C:\\Users\\Administrator\\Desktop\\xgboost\\src\\tree\\updater_prune.cc:74: tree pruning end, 1 roots, 14 extra nodes, 0 pruned nodes, max_depth=3\n",
      "[18:26:31] C:\\Users\\Administrator\\Desktop\\xgboost\\src\\tree\\updater_prune.cc:74: tree pruning end, 1 roots, 14 extra nodes, 0 pruned nodes, max_depth=3\n",
      "[18:26:31] C:\\Users\\Administrator\\Desktop\\xgboost\\src\\tree\\updater_prune.cc:74: tree pruning end, 1 roots, 14 extra nodes, 0 pruned nodes, max_depth=3\n",
      "[18:26:31] C:\\Users\\Administrator\\Desktop\\xgboost\\src\\tree\\updater_prune.cc:74: tree pruning end, 1 roots, 14 extra nodes, 0 pruned nodes, max_depth=3\n",
      "[18:26:31] C:\\Users\\Administrator\\Desktop\\xgboost\\src\\tree\\updater_prune.cc:74: tree pruning end, 1 roots, 14 extra nodes, 0 pruned nodes, max_depth=3\n",
      "[18:26:31] C:\\Users\\Administrator\\Desktop\\xgboost\\src\\tree\\updater_prune.cc:74: tree pruning end, 1 roots, 14 extra nodes, 0 pruned nodes, max_depth=3\n",
      "[18:26:31] C:\\Users\\Administrator\\Desktop\\xgboost\\src\\tree\\updater_prune.cc:74: tree pruning end, 1 roots, 14 extra nodes, 0 pruned nodes, max_depth=3\n"
     ]
    },
    {
     "name": "stdout",
     "output_type": "stream",
     "text": [
      "[18:26:31] C:\\Users\\Administrator\\Desktop\\xgboost\\src\\tree\\updater_prune.cc:74: tree pruning end, 1 roots, 14 extra nodes, 0 pruned nodes, max_depth=3\n",
      "[18:26:31] C:\\Users\\Administrator\\Desktop\\xgboost\\src\\tree\\updater_prune.cc:74: tree pruning end, 1 roots, 14 extra nodes, 0 pruned nodes, max_depth=3\n",
      "[18:26:31] C:\\Users\\Administrator\\Desktop\\xgboost\\src\\tree\\updater_prune.cc:74: tree pruning end, 1 roots, 14 extra nodes, 0 pruned nodes, max_depth=3\n",
      "[18:26:31] C:\\Users\\Administrator\\Desktop\\xgboost\\src\\tree\\updater_prune.cc:74: tree pruning end, 1 roots, 14 extra nodes, 0 pruned nodes, max_depth=3\n",
      "[18:26:31] C:\\Users\\Administrator\\Desktop\\xgboost\\src\\tree\\updater_prune.cc:74: tree pruning end, 1 roots, 14 extra nodes, 0 pruned nodes, max_depth=3\n",
      "[18:26:31] C:\\Users\\Administrator\\Desktop\\xgboost\\src\\tree\\updater_prune.cc:74: tree pruning end, 1 roots, 14 extra nodes, 0 pruned nodes, max_depth=3\n",
      "[18:26:31] C:\\Users\\Administrator\\Desktop\\xgboost\\src\\tree\\updater_prune.cc:74: tree pruning end, 1 roots, 14 extra nodes, 0 pruned nodes, max_depth=3\n",
      "[18:26:31] C:\\Users\\Administrator\\Desktop\\xgboost\\src\\tree\\updater_prune.cc:74: tree pruning end, 1 roots, 14 extra nodes, 0 pruned nodes, max_depth=3\n",
      "[18:26:31] C:\\Users\\Administrator\\Desktop\\xgboost\\src\\tree\\updater_prune.cc:74: tree pruning end, 1 roots, 14 extra nodes, 0 pruned nodes, max_depth=3\n",
      "[18:26:31] C:\\Users\\Administrator\\Desktop\\xgboost\\src\\tree\\updater_prune.cc:74: tree pruning end, 1 roots, 14 extra nodes, 0 pruned nodes, max_depth=3\n",
      "[18:26:31] C:\\Users\\Administrator\\Desktop\\xgboost\\src\\tree\\updater_prune.cc:74: tree pruning end, 1 roots, 14 extra nodes, 0 pruned nodes, max_depth=3\n",
      "[18:26:31] C:\\Users\\Administrator\\Desktop\\xgboost\\src\\tree\\updater_prune.cc:74: tree pruning end, 1 roots, 14 extra nodes, 0 pruned nodes, max_depth=3\n",
      "[18:26:31] C:\\Users\\Administrator\\Desktop\\xgboost\\src\\tree\\updater_prune.cc:74: tree pruning end, 1 roots, 14 extra nodes, 0 pruned nodes, max_depth=3\n",
      "[18:26:31] C:\\Users\\Administrator\\Desktop\\xgboost\\src\\tree\\updater_prune.cc:74: tree pruning end, 1 roots, 14 extra nodes, 0 pruned nodes, max_depth=3\n",
      "[18:26:31] C:\\Users\\Administrator\\Desktop\\xgboost\\src\\tree\\updater_prune.cc:74: tree pruning end, 1 roots, 14 extra nodes, 0 pruned nodes, max_depth=3\n",
      "[18:26:32] C:\\Users\\Administrator\\Desktop\\xgboost\\src\\tree\\updater_prune.cc:74: tree pruning end, 1 roots, 12 extra nodes, 0 pruned nodes, max_depth=3\n",
      "[18:26:32] C:\\Users\\Administrator\\Desktop\\xgboost\\src\\tree\\updater_prune.cc:74: tree pruning end, 1 roots, 14 extra nodes, 0 pruned nodes, max_depth=3\n",
      "[18:26:32] C:\\Users\\Administrator\\Desktop\\xgboost\\src\\tree\\updater_prune.cc:74: tree pruning end, 1 roots, 14 extra nodes, 0 pruned nodes, max_depth=3\n",
      "[18:26:32] C:\\Users\\Administrator\\Desktop\\xgboost\\src\\tree\\updater_prune.cc:74: tree pruning end, 1 roots, 14 extra nodes, 0 pruned nodes, max_depth=3\n",
      "[18:26:32] C:\\Users\\Administrator\\Desktop\\xgboost\\src\\tree\\updater_prune.cc:74: tree pruning end, 1 roots, 14 extra nodes, 0 pruned nodes, max_depth=3\n",
      "[18:26:32] C:\\Users\\Administrator\\Desktop\\xgboost\\src\\tree\\updater_prune.cc:74: tree pruning end, 1 roots, 14 extra nodes, 0 pruned nodes, max_depth=3\n",
      "[18:26:32] C:\\Users\\Administrator\\Desktop\\xgboost\\src\\tree\\updater_prune.cc:74: tree pruning end, 1 roots, 14 extra nodes, 0 pruned nodes, max_depth=3\n",
      "[18:26:32] C:\\Users\\Administrator\\Desktop\\xgboost\\src\\tree\\updater_prune.cc:74: tree pruning end, 1 roots, 14 extra nodes, 0 pruned nodes, max_depth=3\n",
      "[18:26:32] C:\\Users\\Administrator\\Desktop\\xgboost\\src\\tree\\updater_prune.cc:74: tree pruning end, 1 roots, 14 extra nodes, 0 pruned nodes, max_depth=3\n",
      "[18:26:32] C:\\Users\\Administrator\\Desktop\\xgboost\\src\\tree\\updater_prune.cc:74: tree pruning end, 1 roots, 14 extra nodes, 0 pruned nodes, max_depth=3\n",
      "[18:26:32] C:\\Users\\Administrator\\Desktop\\xgboost\\src\\tree\\updater_prune.cc:74: tree pruning end, 1 roots, 14 extra nodes, 0 pruned nodes, max_depth=3\n",
      "[18:26:32] C:\\Users\\Administrator\\Desktop\\xgboost\\src\\tree\\updater_prune.cc:74: tree pruning end, 1 roots, 14 extra nodes, 0 pruned nodes, max_depth=3\n",
      "[18:26:32] C:\\Users\\Administrator\\Desktop\\xgboost\\src\\tree\\updater_prune.cc:74: tree pruning end, 1 roots, 14 extra nodes, 0 pruned nodes, max_depth=3\n",
      "[18:26:32] C:\\Users\\Administrator\\Desktop\\xgboost\\src\\tree\\updater_prune.cc:74: tree pruning end, 1 roots, 14 extra nodes, 0 pruned nodes, max_depth=3\n",
      "[18:26:32] C:\\Users\\Administrator\\Desktop\\xgboost\\src\\tree\\updater_prune.cc:74: tree pruning end, 1 roots, 14 extra nodes, 0 pruned nodes, max_depth=3\n",
      "[18:26:32] C:\\Users\\Administrator\\Desktop\\xgboost\\src\\tree\\updater_prune.cc:74: tree pruning end, 1 roots, 14 extra nodes, 0 pruned nodes, max_depth=3\n",
      "[18:26:32] C:\\Users\\Administrator\\Desktop\\xgboost\\src\\tree\\updater_prune.cc:74: tree pruning end, 1 roots, 14 extra nodes, 0 pruned nodes, max_depth=3\n",
      "[18:26:32] C:\\Users\\Administrator\\Desktop\\xgboost\\src\\tree\\updater_prune.cc:74: tree pruning end, 1 roots, 14 extra nodes, 0 pruned nodes, max_depth=3\n",
      "[18:26:32] C:\\Users\\Administrator\\Desktop\\xgboost\\src\\tree\\updater_prune.cc:74: tree pruning end, 1 roots, 14 extra nodes, 0 pruned nodes, max_depth=3\n",
      "[18:26:32] C:\\Users\\Administrator\\Desktop\\xgboost\\src\\tree\\updater_prune.cc:74: tree pruning end, 1 roots, 14 extra nodes, 0 pruned nodes, max_depth=3\n",
      "[18:26:32] C:\\Users\\Administrator\\Desktop\\xgboost\\src\\tree\\updater_prune.cc:74: tree pruning end, 1 roots, 14 extra nodes, 0 pruned nodes, max_depth=3\n",
      "[18:26:32] C:\\Users\\Administrator\\Desktop\\xgboost\\src\\tree\\updater_prune.cc:74: tree pruning end, 1 roots, 14 extra nodes, 0 pruned nodes, max_depth=3\n",
      "[18:26:32] C:\\Users\\Administrator\\Desktop\\xgboost\\src\\tree\\updater_prune.cc:74: tree pruning end, 1 roots, 14 extra nodes, 0 pruned nodes, max_depth=3\n",
      "[18:26:32] C:\\Users\\Administrator\\Desktop\\xgboost\\src\\tree\\updater_prune.cc:74: tree pruning end, 1 roots, 14 extra nodes, 0 pruned nodes, max_depth=3\n",
      "[18:26:32] C:\\Users\\Administrator\\Desktop\\xgboost\\src\\tree\\updater_prune.cc:74: tree pruning end, 1 roots, 14 extra nodes, 0 pruned nodes, max_depth=3\n",
      "[18:26:32] C:\\Users\\Administrator\\Desktop\\xgboost\\src\\tree\\updater_prune.cc:74: tree pruning end, 1 roots, 14 extra nodes, 0 pruned nodes, max_depth=3\n",
      "[18:26:32] C:\\Users\\Administrator\\Desktop\\xgboost\\src\\tree\\updater_prune.cc:74: tree pruning end, 1 roots, 14 extra nodes, 0 pruned nodes, max_depth=3\n",
      "[18:26:33] C:\\Users\\Administrator\\Desktop\\xgboost\\src\\tree\\updater_prune.cc:74: tree pruning end, 1 roots, 14 extra nodes, 0 pruned nodes, max_depth=3\n",
      "[18:26:33] C:\\Users\\Administrator\\Desktop\\xgboost\\src\\tree\\updater_prune.cc:74: tree pruning end, 1 roots, 14 extra nodes, 0 pruned nodes, max_depth=3\n",
      "[18:26:33] C:\\Users\\Administrator\\Desktop\\xgboost\\src\\tree\\updater_prune.cc:74: tree pruning end, 1 roots, 14 extra nodes, 0 pruned nodes, max_depth=3\n",
      "[18:26:33] C:\\Users\\Administrator\\Desktop\\xgboost\\src\\tree\\updater_prune.cc:74: tree pruning end, 1 roots, 14 extra nodes, 0 pruned nodes, max_depth=3\n",
      "[18:26:33] C:\\Users\\Administrator\\Desktop\\xgboost\\src\\tree\\updater_prune.cc:74: tree pruning end, 1 roots, 14 extra nodes, 0 pruned nodes, max_depth=3\n",
      "[18:26:33] C:\\Users\\Administrator\\Desktop\\xgboost\\src\\tree\\updater_prune.cc:74: tree pruning end, 1 roots, 14 extra nodes, 0 pruned nodes, max_depth=3\n",
      "[18:26:33] C:\\Users\\Administrator\\Desktop\\xgboost\\src\\tree\\updater_prune.cc:74: tree pruning end, 1 roots, 14 extra nodes, 0 pruned nodes, max_depth=3\n",
      "[18:26:33] C:\\Users\\Administrator\\Desktop\\xgboost\\src\\tree\\updater_prune.cc:74: tree pruning end, 1 roots, 14 extra nodes, 0 pruned nodes, max_depth=3\n",
      "[18:26:33] C:\\Users\\Administrator\\Desktop\\xgboost\\src\\tree\\updater_prune.cc:74: tree pruning end, 1 roots, 14 extra nodes, 0 pruned nodes, max_depth=3\n",
      "[18:26:33] C:\\Users\\Administrator\\Desktop\\xgboost\\src\\tree\\updater_prune.cc:74: tree pruning end, 1 roots, 14 extra nodes, 0 pruned nodes, max_depth=3\n",
      "[18:26:33] C:\\Users\\Administrator\\Desktop\\xgboost\\src\\tree\\updater_prune.cc:74: tree pruning end, 1 roots, 12 extra nodes, 0 pruned nodes, max_depth=3\n",
      "[18:26:33] C:\\Users\\Administrator\\Desktop\\xgboost\\src\\tree\\updater_prune.cc:74: tree pruning end, 1 roots, 14 extra nodes, 0 pruned nodes, max_depth=3\n",
      "[18:26:33] C:\\Users\\Administrator\\Desktop\\xgboost\\src\\tree\\updater_prune.cc:74: tree pruning end, 1 roots, 14 extra nodes, 0 pruned nodes, max_depth=3\n",
      "[18:26:33] C:\\Users\\Administrator\\Desktop\\xgboost\\src\\tree\\updater_prune.cc:74: tree pruning end, 1 roots, 14 extra nodes, 0 pruned nodes, max_depth=3\n",
      "[18:26:33] C:\\Users\\Administrator\\Desktop\\xgboost\\src\\tree\\updater_prune.cc:74: tree pruning end, 1 roots, 14 extra nodes, 0 pruned nodes, max_depth=3\n",
      "[18:26:33] C:\\Users\\Administrator\\Desktop\\xgboost\\src\\tree\\updater_prune.cc:74: tree pruning end, 1 roots, 14 extra nodes, 0 pruned nodes, max_depth=3\n",
      "[18:26:33] C:\\Users\\Administrator\\Desktop\\xgboost\\src\\tree\\updater_prune.cc:74: tree pruning end, 1 roots, 14 extra nodes, 0 pruned nodes, max_depth=3\n"
     ]
    },
    {
     "name": "stdout",
     "output_type": "stream",
     "text": [
      "[18:26:33] C:\\Users\\Administrator\\Desktop\\xgboost\\src\\tree\\updater_prune.cc:74: tree pruning end, 1 roots, 14 extra nodes, 0 pruned nodes, max_depth=3\n",
      "              precision    recall  f1-score   support\n",
      "\n",
      "           0       1.00      1.00      1.00    303723\n",
      "           1       0.07      0.41      0.12       202\n",
      "\n",
      "   micro avg       1.00      1.00      1.00    303925\n",
      "   macro avg       0.53      0.70      0.56    303925\n",
      "weighted avg       1.00      1.00      1.00    303925\n",
      "\n",
      "[[302634   1089]\n",
      " [   120     82]]\n",
      "PD XGBoost AU ROC (Hold out Set):  0.8853875712637196\n"
     ]
    }
   ],
   "source": [
    "model_xgb.fit(X_xgb, y_xgb)\n",
    "pred_xgb = model_xgb.predict(X_v_xgb)\n",
    "\n",
    "print (metrics.classification_report(y_v_xgb, pred_xgb))\n",
    "print (metrics.confusion_matrix(y_v_xgb, pred_xgb))\n",
    "print ('PD XGBoost AU ROC (Hold out Set): ', metrics.roc_auc_score(y_v_xgb,  model_xgb.predict_proba(X_v_xgb)[:,1] ))"
   ]
  },
  {
   "cell_type": "code",
   "execution_count": 16,
   "metadata": {},
   "outputs": [
    {
     "data": {
      "text/plain": [
       "array([0.0239841 , 0.01590747, 0.03889485, ..., 0.06182635, 0.03165899,\n",
       "       0.04819798], dtype=float32)"
      ]
     },
     "execution_count": 16,
     "metadata": {},
     "output_type": "execute_result"
    }
   ],
   "source": [
    "predicted_XGB_CTR = model_xgb.predict_proba(X_v_xgb)[:,1]\n",
    "predicted_XGB_CTR"
   ]
  },
  {
   "cell_type": "markdown",
   "metadata": {},
   "source": [
    "#### Final recalibrated pCTRs"
   ]
  },
  {
   "cell_type": "code",
   "execution_count": 17,
   "metadata": {},
   "outputs": [
    {
     "data": {
      "text/plain": [
       "array([0.00017935, 0.00011799, 0.00029534, ..., 0.00048084, 0.00023861,\n",
       "       0.00036953], dtype=float32)"
      ]
     },
     "execution_count": 17,
     "metadata": {},
     "output_type": "execute_result"
    }
   ],
   "source": [
    "w = 0.0073 # class 0, downsampling rate\n",
    "predicted_XGB_CTR = predicted_XGB_CTR/(predicted_XGB_CTR+((1-predicted_XGB_CTR)/w)) \n",
    "predicted_XGB_CTR"
   ]
  },
  {
   "cell_type": "markdown",
   "metadata": {},
   "source": [
    "## ORTB2 Bidding Strategy"
   ]
  },
  {
   "cell_type": "code",
   "execution_count": 1,
   "metadata": {},
   "outputs": [],
   "source": [
    "lambda_ortb = 5.2e-7 \n",
    "\n",
    "def ortb2 (bid, lamda_ortb, pCTR):\n",
    "        return (bid * ( np.cbrt( (pCTR + np.sqrt( ( np.square(bid) * np.square(lambda_ortb) ) + np.square(pCTR)  )) / (bid*lambda_ortb)   )  - np.cbrt( (bid*lambda_ortb) / ( pCTR + np.sqrt( ( np.square(bid) * np.square(lambda_ortb) ) + np.square(pCTR)  ) )   )  ) )\n"
   ]
  },
  {
   "cell_type": "code",
   "execution_count": 24,
   "metadata": {},
   "outputs": [
    {
     "name": "stderr",
     "output_type": "stream",
     "text": [
      "C:\\Users\\apogn\\AppData\\Local\\Continuum\\anaconda3\\lib\\site-packages\\ipykernel_launcher.py:4: RuntimeWarning: divide by zero encountered in true_divide\n",
      "  after removing the cwd from sys.path.\n",
      "C:\\Users\\apogn\\AppData\\Local\\Continuum\\anaconda3\\lib\\site-packages\\ipykernel_launcher.py:4: RuntimeWarning: invalid value encountered in multiply\n",
      "  after removing the cwd from sys.path.\n",
      "C:\\Users\\apogn\\AppData\\Local\\Continuum\\anaconda3\\lib\\site-packages\\ipykernel_launcher.py:40: RuntimeWarning: invalid value encountered in longlong_scalars\n"
     ]
    },
    {
     "name": "stdout",
     "output_type": "stream",
     "text": [
      "Without Budget limit:  0.0 Num Clicks:  0 With Budget limit:  0.0 Num Clicks:  0 CTR:  nan won impressions:  0 c  0.0\n",
      "Without Budget limit:  2.9370000000000003 Num Clicks:  6 With Budget limit:  2.9370000000000003 Num Clicks:  6 CTR:  0.005439709882139619 won impressions:  1103 c  3.3444816053511705e-06\n",
      "Without Budget limit:  11.141000000000002 Num Clicks:  8 With Budget limit:  11.141000000000002 Num Clicks:  8 CTR:  0.0029985007496251873 won impressions:  2668 c  6.688963210702341e-06\n",
      "Without Budget limit:  26.561 Num Clicks:  10 With Budget limit:  26.561 Num Clicks:  10 CTR:  0.0018079913216416561 won impressions:  5531 c  1.0033444816053512e-05\n",
      "Without Budget limit:  43.82100000000001 Num Clicks:  12 With Budget limit:  43.82100000000001 Num Clicks:  12 CTR:  0.0014182720718591182 won impressions:  8461 c  1.3377926421404682e-05\n",
      "Without Budget limit:  59.548 Num Clicks:  15 With Budget limit:  59.548 Num Clicks:  15 CTR:  0.0013958682300390843 won impressions:  10746 c  1.6722408026755853e-05\n",
      "Without Budget limit:  73.39900000000002 Num Clicks:  16 With Budget limit:  73.39900000000002 Num Clicks:  16 CTR:  0.0012967015155198962 won impressions:  12339 c  2.0066889632107023e-05\n",
      "Without Budget limit:  88.31500000000001 Num Clicks:  23 With Budget limit:  88.31500000000001 Num Clicks:  23 CTR:  0.0016637731481481482 won impressions:  13824 c  2.3411371237458194e-05\n",
      "Without Budget limit:  104.81700000000002 Num Clicks:  28 With Budget limit:  104.81700000000002 Num Clicks:  28 CTR:  0.0018295870360690017 won impressions:  15304 c  2.6755852842809364e-05\n",
      "Without Budget limit:  122.30100000000003 Num Clicks:  32 With Budget limit:  122.30100000000003 Num Clicks:  32 CTR:  0.0019091939621740945 won impressions:  16761 c  3.0100334448160535e-05\n",
      "Without Budget limit:  140.46300000000002 Num Clicks:  35 With Budget limit:  140.46300000000002 Num Clicks:  35 CTR:  0.0019261460569038578 won impressions:  18171 c  3.3444816053511705e-05\n",
      "Without Budget limit:  160.20100000000002 Num Clicks:  35 With Budget limit:  160.20100000000002 Num Clicks:  35 CTR:  0.0017858053982346038 won impressions:  19599 c  3.678929765886288e-05\n",
      "Without Budget limit:  180.06800000000004 Num Clicks:  40 With Budget limit:  180.06800000000004 Num Clicks:  40 CTR:  0.0019098548510313217 won impressions:  20944 c  4.0133779264214046e-05\n",
      "Without Budget limit:  199.99500000000006 Num Clicks:  45 With Budget limit:  199.99500000000006 Num Clicks:  45 CTR:  0.0020215633423180594 won impressions:  22260 c  4.3478260869565214e-05\n",
      "Without Budget limit:  223.26300000000003 Num Clicks:  47 With Budget limit:  223.26300000000003 Num Clicks:  47 CTR:  0.001985887522710948 won impressions:  23667 c  4.682274247491639e-05\n",
      "Without Budget limit:  247.18000000000004 Num Clicks:  50 With Budget limit:  247.18000000000004 Num Clicks:  50 CTR:  0.001996805111821086 won impressions:  25040 c  5.016722408026756e-05\n",
      "Without Budget limit:  272.8620000000001 Num Clicks:  53 With Budget limit:  272.8620000000001 Num Clicks:  53 CTR:  0.0020020398141502665 won impressions:  26473 c  5.351170568561873e-05\n",
      "Without Budget limit:  298.90100000000007 Num Clicks:  54 With Budget limit:  298.90100000000007 Num Clicks:  54 CTR:  0.0019356226252777978 won impressions:  27898 c  5.6856187290969896e-05\n",
      "Without Budget limit:  327.75200000000007 Num Clicks:  56 With Budget limit:  327.75200000000007 Num Clicks:  56 CTR:  0.0019026263038086503 won impressions:  29433 c  6.020066889632107e-05\n",
      "Without Budget limit:  359.19900000000007 Num Clicks:  58 With Budget limit:  359.19900000000007 Num Clicks:  58 CTR:  0.001869158878504673 won impressions:  31030 c  6.354515050167224e-05\n",
      "Without Budget limit:  392.379 Num Clicks:  60 With Budget limit:  392.379 Num Clicks:  60 CTR:  0.0018358729575913347 won impressions:  32682 c  6.688963210702341e-05\n",
      "Without Budget limit:  431.2430000000001 Num Clicks:  61 With Budget limit:  431.2430000000001 Num Clicks:  61 CTR:  0.0017635664517621208 won impressions:  34589 c  7.023411371237458e-05\n",
      "Without Budget limit:  471.79300000000006 Num Clicks:  63 With Budget limit:  471.79300000000006 Num Clicks:  63 CTR:  0.0017239020385825695 won impressions:  36545 c  7.357859531772576e-05\n",
      "Without Budget limit:  514.7460000000001 Num Clicks:  64 With Budget limit:  514.7460000000001 Num Clicks:  64 CTR:  0.0016603107894258957 won impressions:  38547 c  7.692307692307693e-05\n",
      "Without Budget limit:  554.9830000000001 Num Clicks:  67 With Budget limit:  554.9830000000001 Num Clicks:  67 CTR:  0.001656857411345764 won impressions:  40438 c  8.026755852842809e-05\n",
      "Without Budget limit:  597.296 Num Clicks:  68 With Budget limit:  597.296 Num Clicks:  68 CTR:  0.0016036979387764729 won impressions:  42402 c  8.361204013377926e-05\n",
      "Without Budget limit:  642.7050000000002 Num Clicks:  69 With Budget limit:  642.7050000000002 Num Clicks:  69 CTR:  0.0015506314890556879 won impressions:  44498 c  8.695652173913043e-05\n",
      "Without Budget limit:  685.3140000000001 Num Clicks:  69 With Budget limit:  685.3140000000001 Num Clicks:  69 CTR:  0.0014867805813527548 won impressions:  46409 c  9.030100334448161e-05\n",
      "Without Budget limit:  725.7470000000001 Num Clicks:  69 With Budget limit:  725.7470000000001 Num Clicks:  69 CTR:  0.0014322781525687596 won impressions:  48175 c  9.364548494983278e-05\n",
      "Without Budget limit:  767.4870000000002 Num Clicks:  70 With Budget limit:  767.4870000000002 Num Clicks:  70 CTR:  0.001399384270920795 won impressions:  50022 c  9.698996655518394e-05\n",
      "Without Budget limit:  812.4480000000001 Num Clicks:  73 With Budget limit:  812.4480000000001 Num Clicks:  73 CTR:  0.001405521968500905 won impressions:  51938 c  0.00010033444816053512\n",
      "Without Budget limit:  852.541 Num Clicks:  73 With Budget limit:  852.541 Num Clicks:  73 CTR:  0.0013624995333905707 won impressions:  53578 c  0.00010367892976588629\n",
      "Without Budget limit:  895.3600000000001 Num Clicks:  74 With Budget limit:  895.3600000000001 Num Clicks:  74 CTR:  0.0013383491282644867 won impressions:  55292 c  0.00010702341137123746\n",
      "Without Budget limit:  933.7330000000001 Num Clicks:  77 With Budget limit:  933.7330000000001 Num Clicks:  77 CTR:  0.0013558008909548712 won impressions:  56793 c  0.00011036789297658862\n",
      "Without Budget limit:  973.094 Num Clicks:  77 With Budget limit:  973.094 Num Clicks:  77 CTR:  0.0013203697035169847 won impressions:  58317 c  0.00011371237458193979\n",
      "Without Budget limit:  1009.0060000000002 Num Clicks:  77 With Budget limit:  1009.0060000000002 Num Clicks:  77 CTR:  0.001290733538956685 won impressions:  59656 c  0.00011705685618729097\n",
      "Without Budget limit:  1046.179 Num Clicks:  77 With Budget limit:  1046.179 Num Clicks:  77 CTR:  0.001261674586269048 won impressions:  61030 c  0.00012040133779264214\n",
      "Without Budget limit:  1084.7150000000001 Num Clicks:  79 With Budget limit:  1084.7150000000001 Num Clicks:  79 CTR:  0.001265964777334423 won impressions:  62403 c  0.0001237458193979933\n",
      "Without Budget limit:  1123.1750000000002 Num Clicks:  79 With Budget limit:  1123.1750000000002 Num Clicks:  79 CTR:  0.0012390018977117673 won impressions:  63761 c  0.0001270903010033445\n",
      "Without Budget limit:  1162.835 Num Clicks:  79 With Budget limit:  1162.835 Num Clicks:  79 CTR:  0.0012130145715294732 won impressions:  65127 c  0.00013043478260869564\n",
      "Without Budget limit:  1201.653 Num Clicks:  81 With Budget limit:  1201.653 Num Clicks:  81 CTR:  0.0012191267440285365 won impressions:  66441 c  0.00013377926421404682\n",
      "Without Budget limit:  1238.727 Num Clicks:  82 With Budget limit:  1238.727 Num Clicks:  82 CTR:  0.0012118704185386617 won impressions:  67664 c  0.000137123745819398\n",
      "Without Budget limit:  1273.5490000000002 Num Clicks:  83 With Budget limit:  1273.5490000000002 Num Clicks:  83 CTR:  0.0012069918273565426 won impressions:  68766 c  0.00014046822742474916\n",
      "Without Budget limit:  1308.0670000000002 Num Clicks:  85 With Budget limit:  1308.0670000000002 Num Clicks:  85 CTR:  0.0012164927797575602 won impressions:  69873 c  0.00014381270903010034\n",
      "Without Budget limit:  1344.318 Num Clicks:  86 With Budget limit:  1344.318 Num Clicks:  86 CTR:  0.0012108583014192385 won impressions:  71024 c  0.00014715719063545152\n",
      "Without Budget limit:  1378.851 Num Clicks:  87 With Budget limit:  1378.851 Num Clicks:  87 CTR:  0.0012069587414333676 won impressions:  72082 c  0.00015050167224080267\n",
      "Without Budget limit:  1412.67 Num Clicks:  89 With Budget limit:  1412.67 Num Clicks:  89 CTR:  0.0012179767900153274 won impressions:  73072 c  0.00015384615384615385\n"
     ]
    },
    {
     "name": "stdout",
     "output_type": "stream",
     "text": [
      "Without Budget limit:  1445.0050000000003 Num Clicks:  89 With Budget limit:  1445.0050000000003 Num Clicks:  89 CTR:  0.0012022477981304372 won impressions:  74028 c  0.000157190635451505\n",
      "Without Budget limit:  1478.5280000000002 Num Clicks:  90 With Budget limit:  1478.5280000000002 Num Clicks:  90 CTR:  0.0012007845125481982 won impressions:  74951 c  0.00016053511705685619\n",
      "Without Budget limit:  1512.894 Num Clicks:  90 With Budget limit:  1512.894 Num Clicks:  90 CTR:  0.0011858488701495487 won impressions:  75895 c  0.00016387959866220737\n",
      "Without Budget limit:  1545.6850000000004 Num Clicks:  90 With Budget limit:  1545.6850000000004 Num Clicks:  90 CTR:  0.0011719818212597502 won impressions:  76793 c  0.00016722408026755852\n",
      "Without Budget limit:  1580.861 Num Clicks:  91 With Budget limit:  1580.861 Num Clicks:  91 CTR:  0.0011712917674921485 won impressions:  77692 c  0.0001705685618729097\n",
      "Without Budget limit:  1617.4620000000002 Num Clicks:  92 With Budget limit:  1617.4620000000002 Num Clicks:  92 CTR:  0.0011701410528725691 won impressions:  78623 c  0.00017391304347826085\n",
      "Without Budget limit:  1650.4850000000004 Num Clicks:  93 With Budget limit:  1650.4850000000004 Num Clicks:  93 CTR:  0.0011699143320795542 won impressions:  79493 c  0.00017725752508361204\n",
      "Without Budget limit:  1683.5930000000005 Num Clicks:  94 With Budget limit:  1683.5930000000005 Num Clicks:  94 CTR:  0.0011702604451969524 won impressions:  80324 c  0.00018060200668896322\n",
      "Without Budget limit:  1716.5490000000004 Num Clicks:  94 With Budget limit:  1716.5490000000004 Num Clicks:  94 CTR:  0.001158434388248053 won impressions:  81144 c  0.00018394648829431437\n",
      "Without Budget limit:  1749.0100000000004 Num Clicks:  94 With Budget limit:  1749.0100000000004 Num Clicks:  94 CTR:  0.0011472788742020918 won impressions:  81933 c  0.00018729096989966555\n",
      "Without Budget limit:  1781.9280000000003 Num Clicks:  94 With Budget limit:  1781.9280000000003 Num Clicks:  94 CTR:  0.0011360752226828295 won impressions:  82741 c  0.00019063545150501673\n",
      "Without Budget limit:  1816.4 Num Clicks:  94 With Budget limit:  1816.4 Num Clicks:  94 CTR:  0.001125182542912547 won impressions:  83542 c  0.00019397993311036788\n",
      "Without Budget limit:  1850.3380000000002 Num Clicks:  95 With Budget limit:  1850.3380000000002 Num Clicks:  95 CTR:  0.001126366460363757 won impressions:  84342 c  0.00019732441471571907\n",
      "Without Budget limit:  1884.7190000000005 Num Clicks:  95 With Budget limit:  1884.7190000000005 Num Clicks:  95 CTR:  0.0011159927636679745 won impressions:  85126 c  0.00020066889632107025\n",
      "Without Budget limit:  1916.9510000000005 Num Clicks:  95 With Budget limit:  1916.9510000000005 Num Clicks:  95 CTR:  0.0011063106287337984 won impressions:  85871 c  0.0002040133779264214\n",
      "Without Budget limit:  1951.7730000000004 Num Clicks:  97 With Budget limit:  1951.7730000000004 Num Clicks:  97 CTR:  0.001119303954489332 won impressions:  86661 c  0.00020735785953177258\n",
      "Without Budget limit:  1985.9330000000004 Num Clicks:  98 With Budget limit:  1985.9330000000004 Num Clicks:  98 CTR:  0.0011212942939850571 won impressions:  87399 c  0.00021070234113712373\n",
      "Without Budget limit:  2022.7770000000005 Num Clicks:  99 With Budget limit:  2022.7770000000005 Num Clicks:  99 CTR:  0.0011223471793941594 won impressions:  88208 c  0.00021404682274247491\n",
      "Without Budget limit:  2060.493 Num Clicks:  99 With Budget limit:  2060.493 Num Clicks:  99 CTR:  0.0011121471179662311 won impressions:  89017 c  0.0002173913043478261\n",
      "Without Budget limit:  2100.1870000000004 Num Clicks:  101 With Budget limit:  2100.1870000000004 Num Clicks:  101 CTR:  0.00112389557786037 won impressions:  89866 c  0.00022073578595317725\n",
      "Without Budget limit:  2139.8980000000006 Num Clicks:  101 With Budget limit:  2139.8980000000006 Num Clicks:  101 CTR:  0.001113745382367536 won impressions:  90685 c  0.00022408026755852843\n",
      "Without Budget limit:  2181.8800000000006 Num Clicks:  101 With Budget limit:  2181.8800000000006 Num Clicks:  101 CTR:  0.0011031981824536875 won impressions:  91552 c  0.00022742474916387958\n",
      "Without Budget limit:  2226.6500000000005 Num Clicks:  104 With Budget limit:  2226.6500000000005 Num Clicks:  104 CTR:  0.0011248715591368774 won impressions:  92455 c  0.00023076923076923076\n",
      "Without Budget limit:  2268.774000000001 Num Clicks:  105 With Budget limit:  2268.774000000001 Num Clicks:  105 CTR:  0.0011249437528123593 won impressions:  93338 c  0.00023411371237458194\n",
      "Without Budget limit:  2309.9190000000003 Num Clicks:  105 With Budget limit:  2309.9190000000003 Num Clicks:  105 CTR:  0.0011148863877681037 won impressions:  94180 c  0.0002374581939799331\n",
      "Without Budget limit:  2353.0820000000003 Num Clicks:  107 With Budget limit:  2353.0820000000003 Num Clicks:  107 CTR:  0.001125948374740874 won impressions:  95031 c  0.00024080267558528428\n",
      "Without Budget limit:  2396.9810000000007 Num Clicks:  107 With Budget limit:  2396.9810000000007 Num Clicks:  107 CTR:  0.0011156525003127998 won impressions:  95908 c  0.00024414715719063546\n",
      "Without Budget limit:  2439.3610000000003 Num Clicks:  109 With Budget limit:  2439.3610000000003 Num Clicks:  109 CTR:  0.0011266848590093443 won impressions:  96744 c  0.0002474916387959866\n",
      "Without Budget limit:  2483.033 Num Clicks:  109 With Budget limit:  2483.033 Num Clicks:  109 CTR:  0.0011165973488495974 won impressions:  97618 c  0.00025083612040133777\n",
      "Without Budget limit:  2527.3540000000007 Num Clicks:  109 With Budget limit:  2527.3540000000007 Num Clicks:  109 CTR:  0.0011069248814371743 won impressions:  98471 c  0.000254180602006689\n",
      "Without Budget limit:  2567.3630000000007 Num Clicks:  110 With Budget limit:  2567.3630000000007 Num Clicks:  110 CTR:  0.0011083235095567714 won impressions:  99249 c  0.00025752508361204013\n",
      "Without Budget limit:  2611.253 Num Clicks:  111 With Budget limit:  2611.253 Num Clicks:  111 CTR:  0.0011090573012939 won impressions:  100085 c  0.0002608695652173913\n",
      "Without Budget limit:  2657.081000000001 Num Clicks:  111 With Budget limit:  2657.081000000001 Num Clicks:  111 CTR:  0.001099641378217194 won impressions:  100942 c  0.0002642140468227425\n",
      "Without Budget limit:  2700.832 Num Clicks:  111 With Budget limit:  2700.832 Num Clicks:  111 CTR:  0.0010906196881417217 won impressions:  101777 c  0.00026755852842809364\n",
      "Without Budget limit:  2748.797 Num Clicks:  111 With Budget limit:  2748.797 Num Clicks:  111 CTR:  0.0010809968543965408 won impressions:  102683 c  0.0002709030100334448\n",
      "Without Budget limit:  2795.1470000000004 Num Clicks:  113 With Budget limit:  2795.1470000000004 Num Clicks:  113 CTR:  0.001091186496325695 won impressions:  103557 c  0.000274247491638796\n",
      "Without Budget limit:  2845.1200000000003 Num Clicks:  114 With Budget limit:  2845.1200000000003 Num Clicks:  114 CTR:  0.0010909195303304337 won impressions:  104499 c  0.00027759197324414716\n",
      "Without Budget limit:  2894.9480000000012 Num Clicks:  116 With Budget limit:  2894.9480000000012 Num Clicks:  116 CTR:  0.001100245658297844 won impressions:  105431 c  0.0002809364548494983\n",
      "Without Budget limit:  2944.159000000001 Num Clicks:  116 With Budget limit:  2944.159000000001 Num Clicks:  116 CTR:  0.001090758641441306 won impressions:  106348 c  0.0002842809364548495\n",
      "Without Budget limit:  2992.583 Num Clicks:  118 With Budget limit:  2992.583 Num Clicks:  118 CTR:  0.0011003767391547614 won impressions:  107236 c  0.00028762541806020067\n",
      "Without Budget limit:  3040.156000000001 Num Clicks:  118 With Budget limit:  3040.156000000001 Num Clicks:  118 CTR:  0.001091541478576186 won impressions:  108104 c  0.0002909698996655518\n",
      "Without Budget limit:  3091.737000000001 Num Clicks:  118 With Budget limit:  3091.737000000001 Num Clicks:  118 CTR:  0.0010822113797277963 won impressions:  109036 c  0.00029431438127090303\n",
      "Without Budget limit:  3140.66 Num Clicks:  118 With Budget limit:  3140.66 Num Clicks:  118 CTR:  0.0010734689421782323 won impressions:  109924 c  0.0002976588628762542\n",
      "Without Budget limit:  3189.8710000000005 Num Clicks:  119 With Budget limit:  3189.8710000000005 Num Clicks:  119 CTR:  0.001073832770849501 won impressions:  110818 c  0.00030100334448160534\n",
      "Without Budget limit:  3244.5560000000014 Num Clicks:  119 With Budget limit:  3244.5560000000014 Num Clicks:  119 CTR:  0.0010647054613127191 won impressions:  111768 c  0.0003043478260869565\n"
     ]
    },
    {
     "name": "stdout",
     "output_type": "stream",
     "text": [
      "Without Budget limit:  3296.1620000000003 Num Clicks:  120 With Budget limit:  3296.1620000000003 Num Clicks:  120 CTR:  0.00106497217760186 won impressions:  112679 c  0.0003076923076923077\n",
      "Without Budget limit:  3351.335 Num Clicks:  121 With Budget limit:  3351.335 Num Clicks:  121 CTR:  0.0010647565579324364 won impressions:  113641 c  0.00031103678929765886\n",
      "Without Budget limit:  3401.86 Num Clicks:  122 With Budget limit:  3401.86 Num Clicks:  122 CTR:  0.0010651672836488092 won impressions:  114536 c  0.00031438127090301\n",
      "Without Budget limit:  3453.9 Num Clicks:  123 With Budget limit:  3453.9 Num Clicks:  123 CTR:  0.001065340909090909 won impressions:  115456 c  0.0003177257525083612\n",
      "Without Budget limit:  3504.0370000000007 Num Clicks:  124 With Budget limit:  3504.0370000000007 Num Clicks:  124 CTR:  0.0010659239583601964 won impressions:  116331 c  0.00032107023411371237\n",
      "Without Budget limit:  3559.554000000001 Num Clicks:  124 With Budget limit:  3559.554000000001 Num Clicks:  124 CTR:  0.0010572086281865462 won impressions:  117290 c  0.0003244147157190635\n",
      "Without Budget limit:  3614.612000000001 Num Clicks:  124 With Budget limit:  3614.612000000001 Num Clicks:  124 CTR:  0.0010487854387982948 won impressions:  118232 c  0.00032775919732441473\n",
      "Without Budget limit:  3664.035 Num Clicks:  124 With Budget limit:  3664.035 Num Clicks:  124 CTR:  0.0010412468090823593 won impressions:  119088 c  0.0003311036789297659\n",
      "Without Budget limit:  3716.318 Num Clicks:  126 With Budget limit:  3716.318 Num Clicks:  126 CTR:  0.0010501137623242518 won impressions:  119987 c  0.00033444816053511704\n",
      "Without Budget limit:  3765.7130000000006 Num Clicks:  127 With Budget limit:  3765.7130000000006 Num Clicks:  127 CTR:  0.0010510634776131754 won impressions:  120830 c  0.00033779264214046825\n",
      "Without Budget limit:  3821.866 Num Clicks:  128 With Budget limit:  3821.866 Num Clicks:  128 CTR:  0.0010510584487034209 won impressions:  121782 c  0.0003411371237458194\n",
      "Without Budget limit:  3874.163000000001 Num Clicks:  128 With Budget limit:  3874.163000000001 Num Clicks:  128 CTR:  0.0010434754253385182 won impressions:  122667 c  0.00034448160535117056\n",
      "Without Budget limit:  3929.4599999999996 Num Clicks:  128 With Budget limit:  3929.4599999999996 Num Clicks:  128 CTR:  0.0010356908786380665 won impressions:  123589 c  0.0003478260869565217\n",
      "Without Budget limit:  3982.453 Num Clicks:  129 With Budget limit:  3982.453 Num Clicks:  129 CTR:  0.001036519223815837 won impressions:  124455 c  0.0003511705685618729\n",
      "Without Budget limit:  4037.861000000001 Num Clicks:  129 With Budget limit:  4037.861000000001 Num Clicks:  129 CTR:  0.001028740948674599 won impressions:  125396 c  0.00035451505016722407\n",
      "Without Budget limit:  4097.496000000001 Num Clicks:  129 With Budget limit:  4097.496000000001 Num Clicks:  129 CTR:  0.001020593843208304 won impressions:  126397 c  0.0003578595317725752\n",
      "Without Budget limit:  4152.069000000001 Num Clicks:  131 With Budget limit:  4152.069000000001 Num Clicks:  131 CTR:  0.001029032866210017 won impressions:  127304 c  0.00036120401337792643\n",
      "Without Budget limit:  4211.93 Num Clicks:  132 With Budget limit:  4211.93 Num Clicks:  132 CTR:  0.001028991043100693 won impressions:  128281 c  0.0003645484949832776\n",
      "Without Budget limit:  4260.984 Num Clicks:  132 With Budget limit:  4260.984 Num Clicks:  132 CTR:  0.0010225503334908475 won impressions:  129089 c  0.00036789297658862874\n",
      "Without Budget limit:  4320.113 Num Clicks:  133 With Budget limit:  4320.113 Num Clicks:  133 CTR:  0.0010227543620858037 won impressions:  130041 c  0.00037123745819397995\n",
      "Without Budget limit:  4375.486000000002 Num Clicks:  133 With Budget limit:  4375.486000000002 Num Clicks:  133 CTR:  0.0010155927854732052 won impressions:  130958 c  0.0003745819397993311\n",
      "Without Budget limit:  4428.695 Num Clicks:  133 With Budget limit:  4428.695 Num Clicks:  133 CTR:  0.0010088214992756207 won impressions:  131837 c  0.00037792642140468225\n",
      "Without Budget limit:  4485.087 Num Clicks:  133 With Budget limit:  4485.087 Num Clicks:  133 CTR:  0.0010018530515088057 won impressions:  132754 c  0.00038127090301003346\n",
      "Without Budget limit:  4541.080000000001 Num Clicks:  135 With Budget limit:  4541.080000000001 Num Clicks:  135 CTR:  0.0010099423210718854 won impressions:  133671 c  0.0003846153846153846\n",
      "Without Budget limit:  4594.053000000001 Num Clicks:  135 With Budget limit:  4594.053000000001 Num Clicks:  135 CTR:  0.0010036055458499053 won impressions:  134515 c  0.00038795986622073577\n",
      "Without Budget limit:  4649.240000000001 Num Clicks:  135 With Budget limit:  4649.240000000001 Num Clicks:  135 CTR:  0.0009970310630566758 won impressions:  135402 c  0.000391304347826087\n",
      "Without Budget limit:  4701.459000000001 Num Clicks:  136 With Budget limit:  4701.459000000001 Num Clicks:  136 CTR:  0.0009981871160465918 won impressions:  136247 c  0.00039464882943143813\n",
      "Without Budget limit:  4752.661 Num Clicks:  136 With Budget limit:  4752.661 Num Clicks:  136 CTR:  0.000992258921210264 won impressions:  137061 c  0.0003979933110367893\n",
      "Without Budget limit:  4804.756000000001 Num Clicks:  137 With Budget limit:  4804.756000000001 Num Clicks:  137 CTR:  0.0009935960198139 won impressions:  137883 c  0.0004013377926421405\n",
      "Without Budget limit:  4855.991 Num Clicks:  137 With Budget limit:  4855.991 Num Clicks:  137 CTR:  0.0009878216729517122 won impressions:  138689 c  0.00040468227424749165\n",
      "Without Budget limit:  4906.304000000001 Num Clicks:  138 With Budget limit:  4906.304000000001 Num Clicks:  138 CTR:  0.0009893395083412791 won impressions:  139487 c  0.0004080267558528428\n",
      "Without Budget limit:  4955.778000000001 Num Clicks:  139 With Budget limit:  4955.778000000001 Num Clicks:  139 CTR:  0.0009909884218331146 won impressions:  140264 c  0.00041137123745819395\n",
      "Without Budget limit:  5007.464 Num Clicks:  139 With Budget limit:  5007.464 Num Clicks:  139 CTR:  0.0009852565920045364 won impressions:  141080 c  0.00041471571906354516\n",
      "Without Budget limit:  5062.125000000001 Num Clicks:  139 With Budget limit:  5062.125000000001 Num Clicks:  139 CTR:  0.0009793767218358733 won impressions:  141927 c  0.0004180602006688963\n",
      "Without Budget limit:  5119.281000000001 Num Clicks:  139 With Budget limit:  5119.281000000001 Num Clicks:  139 CTR:  0.0009732530457919058 won impressions:  142820 c  0.00042140468227424747\n",
      "Without Budget limit:  5172.158000000001 Num Clicks:  141 With Budget limit:  5172.158000000001 Num Clicks:  141 CTR:  0.0009815592172587348 won impressions:  143649 c  0.0004247491638795987\n",
      "Without Budget limit:  5226.046 Num Clicks:  143 With Budget limit:  5226.046 Num Clicks:  143 CTR:  0.000989811174483637 won impressions:  144472 c  0.00042809364548494983\n",
      "Without Budget limit:  5281.2029999999995 Num Clicks:  143 With Budget limit:  5281.2029999999995 Num Clicks:  143 CTR:  0.00098398783433223 won impressions:  145327 c  0.000431438127090301\n",
      "Without Budget limit:  5341.348 Num Clicks:  144 With Budget limit:  5341.348 Num Clicks:  144 CTR:  0.0009846153846153846 won impressions:  146250 c  0.0004347826086956522\n",
      "Without Budget limit:  5398.168000000001 Num Clicks:  144 With Budget limit:  5398.168000000001 Num Clicks:  144 CTR:  0.0009786797338534835 won impressions:  147137 c  0.00043812709030100334\n",
      "Without Budget limit:  5459.8110000000015 Num Clicks:  145 With Budget limit:  5459.8110000000015 Num Clicks:  145 CTR:  0.0009791541458737095 won impressions:  148087 c  0.0004414715719063545\n",
      "Without Budget limit:  5514.299 Num Clicks:  146 With Budget limit:  5514.299 Num Clicks:  146 CTR:  0.0009804975017460914 won impressions:  148904 c  0.0004448160535117057\n",
      "Without Budget limit:  5568.742000000001 Num Clicks:  146 With Budget limit:  5568.742000000001 Num Clicks:  146 CTR:  0.0009752122422534082 won impressions:  149711 c  0.00044816053511705686\n",
      "Without Budget limit:  5627.379000000002 Num Clicks:  147 With Budget limit:  5627.379000000002 Num Clicks:  147 CTR:  0.0009762252623190331 won impressions:  150580 c  0.000451505016722408\n",
      "Without Budget limit:  5686.93 Num Clicks:  148 With Budget limit:  5686.93 Num Clicks:  148 CTR:  0.0009771169767472567 won impressions:  151466 c  0.00045484949832775917\n"
     ]
    },
    {
     "name": "stdout",
     "output_type": "stream",
     "text": [
      "Without Budget limit:  5746.278000000001 Num Clicks:  148 With Budget limit:  5746.278000000001 Num Clicks:  148 CTR:  0.0009713453132588635 won impressions:  152366 c  0.0004581939799331104\n",
      "Without Budget limit:  5802.425 Num Clicks:  148 With Budget limit:  5802.425 Num Clicks:  148 CTR:  0.0009659250363853518 won impressions:  153221 c  0.00046153846153846153\n",
      "Without Budget limit:  5862.964000000001 Num Clicks:  148 With Budget limit:  5862.964000000001 Num Clicks:  148 CTR:  0.0009603218375888135 won impressions:  154115 c  0.0004648829431438127\n",
      "Without Budget limit:  5923.01 Num Clicks:  148 With Budget limit:  5923.01 Num Clicks:  148 CTR:  0.0009547339969164673 won impressions:  155017 c  0.0004682274247491639\n",
      "Without Budget limit:  5980.432000000002 Num Clicks:  148 With Budget limit:  5980.432000000002 Num Clicks:  148 CTR:  0.0009495396657363745 won impressions:  155865 c  0.00047157190635451504\n",
      "Without Budget limit:  6044.173000000001 Num Clicks:  148 With Budget limit:  6044.173000000001 Num Clicks:  148 CTR:  0.0009437993023537589 won impressions:  156813 c  0.0004749163879598662\n",
      "Without Budget limit:  6101.744000000001 Num Clicks:  148 With Budget limit:  6101.744000000001 Num Clicks:  148 CTR:  0.0009385800805403177 won impressions:  157685 c  0.0004782608695652174\n",
      "Without Budget limit:  6158.489000000002 Num Clicks:  148 With Budget limit:  6158.489000000002 Num Clicks:  148 CTR:  0.0009335654631241643 won impressions:  158532 c  0.00048160535117056856\n",
      "Without Budget limit:  6219.4980000000005 Num Clicks:  148 With Budget limit:  6219.4980000000005 Num Clicks:  148 CTR:  0.0009283245623388761 won impressions:  159427 c  0.0004849498327759197\n",
      "Without Budget limit:  6279.229 Num Clicks:  148 With Budget limit:  6249.986 Num Clicks:  147 CTR:  0.000921191156564897 won impressions:  159576 c  0.0004882943143812709\n",
      "Without Budget limit:  6341.012000000001 Num Clicks:  149 With Budget limit:  6249.969000000001 Num Clicks:  146 CTR:  0.000918579850384734 won impressions:  158941 c  0.0004916387959866221\n",
      "Without Budget limit:  6402.318000000001 Num Clicks:  150 With Budget limit:  6249.997000000001 Num Clicks:  145 CTR:  0.000915993884951168 won impressions:  158298 c  0.0004949832775919732\n",
      "Without Budget limit:  6458.662000000002 Num Clicks:  150 With Budget limit:  6249.993000000002 Num Clicks:  143 CTR:  0.0009067792848491766 won impressions:  157701 c  0.0004983277591973244\n",
      "Without Budget limit:  6514.117000000001 Num Clicks:  150 With Budget limit:  6249.9400000000005 Num Clicks:  140 CTR:  0.0008907609006865221 won impressions:  157169 c  0.0005016722408026755\n",
      "Without Budget limit:  6573.987000000001 Num Clicks:  150 With Budget limit:  6249.986000000001 Num Clicks:  136 CTR:  0.000868709838138917 won impressions:  156554 c  0.0005050167224080268\n",
      "Without Budget limit:  6630.485000000001 Num Clicks:  150 With Budget limit:  6249.955000000001 Num Clicks:  135 CTR:  0.0008654900276315705 won impressions:  155981 c  0.000508361204013378\n",
      "Without Budget limit:  6689.596000000001 Num Clicks:  150 With Budget limit:  6249.969000000001 Num Clicks:  133 CTR:  0.0008560156013670505 won impressions:  155371 c  0.0005117056856187291\n",
      "Without Budget limit:  6746.539000000002 Num Clicks:  150 With Budget limit:  6249.953000000001 Num Clicks:  133 CTR:  0.0008588180597169129 won impressions:  154864 c  0.0005150501672240803\n",
      "Without Budget limit:  6799.6100000000015 Num Clicks:  150 With Budget limit:  6249.971000000002 Num Clicks:  131 CTR:  0.0008484510910044754 won impressions:  154399 c  0.0005183946488294314\n",
      "Without Budget limit:  6852.656000000001 Num Clicks:  150 With Budget limit:  6249.995000000001 Num Clicks:  131 CTR:  0.0008512905825167009 won impressions:  153884 c  0.0005217391304347826\n",
      "Without Budget limit:  6905.21 Num Clicks:  150 With Budget limit:  6249.999000000001 Num Clicks:  131 CTR:  0.0008540322054892757 won impressions:  153390 c  0.0005250836120401338\n",
      "Without Budget limit:  6962.603 Num Clicks:  151 With Budget limit:  6249.998 Num Clicks:  130 CTR:  0.0008502455901685448 won impressions:  152897 c  0.000528428093645485\n",
      "Without Budget limit:  7017.522000000001 Num Clicks:  152 With Budget limit:  6249.9890000000005 Num Clicks:  130 CTR:  0.0008530127755067224 won impressions:  152401 c  0.0005317725752508361\n",
      "Without Budget limit:  7075.045000000002 Num Clicks:  152 With Budget limit:  6249.996000000002 Num Clicks:  129 CTR:  0.0008491702487608038 won impressions:  151913 c  0.0005351170568561873\n",
      "Without Budget limit:  7130.425 Num Clicks:  152 With Budget limit:  6249.945000000001 Num Clicks:  129 CTR:  0.0008520700679013976 won impressions:  151396 c  0.0005384615384615384\n",
      "Without Budget limit:  7189.2789999999995 Num Clicks:  152 With Budget limit:  6249.976 Num Clicks:  129 CTR:  0.0008548821057933173 won impressions:  150898 c  0.0005418060200668896\n",
      "Without Budget limit:  7240.853000000002 Num Clicks:  152 With Budget limit:  6249.960000000002 Num Clicks:  128 CTR:  0.0008506792141850759 won impressions:  150468 c  0.0005451505016722407\n",
      "Without Budget limit:  7292.229000000002 Num Clicks:  152 With Budget limit:  6249.930000000002 Num Clicks:  128 CTR:  0.0008533105783845764 won impressions:  150004 c  0.000548494983277592\n",
      "Without Budget limit:  7348.585 Num Clicks:  152 With Budget limit:  6249.958 Num Clicks:  127 CTR:  0.0008494585537800906 won impressions:  149507 c  0.0005518394648829432\n",
      "Without Budget limit:  7402.438 Num Clicks:  152 With Budget limit:  6249.972 Num Clicks:  126 CTR:  0.0008451384417256922 won impressions:  149088 c  0.0005551839464882943\n",
      "Without Budget limit:  7456.148 Num Clicks:  152 With Budget limit:  6249.953 Num Clicks:  126 CTR:  0.0008479081567418792 won impressions:  148601 c  0.0005585284280936455\n",
      "Without Budget limit:  7502.699000000001 Num Clicks:  153 With Budget limit:  6249.970000000001 Num Clicks:  125 CTR:  0.0008433808100504005 won impressions:  148213 c  0.0005618729096989966\n",
      "Without Budget limit:  7558.310000000001 Num Clicks:  153 With Budget limit:  6249.980000000001 Num Clicks:  123 CTR:  0.0008325267525364991 won impressions:  147743 c  0.0005652173913043478\n",
      "Without Budget limit:  7608.476000000001 Num Clicks:  153 With Budget limit:  6249.962 Num Clicks:  122 CTR:  0.0008278314209522776 won impressions:  147373 c  0.000568561872909699\n",
      "Without Budget limit:  7655.320000000001 Num Clicks:  153 With Budget limit:  6249.967000000001 Num Clicks:  122 CTR:  0.000829960202727984 won impressions:  146995 c  0.0005719063545150502\n",
      "Without Budget limit:  7704.164000000001 Num Clicks:  153 With Budget limit:  6249.993 Num Clicks:  120 CTR:  0.0008183808335208789 won impressions:  146631 c  0.0005752508361204013\n",
      "Without Budget limit:  7754.463000000002 Num Clicks:  153 With Budget limit:  6249.914000000002 Num Clicks:  120 CTR:  0.0008205408731922459 won impressions:  146245 c  0.0005785953177257525\n",
      "Without Budget limit:  7807.242000000002 Num Clicks:  154 With Budget limit:  6249.974000000001 Num Clicks:  121 CTR:  0.0008296365369188259 won impressions:  145847 c  0.0005819397993311037\n",
      "Without Budget limit:  7859.674000000001 Num Clicks:  154 With Budget limit:  6249.988 Num Clicks:  119 CTR:  0.0008182912154031288 won impressions:  145425 c  0.0005852842809364548\n",
      "Without Budget limit:  7910.348000000002 Num Clicks:  154 With Budget limit:  6249.9320000000025 Num Clicks:  118 CTR:  0.000813439677933036 won impressions:  145063 c  0.0005886287625418061\n",
      "Without Budget limit:  7961.278 Num Clicks:  154 With Budget limit:  6249.965 Num Clicks:  118 CTR:  0.0008155535742672113 won impressions:  144687 c  0.0005919732441471572\n",
      "Without Budget limit:  8011.391000000001 Num Clicks:  154 With Budget limit:  6249.979 Num Clicks:  118 CTR:  0.0008177351508305556 won impressions:  144301 c  0.0005953177257525084\n",
      "Without Budget limit:  8061.221 Num Clicks:  154 With Budget limit:  6249.951999999999 Num Clicks:  118 CTR:  0.0008198543716302596 won impressions:  143928 c  0.0005986622073578595\n",
      "Without Budget limit:  8111.754000000002 Num Clicks:  155 With Budget limit:  6249.937 Num Clicks:  119 CTR:  0.0008290834099712956 won impressions:  143532 c  0.0006020066889632107\n",
      "Without Budget limit:  8161.004 Num Clicks:  157 With Budget limit:  6249.935000000001 Num Clicks:  120 CTR:  0.0008382698111098693 won impressions:  143152 c  0.0006053511705685618\n"
     ]
    },
    {
     "name": "stdout",
     "output_type": "stream",
     "text": [
      "Without Budget limit:  8209.532000000001 Num Clicks:  157 With Budget limit:  6249.979000000001 Num Clicks:  119 CTR:  0.0008332283045554482 won impressions:  142818 c  0.000608695652173913\n",
      "Without Budget limit:  8260.384 Num Clicks:  157 With Budget limit:  6249.977000000001 Num Clicks:  118 CTR:  0.0008284945972322664 won impressions:  142427 c  0.0006120401337792643\n",
      "Without Budget limit:  8303.076000000001 Num Clicks:  157 With Budget limit:  6249.988000000001 Num Clicks:  118 CTR:  0.0008302784247225956 won impressions:  142121 c  0.0006153846153846154\n",
      "Without Budget limit:  8350.427 Num Clicks:  157 With Budget limit:  6249.971 Num Clicks:  117 CTR:  0.0008253444225763444 won impressions:  141759 c  0.0006187290969899666\n",
      "Without Budget limit:  8400.673000000003 Num Clicks:  157 With Budget limit:  6249.968000000001 Num Clicks:  115 CTR:  0.0008134336803983703 won impressions:  141376 c  0.0006220735785953177\n",
      "Without Budget limit:  8446.600000000002 Num Clicks:  157 With Budget limit:  6249.974000000001 Num Clicks:  115 CTR:  0.0008151403459030338 won impressions:  141080 c  0.0006254180602006689\n",
      "Without Budget limit:  8493.423 Num Clicks:  157 With Budget limit:  6249.981000000001 Num Clicks:  115 CTR:  0.0008170108769013264 won impressions:  140757 c  0.00062876254180602\n",
      "Without Budget limit:  8537.17 Num Clicks:  157 With Budget limit:  6249.978 Num Clicks:  115 CTR:  0.0008188491964597233 won impressions:  140441 c  0.0006321070234113713\n",
      "Without Budget limit:  8582.894 Num Clicks:  157 With Budget limit:  6249.994000000001 Num Clicks:  115 CTR:  0.0008207602380918395 won impressions:  140114 c  0.0006354515050167224\n",
      "Without Budget limit:  8630.729000000003 Num Clicks:  157 With Budget limit:  6249.928000000002 Num Clicks:  115 CTR:  0.0008228450403909587 won impressions:  139759 c  0.0006387959866220736\n",
      "Without Budget limit:  8676.358 Num Clicks:  157 With Budget limit:  6249.988 Num Clicks:  115 CTR:  0.0008249049566028261 won impressions:  139410 c  0.0006421404682274247\n",
      "Without Budget limit:  8715.492999999999 Num Clicks:  157 With Budget limit:  6249.942999999999 Num Clicks:  114 CTR:  0.0008194600189769689 won impressions:  139116 c  0.0006454849498327759\n",
      "Without Budget limit:  8760.899000000001 Num Clicks:  157 With Budget limit:  6249.997000000001 Num Clicks:  112 CTR:  0.0008070094535393129 won impressions:  138784 c  0.000648829431438127\n",
      "Without Budget limit:  8804.888 Num Clicks:  157 With Budget limit:  6249.935 Num Clicks:  111 CTR:  0.0008016350466176056 won impressions:  138467 c  0.0006521739130434782\n",
      "Without Budget limit:  8849.810000000001 Num Clicks:  157 With Budget limit:  6249.97 Num Clicks:  109 CTR:  0.0007890774309376267 won impressions:  138136 c  0.0006555183946488295\n",
      "Without Budget limit:  8893.041000000001 Num Clicks:  157 With Budget limit:  6249.991000000002 Num Clicks:  109 CTR:  0.0007905941060846733 won impressions:  137871 c  0.0006588628762541806\n",
      "Without Budget limit:  8934.467 Num Clicks:  157 With Budget limit:  6249.991 Num Clicks:  109 CTR:  0.0007921454059200151 won impressions:  137601 c  0.0006622073578595318\n",
      "Without Budget limit:  8975.912 Num Clicks:  157 With Budget limit:  6249.978 Num Clicks:  108 CTR:  0.0007862951664688795 won impressions:  137353 c  0.0006655518394648829\n",
      "Without Budget limit:  9022.568000000001 Num Clicks:  157 With Budget limit:  6249.991000000001 Num Clicks:  107 CTR:  0.0007808110218408167 won impressions:  137037 c  0.0006688963210702341\n",
      "Without Budget limit:  9065.52 Num Clicks:  157 With Budget limit:  6249.996000000001 Num Clicks:  107 CTR:  0.0007823925124305352 won impressions:  136760 c  0.0006722408026755852\n",
      "Without Budget limit:  9105.860000000002 Num Clicks:  157 With Budget limit:  6249.964000000001 Num Clicks:  106 CTR:  0.0007764032022969815 won impressions:  136527 c  0.0006755852842809365\n",
      "Without Budget limit:  9146.407000000003 Num Clicks:  157 With Budget limit:  6249.982000000002 Num Clicks:  106 CTR:  0.0007777190819980044 won impressions:  136296 c  0.0006789297658862876\n",
      "Without Budget limit:  9194.249000000003 Num Clicks:  157 With Budget limit:  6249.999000000002 Num Clicks:  105 CTR:  0.0007723598166932702 won impressions:  135947 c  0.0006822742474916388\n",
      "Without Budget limit:  9237.468 Num Clicks:  157 With Budget limit:  6249.94 Num Clicks:  105 CTR:  0.0007740052190066196 won impressions:  135658 c  0.00068561872909699\n",
      "Without Budget limit:  9279.866000000002 Num Clicks:  157 With Budget limit:  6249.974000000001 Num Clicks:  105 CTR:  0.0007755487930983544 won impressions:  135388 c  0.0006889632107023411\n",
      "Without Budget limit:  9320.162 Num Clicks:  158 With Budget limit:  6249.999000000001 Num Clicks:  105 CTR:  0.0007769030425002959 won impressions:  135152 c  0.0006923076923076923\n",
      "Without Budget limit:  9367.048 Num Clicks:  160 With Budget limit:  6249.982 Num Clicks:  106 CTR:  0.0007859595008415699 won impressions:  134867 c  0.0006956521739130434\n",
      "Without Budget limit:  9408.193 Num Clicks:  160 With Budget limit:  6249.9529999999995 Num Clicks:  105 CTR:  0.0007800254065418131 won impressions:  134611 c  0.0006989966555183947\n",
      "Without Budget limit:  9449.382000000001 Num Clicks:  160 With Budget limit:  6249.942 Num Clicks:  105 CTR:  0.0007814593194605698 won impressions:  134364 c  0.0007023411371237458\n",
      "Without Budget limit:  9494.355 Num Clicks:  161 With Budget limit:  6249.991 Num Clicks:  105 CTR:  0.000782968569404571 won impressions:  134105 c  0.000705685618729097\n",
      "Without Budget limit:  9540.197999999999 Num Clicks:  161 With Budget limit:  6249.995 Num Clicks:  103 CTR:  0.0007695813626820284 won impressions:  133839 c  0.0007090301003344481\n",
      "Without Budget limit:  9580.252999999999 Num Clicks:  162 With Budget limit:  6249.949 Num Clicks:  103 CTR:  0.0007709523132311884 won impressions:  133601 c  0.0007123745819397993\n",
      "Without Budget limit:  9619.077000000005 Num Clicks:  162 With Budget limit:  6249.943 Num Clicks:  103 CTR:  0.0007721776158453845 won impressions:  133389 c  0.0007157190635451504\n",
      "Without Budget limit:  9666.612000000005 Num Clicks:  163 With Budget limit:  6249.933000000001 Num Clicks:  103 CTR:  0.0007739530969395039 won impressions:  133083 c  0.0007190635451505017\n",
      "Without Budget limit:  9708.989000000001 Num Clicks:  163 With Budget limit:  6249.979 Num Clicks:  101 CTR:  0.0007603761226840525 won impressions:  132829 c  0.0007224080267558529\n",
      "Without Budget limit:  9752.28 Num Clicks:  164 With Budget limit:  6249.933000000001 Num Clicks:  102 CTR:  0.0007692365704115415 won impressions:  132599 c  0.000725752508361204\n",
      "Without Budget limit:  9794.233 Num Clicks:  164 With Budget limit:  6249.999000000001 Num Clicks:  100 CTR:  0.0007555666371995678 won impressions:  132351 c  0.0007290969899665552\n",
      "Without Budget limit:  9832.694 Num Clicks:  164 With Budget limit:  6249.944000000001 Num Clicks:  99 CTR:  0.0007491486946651532 won impressions:  132150 c  0.0007324414715719063\n",
      "Without Budget limit:  9877.025000000005 Num Clicks:  165 With Budget limit:  6249.950000000002 Num Clicks:  100 CTR:  0.0007584893925258455 won impressions:  131841 c  0.0007357859531772575\n",
      "Without Budget limit:  9917.314000000002 Num Clicks:  165 With Budget limit:  6249.957 Num Clicks:  100 CTR:  0.0007599534908463603 won impressions:  131587 c  0.0007391304347826087\n",
      "Without Budget limit:  9957.467000000004 Num Clicks:  165 With Budget limit:  6249.994000000002 Num Clicks:  99 CTR:  0.0007537573662651703 won impressions:  131342 c  0.0007424749163879599\n",
      "Without Budget limit:  10003.318000000001 Num Clicks:  165 With Budget limit:  6249.986000000002 Num Clicks:  99 CTR:  0.0007554829749240701 won impressions:  131042 c  0.000745819397993311\n",
      "Without Budget limit:  10043.397 Num Clicks:  165 With Budget limit:  6249.944 Num Clicks:  99 CTR:  0.0007568980939929815 won impressions:  130797 c  0.0007491638795986622\n",
      "Without Budget limit:  10080.374 Num Clicks:  165 With Budget limit:  6249.974 Num Clicks:  99 CTR:  0.000758138501948952 won impressions:  130583 c  0.0007525083612040134\n",
      "Without Budget limit:  10122.013000000003 Num Clicks:  166 With Budget limit:  6249.958000000001 Num Clicks:  100 CTR:  0.0007671888665551686 won impressions:  130346 c  0.0007558528428093645\n"
     ]
    },
    {
     "name": "stdout",
     "output_type": "stream",
     "text": [
      "Without Budget limit:  10165.082000000004 Num Clicks:  166 With Budget limit:  6249.990000000002 Num Clicks:  99 CTR:  0.0007608186100843048 won impressions:  130123 c  0.0007591973244147157\n",
      "Without Budget limit:  10201.838000000002 Num Clicks:  166 With Budget limit:  6249.927000000001 Num Clicks:  99 CTR:  0.0007619076937284992 won impressions:  129937 c  0.0007625418060200669\n",
      "Without Budget limit:  10239.061000000002 Num Clicks:  166 With Budget limit:  6249.962000000001 Num Clicks:  99 CTR:  0.0007633058080632849 won impressions:  129699 c  0.0007658862876254181\n",
      "Without Budget limit:  10279.957999999999 Num Clicks:  166 With Budget limit:  6249.952 Num Clicks:  99 CTR:  0.0007647149698748648 won impressions:  129460 c  0.0007692307692307692\n",
      "Without Budget limit:  10322.319 Num Clicks:  166 With Budget limit:  6249.977000000001 Num Clicks:  99 CTR:  0.0007660048591015305 won impressions:  129242 c  0.0007725752508361204\n",
      "Without Budget limit:  10364.684000000001 Num Clicks:  166 With Budget limit:  6249.925000000001 Num Clicks:  99 CTR:  0.0007673050541376344 won impressions:  129023 c  0.0007759197324414715\n",
      "Without Budget limit:  10406.493999999999 Num Clicks:  166 With Budget limit:  6249.993000000001 Num Clicks:  98 CTR:  0.0007608341226340388 won impressions:  128806 c  0.0007792642140468227\n",
      "Without Budget limit:  10448.284000000001 Num Clicks:  166 With Budget limit:  6249.981 Num Clicks:  98 CTR:  0.0007620588029455906 won impressions:  128599 c  0.000782608695652174\n",
      "Without Budget limit:  10488.826000000001 Num Clicks:  166 With Budget limit:  6249.973999999999 Num Clicks:  98 CTR:  0.0007634479803684805 won impressions:  128365 c  0.0007859531772575251\n",
      "Without Budget limit:  10527.638 Num Clicks:  166 With Budget limit:  6249.965000000001 Num Clicks:  98 CTR:  0.0007647228659940227 won impressions:  128151 c  0.0007892976588628763\n",
      "Without Budget limit:  10564.715000000002 Num Clicks:  166 With Budget limit:  6249.941000000001 Num Clicks:  97 CTR:  0.000758002000500125 won impressions:  127968 c  0.0007926421404682274\n",
      "Without Budget limit:  10602.241 Num Clicks:  166 With Budget limit:  6249.946000000001 Num Clicks:  96 CTR:  0.0007513736048714055 won impressions:  127766 c  0.0007959866220735786\n",
      "Without Budget limit:  10640.788000000004 Num Clicks:  167 With Budget limit:  6249.968000000001 Num Clicks:  97 CTR:  0.0007604443503688547 won impressions:  127557 c  0.0007993311036789297\n",
      "Without Budget limit:  10676.806999999999 Num Clicks:  167 With Budget limit:  6249.985000000001 Num Clicks:  97 CTR:  0.0007616564850731033 won impressions:  127354 c  0.000802675585284281\n",
      "Without Budget limit:  10709.208000000002 Num Clicks:  167 With Budget limit:  6249.969 Num Clicks:  97 CTR:  0.0007627705083039758 won impressions:  127168 c  0.0008060200668896321\n",
      "Without Budget limit:  10744.203000000001 Num Clicks:  167 With Budget limit:  6249.988000000002 Num Clicks:  95 CTR:  0.0007480256060975898 won impressions:  127001 c  0.0008093645484949833\n",
      "Without Budget limit:  10780.683 Num Clicks:  167 With Budget limit:  6249.9580000000005 Num Clicks:  95 CTR:  0.0007491227378464692 won impressions:  126815 c  0.0008127090301003344\n",
      "Without Budget limit:  10816.571000000002 Num Clicks:  167 With Budget limit:  6249.9980000000005 Num Clicks:  95 CTR:  0.0007503060458871382 won impressions:  126615 c  0.0008160535117056856\n",
      "Without Budget limit:  10851.171999999999 Num Clicks:  167 With Budget limit:  6249.976000000001 Num Clicks:  95 CTR:  0.000751409882226388 won impressions:  126429 c  0.0008193979933110368\n",
      "Without Budget limit:  10887.296000000002 Num Clicks:  167 With Budget limit:  6249.967000000001 Num Clicks:  95 CTR:  0.0007525348542458809 won impressions:  126240 c  0.0008227424749163879\n",
      "Without Budget limit:  10922.173 Num Clicks:  168 With Budget limit:  6249.983 Num Clicks:  94 CTR:  0.000745806820165347 won impressions:  126038 c  0.0008260869565217392\n",
      "Without Budget limit:  10957.902000000002 Num Clicks:  168 With Budget limit:  6249.935 Num Clicks:  94 CTR:  0.0007469090677939167 won impressions:  125852 c  0.0008294314381270903\n",
      "Without Budget limit:  10991.781000000003 Num Clicks:  168 With Budget limit:  6249.962000000001 Num Clicks:  94 CTR:  0.0007479907694756108 won impressions:  125670 c  0.0008327759197324415\n",
      "Without Budget limit:  11026.001000000002 Num Clicks:  168 With Budget limit:  6249.954000000002 Num Clicks:  94 CTR:  0.0007490338260488466 won impressions:  125495 c  0.0008361204013377926\n",
      "Without Budget limit:  11058.246000000003 Num Clicks:  168 With Budget limit:  6249.9490000000005 Num Clicks:  93 CTR:  0.0007421239107536149 won impressions:  125316 c  0.0008394648829431438\n",
      "Without Budget limit:  11088.487000000003 Num Clicks:  168 With Budget limit:  6249.983000000001 Num Clicks:  93 CTR:  0.0007431438982292399 won impressions:  125144 c  0.0008428093645484949\n",
      "Without Budget limit:  11121.351 Num Clicks:  168 With Budget limit:  6249.941000000002 Num Clicks:  93 CTR:  0.0007440654777620431 won impressions:  124989 c  0.0008461538461538462\n",
      "Without Budget limit:  11155.376999999999 Num Clicks:  169 With Budget limit:  6249.939 Num Clicks:  93 CTR:  0.0007451863366479436 won impressions:  124801 c  0.0008494983277591974\n",
      "Without Budget limit:  11185.096000000003 Num Clicks:  169 With Budget limit:  6249.972 Num Clicks:  90 CTR:  0.0007221433213778494 won impressions:  124629 c  0.0008528428093645485\n",
      "Without Budget limit:  11218.200000000003 Num Clicks:  169 With Budget limit:  6249.973000000001 Num Clicks:  90 CTR:  0.0007232168686316737 won impressions:  124444 c  0.0008561872909698997\n",
      "Without Budget limit:  11254.736 Num Clicks:  169 With Budget limit:  6249.944 Num Clicks:  90 CTR:  0.000724334417152239 won impressions:  124252 c  0.0008595317725752508\n",
      "Without Budget limit:  11286.580000000002 Num Clicks:  169 With Budget limit:  6249.894000000001 Num Clicks:  90 CTR:  0.0007252332833728183 won impressions:  124098 c  0.000862876254180602\n",
      "Without Budget limit:  11321.845999999998 Num Clicks:  169 With Budget limit:  6249.976 Num Clicks:  90 CTR:  0.0007262925990784154 won impressions:  123917 c  0.0008662207357859531\n",
      "Without Budget limit:  11352.602 Num Clicks:  169 With Budget limit:  6249.954000000001 Num Clicks:  90 CTR:  0.0007272786042715497 won impressions:  123749 c  0.0008695652173913044\n",
      "Without Budget limit:  11384.446000000005 Num Clicks:  169 With Budget limit:  6249.966000000002 Num Clicks:  90 CTR:  0.0007281906888683917 won impressions:  123594 c  0.0008729096989966555\n",
      "Without Budget limit:  11414.452000000001 Num Clicks:  169 With Budget limit:  6249.9839999999995 Num Clicks:  89 CTR:  0.000720957171903732 won impressions:  123447 c  0.0008762541806020067\n",
      "Without Budget limit:  11443.665000000003 Num Clicks:  169 With Budget limit:  6249.9980000000005 Num Clicks:  89 CTR:  0.0007217581704646825 won impressions:  123310 c  0.0008795986622073578\n",
      "Without Budget limit:  11474.571 Num Clicks:  169 With Budget limit:  6249.926 Num Clicks:  88 CTR:  0.0007144074882893999 won impressions:  123179 c  0.000882943143812709\n",
      "Without Budget limit:  11502.037 Num Clicks:  169 With Budget limit:  6249.977999999999 Num Clicks:  88 CTR:  0.0007151796888968353 won impressions:  123046 c  0.0008862876254180601\n",
      "Without Budget limit:  11533.850000000002 Num Clicks:  169 With Budget limit:  6249.991000000001 Num Clicks:  88 CTR:  0.0007161866317254401 won impressions:  122873 c  0.0008896321070234114\n",
      "Without Budget limit:  11567.408000000001 Num Clicks:  169 With Budget limit:  6249.997000000001 Num Clicks:  88 CTR:  0.0007172314864622557 won impressions:  122694 c  0.0008929765886287626\n",
      "Without Budget limit:  11598.343 Num Clicks:  169 With Budget limit:  6249.992000000001 Num Clicks:  88 CTR:  0.0007181387150213401 won impressions:  122539 c  0.0008963210702341137\n",
      "Without Budget limit:  11628.025000000003 Num Clicks:  169 With Budget limit:  6249.945 Num Clicks:  88 CTR:  0.0007189366273702442 won impressions:  122403 c  0.0008996655518394649\n",
      "Without Budget limit:  11659.393000000002 Num Clicks:  169 With Budget limit:  6249.9540000000015 Num Clicks:  88 CTR:  0.0007199777461423919 won impressions:  122226 c  0.000903010033444816\n"
     ]
    },
    {
     "name": "stdout",
     "output_type": "stream",
     "text": [
      "Without Budget limit:  11689.491000000002 Num Clicks:  169 With Budget limit:  6249.960000000002 Num Clicks:  88 CTR:  0.000720956906439456 won impressions:  122060 c  0.0009063545150501672\n",
      "Without Budget limit:  11718.269 Num Clicks:  169 With Budget limit:  6249.981 Num Clicks:  88 CTR:  0.0007218262203374538 won impressions:  121913 c  0.0009096989966555183\n",
      "Without Budget limit:  11747.795000000004 Num Clicks:  169 With Budget limit:  6249.997000000002 Num Clicks:  88 CTR:  0.0007226026834836019 won impressions:  121782 c  0.0009130434782608696\n",
      "Without Budget limit:  11775.109000000002 Num Clicks:  169 With Budget limit:  6249.876000000001 Num Clicks:  88 CTR:  0.0007234640775421953 won impressions:  121637 c  0.0009163879598662207\n",
      "Without Budget limit:  11802.509 Num Clicks:  169 With Budget limit:  6249.978 Num Clicks:  88 CTR:  0.0007242857965909184 won impressions:  121499 c  0.0009197324414715719\n",
      "Without Budget limit:  11834.982000000002 Num Clicks:  169 With Budget limit:  6249.967 Num Clicks:  87 CTR:  0.0007170349369091673 won impressions:  121333 c  0.0009230769230769231\n",
      "Without Budget limit:  11860.525 Num Clicks:  169 With Budget limit:  6249.980000000001 Num Clicks:  87 CTR:  0.0007177921702900045 won impressions:  121205 c  0.0009264214046822742\n",
      "Without Budget limit:  11888.905000000002 Num Clicks:  170 With Budget limit:  6249.986000000001 Num Clicks:  86 CTR:  0.0007103739375366545 won impressions:  121063 c  0.0009297658862876254\n",
      "Without Budget limit:  11914.281 Num Clicks:  171 With Budget limit:  6249.950000000001 Num Clicks:  87 CTR:  0.0007193649743674549 won impressions:  120940 c  0.0009331103678929766\n",
      "Without Budget limit:  11942.893 Num Clicks:  171 With Budget limit:  6249.996000000001 Num Clicks:  87 CTR:  0.0007201927136364766 won impressions:  120801 c  0.0009364548494983278\n",
      "Without Budget limit:  11968.646 Num Clicks:  171 With Budget limit:  6249.984000000001 Num Clicks:  87 CTR:  0.0007208909217460475 won impressions:  120684 c  0.0009397993311036789\n",
      "Without Budget limit:  11998.419000000002 Num Clicks:  171 With Budget limit:  6249.995000000001 Num Clicks:  86 CTR:  0.0007134265212161433 won impressions:  120545 c  0.0009431438127090301\n",
      "Without Budget limit:  12027.682999999997 Num Clicks:  171 With Budget limit:  6249.944 Num Clicks:  86 CTR:  0.000714119639950842 won impressions:  120428 c  0.0009464882943143812\n",
      "Without Budget limit:  12053.353999999998 Num Clicks:  171 With Budget limit:  6249.93 Num Clicks:  86 CTR:  0.0007148556988961298 won impressions:  120304 c  0.0009498327759197324\n",
      "Without Budget limit:  12078.998 Num Clicks:  171 With Budget limit:  6249.976 Num Clicks:  86 CTR:  0.0007156051856412988 won impressions:  120178 c  0.0009531772575250837\n",
      "Without Budget limit:  12106.857000000004 Num Clicks:  171 With Budget limit:  6249.978000000001 Num Clicks:  86 CTR:  0.0007165472421263123 won impressions:  120020 c  0.0009565217391304348\n",
      "Without Budget limit:  12132.378000000004 Num Clicks:  171 With Budget limit:  6249.952000000001 Num Clicks:  86 CTR:  0.0007171806461297263 won impressions:  119914 c  0.000959866220735786\n",
      "Without Budget limit:  12157.827000000001 Num Clicks:  171 With Budget limit:  6249.916000000001 Num Clicks:  85 CTR:  0.0007095217823187171 won impressions:  119799 c  0.0009632107023411371\n",
      "Without Budget limit:  12185.593 Num Clicks:  171 With Budget limit:  6249.986000000001 Num Clicks:  85 CTR:  0.0007103281716152863 won impressions:  119663 c  0.0009665551839464883\n",
      "Without Budget limit:  12213.915 Num Clicks:  171 With Budget limit:  6249.953000000001 Num Clicks:  85 CTR:  0.0007111007002250424 won impressions:  119533 c  0.0009698996655518394\n",
      "Without Budget limit:  12240.277 Num Clicks:  171 With Budget limit:  6249.987000000001 Num Clicks:  85 CTR:  0.0007117974140818651 won impressions:  119416 c  0.0009732441471571906\n",
      "Without Budget limit:  12269.053 Num Clicks:  171 With Budget limit:  6249.997000000001 Num Clicks:  85 CTR:  0.0007127105640475252 won impressions:  119263 c  0.0009765886287625418\n",
      "Without Budget limit:  12293.471000000001 Num Clicks:  172 With Budget limit:  6249.931000000001 Num Clicks:  86 CTR:  0.0007218701473118731 won impressions:  119135 c  0.0009799331103678929\n",
      "Without Budget limit:  12324.103000000005 Num Clicks:  172 With Budget limit:  6249.971000000001 Num Clicks:  85 CTR:  0.0007144117869540003 won impressions:  118979 c  0.0009832775919732441\n",
      "Without Budget limit:  12347.655000000004 Num Clicks:  172 With Budget limit:  6249.999000000002 Num Clicks:  85 CTR:  0.0007150668797846387 won impressions:  118870 c  0.0009866220735785954\n",
      "Without Budget limit:  12373.439000000004 Num Clicks:  172 With Budget limit:  6249.941000000001 Num Clicks:  85 CTR:  0.0007157171485828801 won impressions:  118762 c  0.0009899665551839465\n",
      "Without Budget limit:  12400.469000000005 Num Clicks:  172 With Budget limit:  6249.977000000002 Num Clicks:  85 CTR:  0.000716320304731085 won impressions:  118662 c  0.0009933110367892977\n",
      "Without Budget limit:  12424.354000000003 Num Clicks:  172 With Budget limit:  6249.999000000001 Num Clicks:  85 CTR:  0.0007170091439754361 won impressions:  118548 c  0.0009966555183946488\n",
      "Without Budget limit:  12451.440999999999 Num Clicks:  172 With Budget limit:  6249.944 Num Clicks:  85 CTR:  0.0007177296101461635 won impressions:  118429 c  0.001\n",
      "optimal c is:  0.00045484949832775917 , Optimal num clicks:  148 , impressions: 151466\n",
      "budget spent: 5686.93 , avgCPM: 37.54591789576539 , avgCPC: 38.425202702702705\n",
      "CTR:  0.09771169767472568 %\n"
     ]
    },
    {
     "data": {
      "image/png": "[encoded data removed]",
      "text/plain": [
       "<Figure size 432x288 with 1 Axes>"
      ]
     },
     "metadata": {
      "needs_background": "light"
     },
     "output_type": "display_data"
    }
   ],
   "source": [
    "budget = 6250\n",
    "optimal_basebid = 0\n",
    "optimal_num_clicks = 0\n",
    "num_won_auctions = 0\n",
    "base_bids_array = []\n",
    "num_clicks_array = []\n",
    "\n",
    "avg_ctr = 7.375e-04 \n",
    "\n",
    "\n",
    "# Line search to find optimal constant variable c, with fixed λ\n",
    "for bid in np.linspace(0.0, 0.001, 300):\n",
    "    validation_final['bid'] = ortb2(bid, lambda_ortb, predicted_XGB_CTR)\n",
    "        \n",
    "    Won_Auctions = validation_final[ (validation_final['bid'] >= validation_final['slotprice']) & (validation_final['bid'] >=validation_final['payprice']) ]\n",
    "    exceeding_indexes = np.flatnonzero( (Won_Auctions['payprice'].cumsum().values) > budget  )\n",
    "    \n",
    "    # Budget exceeded\n",
    "    if len(exceeding_indexes) > 0:\n",
    "        # Gives the first index as soon as the sum of the payprice exceeds the budget\n",
    "        ExceedBudget_Index = exceeding_indexes[0]\n",
    "        # Only consider the won auctions UP to ExceedBudget_Index\n",
    "        num_clicks = Won_Auctions[:ExceedBudget_Index]['click'].sum()\n",
    "        budget_spent = Won_Auctions[:ExceedBudget_Index]['payprice'].sum()\n",
    "        num_won_auctions = len(Won_Auctions[:ExceedBudget_Index])\n",
    "   \n",
    "    # No budget exceeded\n",
    "    else:\n",
    "        num_clicks = Won_Auctions[:]['click'].sum()\n",
    "        budget_spent = Won_Auctions[:]['payprice'].sum()\n",
    "        num_won_auctions = len(Won_Auctions[:])\n",
    "    \n",
    "    # Max clicks achieved --> optimal c\n",
    "    if num_clicks > optimal_num_clicks:\n",
    "        optimal_basebid = bid\n",
    "        optimal_num_clicks = num_clicks\n",
    "        optimal_impressions = num_won_auctions\n",
    "        opt_budget = budget_spent\n",
    "    \n",
    "    print ('Without Budget limit: ', Won_Auctions['payprice'].sum(), 'Num Clicks: ',Won_Auctions['click'].sum() , \n",
    "           'With Budget limit: ', budget_spent, \"Num Clicks: \", num_clicks , \n",
    "           \"CTR: \", num_clicks/num_won_auctions, 'won impressions: ', num_won_auctions , \"c \", bid)\n",
    "    \n",
    "    base_bids_array.append(bid)\n",
    "    num_clicks_array.append(num_clicks)\n",
    "\n",
    "\n",
    "# bids vs number of clicks, plot\n",
    "plt.plot(base_bids_array, num_clicks_array)\n",
    "plt.xlabel(\"c value\")\n",
    "plt.ylabel(\"KPI\")\n",
    "plt.title(\"c vs KPI \")\n",
    "plt.show()\n",
    "\n",
    "\n",
    "avgCPM = (opt_budget/optimal_impressions)*1000\n",
    "avgCPC = (opt_budget/optimal_num_clicks)\n",
    "\n",
    "optimal_bids = ortb2(optimal_basebid, lambda_ortb, predicted_XGB_CTR)\n",
    "\n",
    "\n",
    "print (\"Optimal c is: \", optimal_basebid, \", Optimal num clicks: \", optimal_num_clicks, ', impressions:', optimal_impressions)\n",
    "print('budget spent:', opt_budget , ', avgCPM:', avgCPM, ', avgCPC:', avgCPC)\n",
    "print('CTR: ' , (optimal_num_clicks/optimal_impressions)*100, '%')"
   ]
  },
  {
   "cell_type": "markdown",
   "metadata": {},
   "source": [
    "## Optimal bids for the validation set\n"
   ]
  },
  {
   "cell_type": "code",
   "execution_count": 22,
   "metadata": {},
   "outputs": [],
   "source": [
    "optimal_bids = optimal_bids * 1000\n",
    "aaa = pd.DataFrame(optimal_bids)\n",
    "aaa.to_csv('optimalbids_validation_ortb2.csv')"
   ]
  },
  {
   "cell_type": "markdown",
   "metadata": {},
   "source": [
    "## Optimal bids for the test set\n",
    "\n",
    "Similar steps of feature engineering must take place"
   ]
  },
  {
   "cell_type": "code",
   "execution_count": 22,
   "metadata": {},
   "outputs": [],
   "source": [
    "def preprocess_df(df):\n",
    "\n",
    "    \n",
    "    #---real price-----    \n",
    "    if 'bidprice' and 'payprice' in df.columns:\n",
    "        df['bidprice'] = df['bidprice'].apply( lambda x: x/1000.0 )\n",
    "        df['payprice'] = df['payprice'].apply( lambda x: x/1000.0 )\n",
    "       \n",
    "        \n",
    "    #---slot area-----  \n",
    "    df['slot_area']=df['slotwidth'] * df['slotheight'] \n",
    "    \n",
    "    #----real price---   \n",
    "    df['slotprice'] = df['slotprice'].apply( lambda x: x/1000.0 )\n",
    "    \n",
    "    \n",
    "    # ----browser/OS splitting--    \n",
    "    df['OS'] = df['useragent'].apply( lambda x: x.split('_')[0] )\n",
    "    df['browser'] = df['useragent'].apply( lambda x: x.split('_')[1] ) \n",
    "    df['OS'] = df['OS'].astype('category')\n",
    "    df['browser'] = df['browser'].astype('category')\n",
    "    cat_columns = df.select_dtypes(['category']).columns\n",
    "    df[cat_columns] = df[cat_columns].apply(lambda x: x.cat.codes)\n",
    "    \n",
    "    \n",
    "    df['advertiser'] = df['advertiser'].astype('category')\n",
    "    df['adexchange'] = df['adexchange'].astype('category')\n",
    "    df['city'] = df['city'].astype('category')\n",
    "    df['region'] = df['region'].astype('category')\n",
    "    df['weekday'] = df['weekday'].astype('category')\n",
    "\n",
    "    return df   \n",
    "        \n",
    "\n",
    "def tag(df):\n",
    "    df['usertag'] = df['usertag'].apply(lambda x: str(x).split(','))\n",
    "    \n",
    "    AllTags = np.array(df['usertag'])\n",
    "    Tags = [tag for usertags in AllTags for tag in usertags]\n",
    "    Tags = list(set(Tags))\n",
    "    \n",
    "    for t in Tags:\n",
    "        df['usertag_' + t] = df['usertag'].apply(lambda x: int(t in x))\n",
    "    \n",
    "    return df\n"
   ]
  },
  {
   "cell_type": "code",
   "execution_count": 23,
   "metadata": {},
   "outputs": [],
   "source": [
    "test_final = preprocess_df(test)\n",
    "test_final = tag(test)"
   ]
  },
  {
   "cell_type": "code",
   "execution_count": 24,
   "metadata": {},
   "outputs": [],
   "source": [
    "# Dropping the same columns as before, except for bidid\n",
    "test_final = test_final.drop(columns = ['usertag', 'useragent', 'slotheight', 'slotwidth','urlid','IP', 'domain', 'url','slotid', 'keypage','userid', 'creative', 'slotvisibility','slotformat'])"
   ]
  },
  {
   "cell_type": "code",
   "execution_count": 25,
   "metadata": {},
   "outputs": [
    {
     "data": {
      "text/plain": [
       "(303375, 80)"
      ]
     },
     "execution_count": 25,
     "metadata": {},
     "output_type": "execute_result"
    }
   ],
   "source": [
    "test_final.shape"
   ]
  },
  {
   "cell_type": "code",
   "execution_count": 26,
   "metadata": {},
   "outputs": [],
   "source": [
    "test_final_final = pd.DataFrame(0, index=range(0,len(test_final)), columns=list( train_final.columns ))\n",
    "\n",
    "for col in train_final:\n",
    "    if col in test_final:\n",
    "        test_final_final[col] = np.array( test_final[col] )"
   ]
  },
  {
   "cell_type": "code",
   "execution_count": 27,
   "metadata": {},
   "outputs": [
    {
     "data": {
      "text/plain": [
       "(303375, 80)"
      ]
     },
     "execution_count": 27,
     "metadata": {},
     "output_type": "execute_result"
    }
   ],
   "source": [
    "test_final_final.shape"
   ]
  },
  {
   "cell_type": "code",
   "execution_count": 29,
   "metadata": {},
   "outputs": [],
   "source": [
    "test_final_final['adexchange'] = test_final_final['adexchange'].fillna(4)\n",
    "X_test = test_final_final.astype(float)\n",
    "X_test = X_test.drop(columns = ['bidprice', 'payprice', 'click'])\n",
    "\n",
    "test_pred = model_xgb.predict(X_test)\n"
   ]
  },
  {
   "cell_type": "markdown",
   "metadata": {},
   "source": [
    "#### pCTR for the test set"
   ]
  },
  {
   "cell_type": "code",
   "execution_count": 30,
   "metadata": {},
   "outputs": [
    {
     "data": {
      "text/plain": [
       "array([0.15464635, 0.25799447, 0.01843025, ..., 0.01211043, 0.14158835,\n",
       "       0.01245131], dtype=float32)"
      ]
     },
     "execution_count": 30,
     "metadata": {},
     "output_type": "execute_result"
    }
   ],
   "source": [
    "test_pCTR = model_xgb.predict_proba(X_test)[:,1]\n",
    "test_pCTR"
   ]
  },
  {
   "cell_type": "markdown",
   "metadata": {},
   "source": [
    "#### Recalibration of the pCTR"
   ]
  },
  {
   "cell_type": "code",
   "execution_count": 31,
   "metadata": {},
   "outputs": [
    {
     "data": {
      "text/plain": [
       "array([1.3336581e-03, 2.5317755e-03, 1.3704824e-04, ..., 8.9481917e-05,\n",
       "       1.2026303e-03, 9.2032140e-05], dtype=float32)"
      ]
     },
     "execution_count": 31,
     "metadata": {},
     "output_type": "execute_result"
    }
   ],
   "source": [
    "test_pCTR_final = test_pCTR/(test_pCTR+((1-test_pCTR)/w)) \n",
    "test_pCTR_final"
   ]
  },
  {
   "cell_type": "code",
   "execution_count": 32,
   "metadata": {},
   "outputs": [],
   "source": [
    "final_bids = ortb2(optimal_basebid, lambda_ortb, test_pCTR_final)"
   ]
  },
  {
   "cell_type": "code",
   "execution_count": 35,
   "metadata": {},
   "outputs": [],
   "source": [
    "bbb = test[['bidid']]\n",
    "bbb['bidprice'] = final_bids*1000\n",
    "bbb.to_csv('Group_14_ortb2.csv', index=False)"
   ]
  }
 ],
 "metadata": {
  "kernelspec": {
   "display_name": "Python 3",
   "language": "python",
   "name": "python3"
  },
  "language_info": {
   "codemirror_mode": {
    "name": "ipython",
    "version": 3
   },
   "file_extension": ".py",
   "mimetype": "text/x-python",
   "name": "python",
   "nbconvert_exporter": "python",
   "pygments_lexer": "ipython3",
   "version": "3.7.1"
  }
 },
 "nbformat": 4,
 "nbformat_minor": 2
}
